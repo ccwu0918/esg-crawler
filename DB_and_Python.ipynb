{
  "cells": [
    {
      "cell_type": "markdown",
      "metadata": {
        "id": "view-in-github",
        "colab_type": "text"
      },
      "source": [
        "<a href=\"https://colab.research.google.com/github/ccwu0918/esg-crawler/blob/main/DB_and_Python.ipynb\" target=\"_parent\"><img src=\"https://colab.research.google.com/assets/colab-badge.svg\" alt=\"Open In Colab\"/></a>"
      ]
    },
    {
      "cell_type": "markdown",
      "metadata": {
        "id": "JSTo227IRit_"
      },
      "source": [
        "[MySQL in Google Colab: A Seamless Integration](https://drlee.io/mysql-in-google-colab-a-seamless-integration-ab4bd47c419d)"
      ]
    },
    {
      "cell_type": "code",
      "execution_count": null,
      "metadata": {
        "id": "HXQ80C91tojT"
      },
      "outputs": [],
      "source": [
        "import sqlite3"
      ]
    },
    {
      "cell_type": "code",
      "execution_count": null,
      "metadata": {
        "id": "uH8H7uF8yLEV"
      },
      "outputs": [],
      "source": [
        "conn = sqlite3.connect('lesson.db')"
      ]
    },
    {
      "cell_type": "code",
      "execution_count": null,
      "metadata": {
        "id": "HGk0q0h6yXGU"
      },
      "outputs": [],
      "source": [
        "conn.close()"
      ]
    },
    {
      "cell_type": "code",
      "execution_count": null,
      "metadata": {
        "id": "tR7sd8WTyYb5"
      },
      "outputs": [],
      "source": [
        "with sqlite3.connect('lesson.db') as conn:\n",
        "  pass"
      ]
    },
    {
      "cell_type": "code",
      "execution_count": null,
      "metadata": {
        "id": "FDgng9vAyiLT"
      },
      "outputs": [],
      "source": [
        "import sqlite3\n",
        "with sqlite3.connect(\"lesson.db\") as conn:\n",
        "  cursor = conn.cursor()"
      ]
    },
    {
      "cell_type": "code",
      "execution_count": null,
      "metadata": {
        "colab": {
          "base_uri": "https://localhost:8080/"
        },
        "id": "97EJ3YQzzlXp",
        "outputId": "5358606b-bf4d-4a3a-f814-29e145bdaf70"
      },
      "outputs": [
        {
          "data": {
            "text/plain": [
              "<sqlite3.Cursor at 0x7a42409afc40>"
            ]
          },
          "execution_count": 6,
          "metadata": {},
          "output_type": "execute_result"
        }
      ],
      "source": [
        "cursor.execute(\"CREATE TABLE IF NOT EXISTS user (email text, first_name  text, last_name text, address text, age integer, PRIMARY KEY (email))\")"
      ]
    },
    {
      "cell_type": "code",
      "execution_count": null,
      "metadata": {
        "colab": {
          "base_uri": "https://localhost:8080/"
        },
        "id": "_Ya3dJ9bz0j0",
        "outputId": "17c0dbe2-f227-4b3a-90e5-38f4b43f9004"
      },
      "outputs": [
        {
          "data": {
            "text/plain": [
              "<sqlite3.Cursor at 0x7a42409afc40>"
            ]
          },
          "execution_count": 7,
          "metadata": {},
          "output_type": "execute_result"
        }
      ],
      "source": [
        "cursor.execute(\"INSERT INTO user VALUES ('bob@example.com', 'Bob', 'Codd', '123  Fantasy lane, Fantasy City', 31)\")\n",
        "cursor.execute(\"INSERT INTO user VALUES ('tom@web.com', 'Tom', 'Fake', '456 Fantasy lane, Fantasy City', 39)\")"
      ]
    },
    {
      "cell_type": "code",
      "execution_count": null,
      "metadata": {
        "id": "e9cJGEtlz7iz"
      },
      "outputs": [],
      "source": [
        "conn.commit()"
      ]
    },
    {
      "cell_type": "code",
      "execution_count": null,
      "metadata": {
        "colab": {
          "base_uri": "https://localhost:8080/"
        },
        "id": "0L3wtE4X0K1w",
        "outputId": "af878837-eee7-46b1-cd25-025c56f1435c"
      },
      "outputs": [
        {
          "name": "stdout",
          "output_type": "stream",
          "text": [
            "('bob@example.com', 'Bob', 'Codd', '123  Fantasy lane, Fantasy City', 31)\n",
            "('tom@web.com', 'Tom', 'Fake', '456 Fantasy lane, Fantasy City', 39)\n"
          ]
        }
      ],
      "source": [
        "import sqlite3\n",
        "with sqlite3.connect(\"lesson.db\") as conn:\n",
        "  cursor = conn.cursor()\n",
        "  rows = cursor.execute('SELECT * FROM user')\n",
        "  for row in rows:\n",
        "    print(row)"
      ]
    },
    {
      "cell_type": "code",
      "execution_count": null,
      "metadata": {
        "colab": {
          "base_uri": "https://localhost:8080/"
        },
        "id": "awpAGZN2038t",
        "outputId": "c9b54672-62d8-4adc-e83d-3df44e9d6ba9"
      },
      "outputs": [
        {
          "name": "stdout",
          "output_type": "stream",
          "text": [
            "('tom@web.com', 'Tom', 'Fake', '456 Fantasy lane, Fantasy City', 39)\n",
            "('bob@example.com', 'Bob', 'Codd', '123  Fantasy lane, Fantasy City', 31)\n"
          ]
        }
      ],
      "source": [
        "import sqlite3\n",
        "with sqlite3.connect(\"lesson.db\") as conn:\n",
        "  cursor = conn.cursor()\n",
        "  rows = cursor.execute('SELECT * FROM user ORDER BY age DESC')\n",
        "  for row in rows:\n",
        "    print(row)"
      ]
    },
    {
      "cell_type": "code",
      "execution_count": null,
      "metadata": {
        "colab": {
          "base_uri": "https://localhost:8080/"
        },
        "id": "8uot75Oc1ClH",
        "outputId": "3dde5dd7-f87a-42ba-f4e2-4f96b689ca14"
      },
      "outputs": [
        {
          "name": "stdout",
          "output_type": "stream",
          "text": [
            "('bob@example.com', 'Bob', 'Codd', '123  Fantasy lane, Fantasy City', 31)\n",
            "('tom@web.com', 'Tom', 'Fake', '456 Fantasy lane, Fantasy City', 39)\n"
          ]
        }
      ],
      "source": [
        "import sqlite3\n",
        "with sqlite3.connect(\"lesson.db\") as conn:\n",
        "  cursor = conn.cursor()\n",
        "  rows = cursor.execute('SELECT * FROM user ORDER BY age')\n",
        "  for row in rows:\n",
        "    print(row)"
      ]
    },
    {
      "cell_type": "code",
      "execution_count": null,
      "metadata": {
        "id": "zBbVXaaT1Uxo"
      },
      "outputs": [],
      "source": [
        "import sqlite3\n",
        "with sqlite3.connect(\"lesson.db\") as conn:\n",
        "  cursor = conn.cursor()"
      ]
    },
    {
      "cell_type": "code",
      "execution_count": null,
      "metadata": {
        "id": "ZDT7tGmE1XHQ"
      },
      "outputs": [],
      "source": [
        "cursor.execute(\"ALTER TABLE user ADD COLUMN gender text\")\n",
        "conn.commit()"
      ]
    },
    {
      "cell_type": "code",
      "execution_count": null,
      "metadata": {
        "id": "DkfgMEtl1cQg"
      },
      "outputs": [],
      "source": [
        "cursor.execute(\"UPDATE user SET gender='M'\")\n",
        "conn.commit()"
      ]
    },
    {
      "cell_type": "code",
      "execution_count": null,
      "metadata": {
        "colab": {
          "base_uri": "https://localhost:8080/"
        },
        "id": "3ba09Rkt1gFY",
        "outputId": "fd2efd70-0a22-4d96-c465-74cc49b81e9d"
      },
      "outputs": [
        {
          "name": "stdout",
          "output_type": "stream",
          "text": [
            "('bob@example.com', 'Bob', 'Codd', '123  Fantasy lane, Fantasy City', 31, 'M')\n",
            "('tom@web.com', 'Tom', 'Fake', '456 Fantasy lane, Fantasy City', 39, 'M')\n"
          ]
        }
      ],
      "source": [
        "with sqlite3.connect(\"lesson.db\") as conn:\n",
        "  cursor = conn.cursor()\n",
        "  rows = cursor.execute('SELECT * FROM user ORDER BY age')\n",
        "  for row in rows:\n",
        "    print(row)"
      ]
    },
    {
      "cell_type": "code",
      "execution_count": null,
      "metadata": {
        "id": "zhz-qvAm1qH1"
      },
      "outputs": [],
      "source": [
        "# Groupby syntax:  SELECT count(*), col3 FROM <tablename> GROUP BY col3"
      ]
    },
    {
      "cell_type": "code",
      "execution_count": null,
      "metadata": {
        "id": "fJLS18zd10zv"
      },
      "outputs": [],
      "source": [
        "import sqlite3\n",
        "with sqlite3.connect(\"lesson.db\") as conn:\n",
        "  cursor = conn.cursor()"
      ]
    },
    {
      "cell_type": "code",
      "execution_count": null,
      "metadata": {
        "colab": {
          "base_uri": "https://localhost:8080/"
        },
        "id": "0oa15j9-15a_",
        "outputId": "8c9a74cb-f16e-4af8-e0fe-c24b9e7366ce"
      },
      "outputs": [
        {
          "name": "stdout",
          "output_type": "stream",
          "text": [
            "('tom@web.com', 'Tom', 'Fake', '456 Fantasy lane, Fantasy City', 39, 'M')\n",
            "('shelly@www.com', 'Shelly', 'Milar', '123, Ocean View Lane', 39, 'F')\n",
            "('bob@example.com', 'Bob', 'Codd', '123  Fantasy lane, Fantasy City', 31, 'M')\n"
          ]
        }
      ],
      "source": [
        "cursor.execute(\"INSERT INTO user VALUES ('shelly@www.com', 'Shelly','Milar','123, Ocean View Lane',39, 'F')\")\n",
        "conn.commit()\n",
        "cursor = conn.cursor()\n",
        "rows = cursor.execute('SELECT * FROM user ORDER BY age DESC')\n",
        "for row in rows:\n",
        "  print(row)"
      ]
    },
    {
      "cell_type": "code",
      "execution_count": null,
      "metadata": {
        "colab": {
          "base_uri": "https://localhost:8080/"
        },
        "id": "q8Lo1oTR2PKk",
        "outputId": "a036fbf4-5372-4ab9-f78b-61de8471b15a"
      },
      "outputs": [
        {
          "name": "stdout",
          "output_type": "stream",
          "text": [
            "(1, 'F')\n",
            "(2, 'M')\n"
          ]
        }
      ],
      "source": [
        "rows = cursor.execute(\"SELECT COUNT(*), \"\"gender FROM user GROUP BY gender\")\n",
        "for row in rows:\n",
        "  print(row)"
      ]
    },
    {
      "cell_type": "code",
      "execution_count": null,
      "metadata": {
        "id": "PLzjczIh3Hic"
      },
      "outputs": [],
      "source": [
        "import sqlite3\n",
        "with sqlite3.connect(\"lesson.db\") as conn:\n",
        "    cursor = conn.cursor()\n",
        "    cursor.execute(\"PRAGMA foreign_keys = 1\")\n",
        "    sql = \"\"\"\n",
        "        CREATE TABLE comments (\n",
        "            user_id text,\n",
        "            comments text,\n",
        "            FOREIGN KEY (user_id) REFERENCES user (email)\n",
        "            ON DELETE CASCADE ON UPDATE NO ACTION\n",
        "        )\n",
        "    \"\"\"\n",
        "    cursor.execute(sql)"
      ]
    },
    {
      "cell_type": "code",
      "execution_count": null,
      "metadata": {
        "colab": {
          "base_uri": "https://localhost:8080/"
        },
        "id": "3GPUKszr4KtC",
        "outputId": "1e91ca65-f5d4-4cd8-c8ac-e46c4494baec"
      },
      "outputs": [
        {
          "name": "stdout",
          "output_type": "stream",
          "text": [
            "Going to create rows for bob@example.com\n",
            "Going to create rows for tom@web.com\n",
            "Going to create rows for shelly@www.com\n"
          ]
        }
      ],
      "source": [
        "with sqlite3.connect(\"lesson.db\") as conn:\n",
        "    cursor = conn.cursor()\n",
        "    cursor.execute(\"PRAGMA foreign_keys = 1\")\n",
        "    sql = \"INSERT INTO comments VALUES ('{}', '{}')\"\n",
        "    rows = cursor.execute('SELECT * FROM user ORDER BY age')\n",
        "    for row in rows:\n",
        "        email = row[0]\n",
        "        print(\"Going to create rows for {}\".format(email))\n",
        "        name = row[1] + \" \" + row[2]\n",
        "        for i in range(10):\n",
        "            comment = \"This is comment {} by {}\".format(i, name)\n",
        "            conn.cursor().execute(sql.format(email, comment))\n",
        "    conn.commit()"
      ]
    },
    {
      "cell_type": "code",
      "execution_count": null,
      "metadata": {
        "colab": {
          "base_uri": "https://localhost:8080/"
        },
        "id": "u6UTLRR99Ovz",
        "outputId": "0d86a3e6-50e2-4909-c5e8-00809ec36516"
      },
      "outputs": [
        {
          "name": "stdout",
          "output_type": "stream",
          "text": [
            "('bob@example.com', 'This is comment 0 by Bob Codd', 'bob@example.com', 'Bob', 'Codd', '123  Fantasy lane, Fantasy City', 31, 'M')\n",
            "('bob@example.com', 'This is comment 1 by Bob Codd', 'bob@example.com', 'Bob', 'Codd', '123  Fantasy lane, Fantasy City', 31, 'M')\n",
            "('bob@example.com', 'This is comment 2 by Bob Codd', 'bob@example.com', 'Bob', 'Codd', '123  Fantasy lane, Fantasy City', 31, 'M')\n",
            "('bob@example.com', 'This is comment 3 by Bob Codd', 'bob@example.com', 'Bob', 'Codd', '123  Fantasy lane, Fantasy City', 31, 'M')\n",
            "('bob@example.com', 'This is comment 4 by Bob Codd', 'bob@example.com', 'Bob', 'Codd', '123  Fantasy lane, Fantasy City', 31, 'M')\n",
            "('bob@example.com', 'This is comment 5 by Bob Codd', 'bob@example.com', 'Bob', 'Codd', '123  Fantasy lane, Fantasy City', 31, 'M')\n",
            "('bob@example.com', 'This is comment 6 by Bob Codd', 'bob@example.com', 'Bob', 'Codd', '123  Fantasy lane, Fantasy City', 31, 'M')\n",
            "('bob@example.com', 'This is comment 7 by Bob Codd', 'bob@example.com', 'Bob', 'Codd', '123  Fantasy lane, Fantasy City', 31, 'M')\n",
            "('bob@example.com', 'This is comment 8 by Bob Codd', 'bob@example.com', 'Bob', 'Codd', '123  Fantasy lane, Fantasy City', 31, 'M')\n",
            "('bob@example.com', 'This is comment 9 by Bob Codd', 'bob@example.com', 'Bob', 'Codd', '123  Fantasy lane, Fantasy City', 31, 'M')\n"
          ]
        }
      ],
      "source": [
        "with sqlite3.connect(\"lesson.db\") as conn:\n",
        "    cursor = conn.cursor()\n",
        "    cursor.execute(\"PRAGMA foreign_keys = 1\")\n",
        "    sql = \"\"\"\n",
        "        SELECT * FROM comments\n",
        "        JOIN user ON comments.user_id = user.email\n",
        "        WHERE user.email='bob@example.com'\n",
        "    \"\"\"\n",
        "    rows = cursor.execute(sql)\n",
        "    for row in rows:\n",
        "        print(row)"
      ]
    },
    {
      "cell_type": "code",
      "execution_count": null,
      "metadata": {
        "colab": {
          "base_uri": "https://localhost:8080/"
        },
        "id": "_F7KioB89Ogs",
        "outputId": "3b5262d9-042c-482c-921d-5d6338fe2537"
      },
      "outputs": [
        {
          "name": "stdout",
          "output_type": "stream",
          "text": [
            "('bob@example.com', 'This is comment 0 by Bob Codd')\n",
            "('bob@example.com', 'This is comment 1 by Bob Codd')\n",
            "('bob@example.com', 'This is comment 2 by Bob Codd')\n",
            "('bob@example.com', 'This is comment 3 by Bob Codd')\n",
            "('bob@example.com', 'This is comment 4 by Bob Codd')\n",
            "('bob@example.com', 'This is comment 5 by Bob Codd')\n",
            "('bob@example.com', 'This is comment 6 by Bob Codd')\n",
            "('bob@example.com', 'This is comment 7 by Bob Codd')\n",
            "('bob@example.com', 'This is comment 8 by Bob Codd')\n",
            "('bob@example.com', 'This is comment 9 by Bob Codd')\n"
          ]
        }
      ],
      "source": [
        "with sqlite3.connect(\"lesson.db\") as conn:\n",
        "    cursor = conn.cursor()\n",
        "    cursor.execute(\"PRAGMA foreign_keys = 1\")\n",
        "    sql = \"\"\"\n",
        "        SELECT comments.* FROM comments\n",
        "        JOIN user ON comments.user_id = user.email\n",
        "        WHERE user.email='bob@example.com'\n",
        "    \"\"\"\n",
        "    rows = cursor.execute(sql)\n",
        "    for row in rows:\n",
        "        print(row)"
      ]
    },
    {
      "cell_type": "code",
      "execution_count": null,
      "metadata": {
        "id": "67LG4ODE9OVc"
      },
      "outputs": [],
      "source": [
        "with sqlite3.connect(\"lesson.db\") as conn:\n",
        "    cursor = conn.cursor()\n",
        "    cursor.execute(\"PRAGMA foreign_keys = 1\")\n",
        "    cursor.execute(\"DELETE FROM user WHERE email='bob@example.com'\")\n",
        "    conn.commit()"
      ]
    },
    {
      "cell_type": "code",
      "execution_count": null,
      "metadata": {
        "colab": {
          "base_uri": "https://localhost:8080/"
        },
        "id": "Cz1Mqohz-CgY",
        "outputId": "f23d354e-ae0e-4c9d-cd1f-16d8a387d151"
      },
      "outputs": [
        {
          "name": "stdout",
          "output_type": "stream",
          "text": [
            "('tom@web.com', 'Tom', 'Fake', '456 Fantasy lane, Fantasy City', 39, 'M')\n",
            "('shelly@www.com', 'Shelly', 'Milar', '123, Ocean View Lane', 39, 'F')\n"
          ]
        }
      ],
      "source": [
        "with sqlite3.connect(\"lesson.db\") as conn:\n",
        "    cursor = conn.cursor()\n",
        "    cursor.execute(\"PRAGMA foreign_keys = 1\")\n",
        "    rows = cursor.execute(\"SELECT * FROM user\")\n",
        "    for row in rows:\n",
        "        print(row)"
      ]
    },
    {
      "cell_type": "code",
      "execution_count": null,
      "metadata": {
        "colab": {
          "base_uri": "https://localhost:8080/"
        },
        "id": "A8LAqJqw-Gi4",
        "outputId": "387a51c7-349e-41b3-d26c-0667545cf711"
      },
      "outputs": [
        {
          "name": "stdout",
          "output_type": "stream",
          "text": [
            "('tom@web.com', 'This is comment 0 by Tom Fake')\n",
            "('tom@web.com', 'This is comment 1 by Tom Fake')\n",
            "('tom@web.com', 'This is comment 2 by Tom Fake')\n",
            "('tom@web.com', 'This is comment 3 by Tom Fake')\n",
            "('tom@web.com', 'This is comment 4 by Tom Fake')\n",
            "('tom@web.com', 'This is comment 5 by Tom Fake')\n",
            "('tom@web.com', 'This is comment 6 by Tom Fake')\n",
            "('tom@web.com', 'This is comment 7 by Tom Fake')\n",
            "('tom@web.com', 'This is comment 8 by Tom Fake')\n",
            "('tom@web.com', 'This is comment 9 by Tom Fake')\n",
            "('shelly@www.com', 'This is comment 0 by Shelly Milar')\n",
            "('shelly@www.com', 'This is comment 1 by Shelly Milar')\n",
            "('shelly@www.com', 'This is comment 2 by Shelly Milar')\n",
            "('shelly@www.com', 'This is comment 3 by Shelly Milar')\n",
            "('shelly@www.com', 'This is comment 4 by Shelly Milar')\n",
            "('shelly@www.com', 'This is comment 5 by Shelly Milar')\n",
            "('shelly@www.com', 'This is comment 6 by Shelly Milar')\n",
            "('shelly@www.com', 'This is comment 7 by Shelly Milar')\n",
            "('shelly@www.com', 'This is comment 8 by Shelly Milar')\n",
            "('shelly@www.com', 'This is comment 9 by Shelly Milar')\n"
          ]
        }
      ],
      "source": [
        "with sqlite3.connect(\"lesson.db\") as conn:\n",
        "    cursor = conn.cursor()\n",
        "    cursor.execute(\"PRAGMA foreign_keys = 1\")\n",
        "    rows = cursor.execute(\"SELECT * FROM comments\")\n",
        "    for row in rows:\n",
        "        print(row)"
      ]
    },
    {
      "cell_type": "code",
      "execution_count": null,
      "metadata": {
        "colab": {
          "base_uri": "https://localhost:8080/"
        },
        "id": "upFFkBEp-dX6",
        "outputId": "6628b7db-61f5-4c82-8a33-115256137995"
      },
      "outputs": [
        {
          "name": "stdout",
          "output_type": "stream",
          "text": [
            "Collecting mysql-connector-python\n",
            "  Downloading mysql_connector_python-8.3.0-cp310-cp310-manylinux_2_17_x86_64.whl (21.5 MB)\n",
            "\u001b[2K     \u001b[90m━━━━━━━━━━━━━━━━━━━━━━━━━━━━━━━━━━━━━━━━\u001b[0m \u001b[32m21.5/21.5 MB\u001b[0m \u001b[31m37.7 MB/s\u001b[0m eta \u001b[36m0:00:00\u001b[0m\n",
            "\u001b[?25hInstalling collected packages: mysql-connector-python\n",
            "Successfully installed mysql-connector-python-8.3.0\n"
          ]
        }
      ],
      "source": [
        "!pip install -q mysql-connector-python"
      ]
    },
    {
      "cell_type": "code",
      "execution_count": null,
      "metadata": {
        "colab": {
          "base_uri": "https://localhost:8080/"
        },
        "id": "jghNfDFZ-dF3",
        "outputId": "817bee8d-f147-4a0f-8744-82655525ab83"
      },
      "outputs": [
        {
          "name": "stdout",
          "output_type": "stream",
          "text": [
            "Reading package lists... Done\n",
            "Building dependency tree... Done\n",
            "Reading state information... Done\n",
            "The following additional packages will be installed:\n",
            "  libcgi-fast-perl libcgi-pm-perl libclone-perl libencode-locale-perl libfcgi-bin libfcgi-perl\n",
            "  libfcgi0ldbl libhtml-parser-perl libhtml-tagset-perl libhtml-template-perl libhttp-date-perl\n",
            "  libhttp-message-perl libio-html-perl liblwp-mediatypes-perl libmecab2 libprotobuf-lite23\n",
            "  liburi-perl mecab-ipadic mecab-ipadic-utf8 mecab-utils mysql-client-8.0 mysql-client-core-8.0\n",
            "  mysql-server-8.0 mysql-server-core-8.0\n",
            "Suggested packages:\n",
            "  libdata-dump-perl libipc-sharedcache-perl libbusiness-isbn-perl libwww-perl mailx tinyca\n",
            "The following NEW packages will be installed:\n",
            "  libcgi-fast-perl libcgi-pm-perl libclone-perl libencode-locale-perl libfcgi-bin libfcgi-perl\n",
            "  libfcgi0ldbl libhtml-parser-perl libhtml-tagset-perl libhtml-template-perl libhttp-date-perl\n",
            "  libhttp-message-perl libio-html-perl liblwp-mediatypes-perl libmecab2 libprotobuf-lite23\n",
            "  liburi-perl mecab-ipadic mecab-ipadic-utf8 mecab-utils mysql-client-8.0 mysql-client-core-8.0\n",
            "  mysql-server mysql-server-8.0 mysql-server-core-8.0\n",
            "0 upgraded, 25 newly installed, 0 to remove and 32 not upgraded.\n",
            "Need to get 29.4 MB of archives.\n",
            "After this operation, 243 MB of additional disk space will be used.\n",
            "Get:1 http://archive.ubuntu.com/ubuntu jammy-updates/main amd64 mysql-client-core-8.0 amd64 8.0.36-0ubuntu0.22.04.1 [2,692 kB]\n",
            "Get:2 http://archive.ubuntu.com/ubuntu jammy-updates/main amd64 mysql-client-8.0 amd64 8.0.36-0ubuntu0.22.04.1 [22.7 kB]\n",
            "Get:3 http://archive.ubuntu.com/ubuntu jammy/main amd64 libmecab2 amd64 0.996-14build9 [199 kB]\n",
            "Get:4 http://archive.ubuntu.com/ubuntu jammy-updates/main amd64 libprotobuf-lite23 amd64 3.12.4-1ubuntu7.22.04.1 [209 kB]\n",
            "Get:5 http://archive.ubuntu.com/ubuntu jammy-updates/main amd64 mysql-server-core-8.0 amd64 8.0.36-0ubuntu0.22.04.1 [17.5 MB]\n",
            "Get:6 http://archive.ubuntu.com/ubuntu jammy-updates/main amd64 mysql-server-8.0 amd64 8.0.36-0ubuntu0.22.04.1 [1,437 kB]\n",
            "Get:7 http://archive.ubuntu.com/ubuntu jammy/main amd64 libhtml-tagset-perl all 3.20-4 [12.5 kB]\n",
            "Get:8 http://archive.ubuntu.com/ubuntu jammy/main amd64 liburi-perl all 5.10-1 [78.8 kB]\n",
            "Get:9 http://archive.ubuntu.com/ubuntu jammy/main amd64 libhtml-parser-perl amd64 3.76-1build2 [88.4 kB]\n",
            "Get:10 http://archive.ubuntu.com/ubuntu jammy/main amd64 libcgi-pm-perl all 4.54-1 [188 kB]\n",
            "Get:11 http://archive.ubuntu.com/ubuntu jammy/main amd64 libfcgi0ldbl amd64 2.4.2-2build2 [28.0 kB]\n",
            "Get:12 http://archive.ubuntu.com/ubuntu jammy/main amd64 libfcgi-perl amd64 0.82+ds-1build1 [22.8 kB]\n",
            "Get:13 http://archive.ubuntu.com/ubuntu jammy/main amd64 libcgi-fast-perl all 1:2.15-1 [10.5 kB]\n",
            "Get:14 http://archive.ubuntu.com/ubuntu jammy/main amd64 libclone-perl amd64 0.45-1build3 [11.0 kB]\n",
            "Get:15 http://archive.ubuntu.com/ubuntu jammy/main amd64 libencode-locale-perl all 1.05-1.1 [11.8 kB]\n",
            "Get:16 http://archive.ubuntu.com/ubuntu jammy/main amd64 libfcgi-bin amd64 2.4.2-2build2 [11.2 kB]\n",
            "Get:17 http://archive.ubuntu.com/ubuntu jammy/main amd64 libhtml-template-perl all 2.97-1.1 [59.1 kB]\n",
            "Get:18 http://archive.ubuntu.com/ubuntu jammy/main amd64 libhttp-date-perl all 6.05-1 [9,920 B]\n",
            "Get:19 http://archive.ubuntu.com/ubuntu jammy/main amd64 libio-html-perl all 1.004-2 [15.4 kB]\n",
            "Get:20 http://archive.ubuntu.com/ubuntu jammy/main amd64 liblwp-mediatypes-perl all 6.04-1 [19.5 kB]\n",
            "Get:21 http://archive.ubuntu.com/ubuntu jammy/main amd64 libhttp-message-perl all 6.36-1 [76.8 kB]\n",
            "Get:22 http://archive.ubuntu.com/ubuntu jammy/main amd64 mecab-utils amd64 0.996-14build9 [4,850 B]\n",
            "Get:23 http://archive.ubuntu.com/ubuntu jammy/main amd64 mecab-ipadic all 2.7.0-20070801+main-3 [6,718 kB]\n",
            "Get:24 http://archive.ubuntu.com/ubuntu jammy/main amd64 mecab-ipadic-utf8 all 2.7.0-20070801+main-3 [4,384 B]\n",
            "Get:25 http://archive.ubuntu.com/ubuntu jammy-updates/main amd64 mysql-server all 8.0.36-0ubuntu0.22.04.1 [9,460 B]\n",
            "Fetched 29.4 MB in 4s (7,877 kB/s)\n",
            "Preconfiguring packages ...\n",
            "Selecting previously unselected package mysql-client-core-8.0.\n",
            "(Reading database ... 121747 files and directories currently installed.)\n",
            "Preparing to unpack .../00-mysql-client-core-8.0_8.0.36-0ubuntu0.22.04.1_amd64.deb ...\n",
            "Unpacking mysql-client-core-8.0 (8.0.36-0ubuntu0.22.04.1) ...\n",
            "Selecting previously unselected package mysql-client-8.0.\n",
            "Preparing to unpack .../01-mysql-client-8.0_8.0.36-0ubuntu0.22.04.1_amd64.deb ...\n",
            "Unpacking mysql-client-8.0 (8.0.36-0ubuntu0.22.04.1) ...\n",
            "Selecting previously unselected package libmecab2:amd64.\n",
            "Preparing to unpack .../02-libmecab2_0.996-14build9_amd64.deb ...\n",
            "Unpacking libmecab2:amd64 (0.996-14build9) ...\n",
            "Selecting previously unselected package libprotobuf-lite23:amd64.\n",
            "Preparing to unpack .../03-libprotobuf-lite23_3.12.4-1ubuntu7.22.04.1_amd64.deb ...\n",
            "Unpacking libprotobuf-lite23:amd64 (3.12.4-1ubuntu7.22.04.1) ...\n",
            "Selecting previously unselected package mysql-server-core-8.0.\n",
            "Preparing to unpack .../04-mysql-server-core-8.0_8.0.36-0ubuntu0.22.04.1_amd64.deb ...\n",
            "Unpacking mysql-server-core-8.0 (8.0.36-0ubuntu0.22.04.1) ...\n",
            "Selecting previously unselected package mysql-server-8.0.\n",
            "Preparing to unpack .../05-mysql-server-8.0_8.0.36-0ubuntu0.22.04.1_amd64.deb ...\n",
            "Unpacking mysql-server-8.0 (8.0.36-0ubuntu0.22.04.1) ...\n",
            "Selecting previously unselected package libhtml-tagset-perl.\n",
            "Preparing to unpack .../06-libhtml-tagset-perl_3.20-4_all.deb ...\n",
            "Unpacking libhtml-tagset-perl (3.20-4) ...\n",
            "Selecting previously unselected package liburi-perl.\n",
            "Preparing to unpack .../07-liburi-perl_5.10-1_all.deb ...\n",
            "Unpacking liburi-perl (5.10-1) ...\n",
            "Selecting previously unselected package libhtml-parser-perl:amd64.\n",
            "Preparing to unpack .../08-libhtml-parser-perl_3.76-1build2_amd64.deb ...\n",
            "Unpacking libhtml-parser-perl:amd64 (3.76-1build2) ...\n",
            "Selecting previously unselected package libcgi-pm-perl.\n",
            "Preparing to unpack .../09-libcgi-pm-perl_4.54-1_all.deb ...\n",
            "Unpacking libcgi-pm-perl (4.54-1) ...\n",
            "Selecting previously unselected package libfcgi0ldbl:amd64.\n",
            "Preparing to unpack .../10-libfcgi0ldbl_2.4.2-2build2_amd64.deb ...\n",
            "Unpacking libfcgi0ldbl:amd64 (2.4.2-2build2) ...\n",
            "Selecting previously unselected package libfcgi-perl:amd64.\n",
            "Preparing to unpack .../11-libfcgi-perl_0.82+ds-1build1_amd64.deb ...\n",
            "Unpacking libfcgi-perl:amd64 (0.82+ds-1build1) ...\n",
            "Selecting previously unselected package libcgi-fast-perl.\n",
            "Preparing to unpack .../12-libcgi-fast-perl_1%3a2.15-1_all.deb ...\n",
            "Unpacking libcgi-fast-perl (1:2.15-1) ...\n",
            "Selecting previously unselected package libclone-perl.\n",
            "Preparing to unpack .../13-libclone-perl_0.45-1build3_amd64.deb ...\n",
            "Unpacking libclone-perl (0.45-1build3) ...\n",
            "Selecting previously unselected package libencode-locale-perl.\n",
            "Preparing to unpack .../14-libencode-locale-perl_1.05-1.1_all.deb ...\n",
            "Unpacking libencode-locale-perl (1.05-1.1) ...\n",
            "Selecting previously unselected package libfcgi-bin.\n",
            "Preparing to unpack .../15-libfcgi-bin_2.4.2-2build2_amd64.deb ...\n",
            "Unpacking libfcgi-bin (2.4.2-2build2) ...\n",
            "Selecting previously unselected package libhtml-template-perl.\n",
            "Preparing to unpack .../16-libhtml-template-perl_2.97-1.1_all.deb ...\n",
            "Unpacking libhtml-template-perl (2.97-1.1) ...\n",
            "Selecting previously unselected package libhttp-date-perl.\n",
            "Preparing to unpack .../17-libhttp-date-perl_6.05-1_all.deb ...\n",
            "Unpacking libhttp-date-perl (6.05-1) ...\n",
            "Selecting previously unselected package libio-html-perl.\n",
            "Preparing to unpack .../18-libio-html-perl_1.004-2_all.deb ...\n",
            "Unpacking libio-html-perl (1.004-2) ...\n",
            "Selecting previously unselected package liblwp-mediatypes-perl.\n",
            "Preparing to unpack .../19-liblwp-mediatypes-perl_6.04-1_all.deb ...\n",
            "Unpacking liblwp-mediatypes-perl (6.04-1) ...\n",
            "Selecting previously unselected package libhttp-message-perl.\n",
            "Preparing to unpack .../20-libhttp-message-perl_6.36-1_all.deb ...\n",
            "Unpacking libhttp-message-perl (6.36-1) ...\n",
            "Selecting previously unselected package mecab-utils.\n",
            "Preparing to unpack .../21-mecab-utils_0.996-14build9_amd64.deb ...\n",
            "Unpacking mecab-utils (0.996-14build9) ...\n",
            "Selecting previously unselected package mecab-ipadic.\n",
            "Preparing to unpack .../22-mecab-ipadic_2.7.0-20070801+main-3_all.deb ...\n",
            "Unpacking mecab-ipadic (2.7.0-20070801+main-3) ...\n",
            "Selecting previously unselected package mecab-ipadic-utf8.\n",
            "Preparing to unpack .../23-mecab-ipadic-utf8_2.7.0-20070801+main-3_all.deb ...\n",
            "Unpacking mecab-ipadic-utf8 (2.7.0-20070801+main-3) ...\n",
            "Selecting previously unselected package mysql-server.\n",
            "Preparing to unpack .../24-mysql-server_8.0.36-0ubuntu0.22.04.1_all.deb ...\n",
            "Unpacking mysql-server (8.0.36-0ubuntu0.22.04.1) ...\n",
            "Setting up libhttp-date-perl (6.05-1) ...\n",
            "Setting up libmecab2:amd64 (0.996-14build9) ...\n",
            "Setting up mysql-client-core-8.0 (8.0.36-0ubuntu0.22.04.1) ...\n",
            "Setting up libfcgi0ldbl:amd64 (2.4.2-2build2) ...\n",
            "Setting up libclone-perl (0.45-1build3) ...\n",
            "Setting up libhtml-tagset-perl (3.20-4) ...\n",
            "Setting up liblwp-mediatypes-perl (6.04-1) ...\n",
            "Setting up libfcgi-bin (2.4.2-2build2) ...\n",
            "Setting up libencode-locale-perl (1.05-1.1) ...\n",
            "Setting up libprotobuf-lite23:amd64 (3.12.4-1ubuntu7.22.04.1) ...\n",
            "Setting up mecab-utils (0.996-14build9) ...\n",
            "Setting up libio-html-perl (1.004-2) ...\n",
            "Setting up mysql-server-core-8.0 (8.0.36-0ubuntu0.22.04.1) ...\n",
            "Setting up mysql-client-8.0 (8.0.36-0ubuntu0.22.04.1) ...\n",
            "Setting up libfcgi-perl:amd64 (0.82+ds-1build1) ...\n",
            "Setting up liburi-perl (5.10-1) ...\n",
            "Setting up libhttp-message-perl (6.36-1) ...\n",
            "Setting up mysql-server-8.0 (8.0.36-0ubuntu0.22.04.1) ...\n",
            "invoke-rc.d: could not determine current runlevel\n",
            "invoke-rc.d: policy-rc.d denied execution of stop.\n",
            "update-alternatives: using /etc/mysql/mysql.cnf to provide /etc/mysql/my.cnf (my.cnf) in auto mode\n",
            "Renaming removed key_buffer and myisam-recover options (if present)\n",
            "mysqld will log errors to /var/log/mysql/error.log\n",
            "mysqld is running as pid 1504\n",
            "Created symlink /etc/systemd/system/multi-user.target.wants/mysql.service → /lib/systemd/system/mysql.service.\n",
            "invoke-rc.d: could not determine current runlevel\n",
            "invoke-rc.d: policy-rc.d denied execution of start.\n",
            "Setting up mecab-ipadic (2.7.0-20070801+main-3) ...\n",
            "Compiling IPA dictionary for Mecab.  This takes long time...\n",
            "reading /usr/share/mecab/dic/ipadic/unk.def ... 40\n",
            "emitting double-array: 100% |###########################################| \n",
            "/usr/share/mecab/dic/ipadic/model.def is not found. skipped.\n",
            "reading /usr/share/mecab/dic/ipadic/Noun.adverbal.csv ... 795\n",
            "reading /usr/share/mecab/dic/ipadic/Noun.proper.csv ... 27328\n",
            "reading /usr/share/mecab/dic/ipadic/Noun.place.csv ... 72999\n",
            "reading /usr/share/mecab/dic/ipadic/Noun.adjv.csv ... 3328\n",
            "reading /usr/share/mecab/dic/ipadic/Adnominal.csv ... 135\n",
            "reading /usr/share/mecab/dic/ipadic/Conjunction.csv ... 171\n",
            "reading /usr/share/mecab/dic/ipadic/Noun.org.csv ... 16668\n",
            "reading /usr/share/mecab/dic/ipadic/Prefix.csv ... 221\n",
            "reading /usr/share/mecab/dic/ipadic/Symbol.csv ... 208\n",
            "reading /usr/share/mecab/dic/ipadic/Adverb.csv ... 3032\n",
            "reading /usr/share/mecab/dic/ipadic/Noun.csv ... 60477\n",
            "reading /usr/share/mecab/dic/ipadic/Noun.name.csv ... 34202\n",
            "reading /usr/share/mecab/dic/ipadic/Postp-col.csv ... 91\n",
            "reading /usr/share/mecab/dic/ipadic/Others.csv ... 2\n",
            "reading /usr/share/mecab/dic/ipadic/Auxil.csv ... 199\n",
            "reading /usr/share/mecab/dic/ipadic/Noun.demonst.csv ... 120\n",
            "reading /usr/share/mecab/dic/ipadic/Noun.verbal.csv ... 12146\n",
            "reading /usr/share/mecab/dic/ipadic/Postp.csv ... 146\n",
            "reading /usr/share/mecab/dic/ipadic/Noun.others.csv ... 151\n",
            "reading /usr/share/mecab/dic/ipadic/Adj.csv ... 27210\n",
            "reading /usr/share/mecab/dic/ipadic/Noun.nai.csv ... 42\n",
            "reading /usr/share/mecab/dic/ipadic/Noun.number.csv ... 42\n",
            "reading /usr/share/mecab/dic/ipadic/Verb.csv ... 130750\n",
            "reading /usr/share/mecab/dic/ipadic/Filler.csv ... 19\n",
            "reading /usr/share/mecab/dic/ipadic/Interjection.csv ... 252\n",
            "reading /usr/share/mecab/dic/ipadic/Suffix.csv ... 1393\n",
            "emitting double-array: 100% |###########################################| \n",
            "reading /usr/share/mecab/dic/ipadic/matrix.def ... 1316x1316\n",
            "emitting matrix      : 100% |###########################################| \n",
            "\n",
            "done!\n",
            "update-alternatives: using /var/lib/mecab/dic/ipadic to provide /var/lib/mecab/dic/debian (mecab-dictionary) in auto mode\n",
            "Setting up mecab-ipadic-utf8 (2.7.0-20070801+main-3) ...\n",
            "Compiling IPA dictionary for Mecab.  This takes long time...\n",
            "reading /usr/share/mecab/dic/ipadic/unk.def ... 40\n",
            "emitting double-array: 100% |###########################################| \n",
            "/usr/share/mecab/dic/ipadic/model.def is not found. skipped.\n",
            "reading /usr/share/mecab/dic/ipadic/Noun.adverbal.csv ... 795\n",
            "reading /usr/share/mecab/dic/ipadic/Noun.proper.csv ... 27328\n",
            "reading /usr/share/mecab/dic/ipadic/Noun.place.csv ... 72999\n",
            "reading /usr/share/mecab/dic/ipadic/Noun.adjv.csv ... 3328\n",
            "reading /usr/share/mecab/dic/ipadic/Adnominal.csv ... 135\n",
            "reading /usr/share/mecab/dic/ipadic/Conjunction.csv ... 171\n",
            "reading /usr/share/mecab/dic/ipadic/Noun.org.csv ... 16668\n",
            "reading /usr/share/mecab/dic/ipadic/Prefix.csv ... 221\n",
            "reading /usr/share/mecab/dic/ipadic/Symbol.csv ... 208\n",
            "reading /usr/share/mecab/dic/ipadic/Adverb.csv ... 3032\n",
            "reading /usr/share/mecab/dic/ipadic/Noun.csv ... 60477\n",
            "reading /usr/share/mecab/dic/ipadic/Noun.name.csv ... 34202\n",
            "reading /usr/share/mecab/dic/ipadic/Postp-col.csv ... 91\n",
            "reading /usr/share/mecab/dic/ipadic/Others.csv ... 2\n",
            "reading /usr/share/mecab/dic/ipadic/Auxil.csv ... 199\n",
            "reading /usr/share/mecab/dic/ipadic/Noun.demonst.csv ... 120\n",
            "reading /usr/share/mecab/dic/ipadic/Noun.verbal.csv ... 12146\n",
            "reading /usr/share/mecab/dic/ipadic/Postp.csv ... 146\n",
            "reading /usr/share/mecab/dic/ipadic/Noun.others.csv ... 151\n",
            "reading /usr/share/mecab/dic/ipadic/Adj.csv ... 27210\n",
            "reading /usr/share/mecab/dic/ipadic/Noun.nai.csv ... 42\n",
            "reading /usr/share/mecab/dic/ipadic/Noun.number.csv ... 42\n",
            "reading /usr/share/mecab/dic/ipadic/Verb.csv ... 130750\n",
            "reading /usr/share/mecab/dic/ipadic/Filler.csv ... 19\n",
            "reading /usr/share/mecab/dic/ipadic/Interjection.csv ... 252\n",
            "reading /usr/share/mecab/dic/ipadic/Suffix.csv ... 1393\n",
            "emitting double-array: 100% |###########################################| \n",
            "reading /usr/share/mecab/dic/ipadic/matrix.def ... 1316x1316\n",
            "emitting matrix      : 100% |###########################################| \n",
            "\n",
            "done!\n",
            "update-alternatives: using /var/lib/mecab/dic/ipadic-utf8 to provide /var/lib/mecab/dic/debian (mecab-dictionary) in auto mode\n",
            "Setting up libhtml-parser-perl:amd64 (3.76-1build2) ...\n",
            "Setting up mysql-server (8.0.36-0ubuntu0.22.04.1) ...\n",
            "Setting up libcgi-pm-perl (4.54-1) ...\n",
            "Setting up libhtml-template-perl (2.97-1.1) ...\n",
            "Setting up libcgi-fast-perl (1:2.15-1) ...\n",
            "Processing triggers for man-db (2.10.2-1) ...\n",
            "Processing triggers for libc-bin (2.35-0ubuntu3.4) ...\n",
            "/sbin/ldconfig.real: /usr/local/lib/libtbbbind_2_0.so.3 is not a symbolic link\n",
            "\n",
            "/sbin/ldconfig.real: /usr/local/lib/libtbbbind_2_5.so.3 is not a symbolic link\n",
            "\n",
            "/sbin/ldconfig.real: /usr/local/lib/libtbbmalloc.so.2 is not a symbolic link\n",
            "\n",
            "/sbin/ldconfig.real: /usr/local/lib/libtbb.so.12 is not a symbolic link\n",
            "\n",
            "/sbin/ldconfig.real: /usr/local/lib/libtbbbind.so.3 is not a symbolic link\n",
            "\n",
            "/sbin/ldconfig.real: /usr/local/lib/libtbbmalloc_proxy.so.2 is not a symbolic link\n",
            "\n"
          ]
        }
      ],
      "source": [
        "!apt-get -y -q install mysql-server"
      ]
    },
    {
      "cell_type": "code",
      "execution_count": null,
      "metadata": {
        "colab": {
          "base_uri": "https://localhost:8080/"
        },
        "id": "_7E8FEnj-c2M",
        "outputId": "12098834-895b-47b2-9079-76e06e027931"
      },
      "outputs": [
        {
          "name": "stdout",
          "output_type": "stream",
          "text": [
            " * Starting MySQL database server mysqld\n",
            "su: warning: cannot change directory to /nonexistent: No such file or directory\n",
            "   ...done.\n"
          ]
        }
      ],
      "source": [
        "!service mysql start"
      ]
    },
    {
      "cell_type": "code",
      "execution_count": null,
      "metadata": {
        "id": "5kX4thRY-cqF"
      },
      "outputs": [],
      "source": [
        "!mysql -e \"ALTER USER 'root'@'localhost' IDENTIFIED WITH 'mysql_native_password' BY 'root';FLUSH PRIVILEGES;\""
      ]
    },
    {
      "cell_type": "code",
      "execution_count": null,
      "metadata": {
        "id": "r_W9aAJLAapY"
      },
      "outputs": [],
      "source": [
        "import mysql.connector\n",
        "\n",
        "# Create a connection to the MySQL server\n",
        "conn = mysql.connector.connect(user='root', password='root', host='localhost')\n",
        "\n",
        "# Create a cursor to interact with the MySQL server\n",
        "cursor = conn.cursor()\n",
        "\n",
        "# Create a new database named 'library'\n",
        "cursor.execute(\"CREATE DATABASE IF NOT EXISTS library\")\n",
        "\n",
        "# Switch to the 'library' database\n",
        "cursor.execute(\"USE library\")\n",
        "\n",
        "# Create the 'books' table\n",
        "cursor.execute('''\n",
        "CREATE TABLE IF NOT EXISTS books (\n",
        "    id INT AUTO_INCREMENT PRIMARY KEY,\n",
        "    title VARCHAR(255) NOT NULL,\n",
        "    author VARCHAR(255) NOT NULL,\n",
        "    year_published INT\n",
        ")\n",
        "''')\n",
        "\n",
        "# Always remember to close the cursor and connection when done\n",
        "cursor.close()\n",
        "conn.close()\n"
      ]
    },
    {
      "cell_type": "code",
      "execution_count": null,
      "metadata": {
        "id": "TF6UPHFrA-TO"
      },
      "outputs": [],
      "source": [
        "import mysql.connector\n",
        "\n",
        "# Connect to the MySQL server and the 'library' database\n",
        "conn = mysql.connector.connect(user='root', password='root', host='localhost', database='library')\n",
        "cursor = conn.cursor()\n",
        "\n",
        "books_data = [\n",
        "    (\"To Kill a Mockingbird\", \"Harper Lee\", 1960),\n",
        "    (\"1984\", \"George Orwell\", 1949),\n",
        "    (\"The Great Gatsby\", \"F. Scott Fitzgerald\", 1925)\n",
        "]\n",
        "\n",
        "# Insert data using the cursor\n",
        "cursor.executemany('''\n",
        "INSERT INTO books (title, author, year_published) VALUES (%s, %s, %s)\n",
        "''', books_data)\n",
        "\n",
        "# Commit the changes\n",
        "conn.commit()\n",
        "\n",
        "# Close the cursor and connection\n",
        "cursor.close()\n",
        "conn.close()\n"
      ]
    },
    {
      "cell_type": "code",
      "execution_count": null,
      "metadata": {
        "colab": {
          "base_uri": "https://localhost:8080/"
        },
        "id": "H2ypzKZMA3Ef",
        "outputId": "dbbead47-76e4-47e3-f52f-c35302493762"
      },
      "outputs": [
        {
          "name": "stdout",
          "output_type": "stream",
          "text": [
            "(1, 'To Kill a Mockingbird', 'Harper Lee', 1960)\n",
            "(2, '1984', 'George Orwell', 1949)\n",
            "(3, 'The Great Gatsby', 'F. Scott Fitzgerald', 1925)\n"
          ]
        }
      ],
      "source": [
        "import mysql.connector\n",
        "\n",
        "# Connect to the MySQL server and the 'library' database\n",
        "conn = mysql.connector.connect(user='root', password='root', host='localhost', database='library')\n",
        "cursor = conn.cursor()\n",
        "\n",
        "# Execute the SELECT query\n",
        "cursor.execute(\"SELECT * FROM books\")\n",
        "\n",
        "# Fetch all the results\n",
        "records = cursor.fetchall()\n",
        "\n",
        "# Print the records\n",
        "for record in records:\n",
        "    print(record)\n",
        "\n",
        "# Close the cursor and connection\n",
        "cursor.close()\n",
        "conn.close()\n"
      ]
    },
    {
      "cell_type": "code",
      "execution_count": null,
      "metadata": {
        "colab": {
          "base_uri": "https://localhost:8080/"
        },
        "id": "pOvYfmvABnm4",
        "outputId": "0d6fc971-8d95-4754-ddf7-614edf2d3dbc"
      },
      "outputs": [
        {
          "name": "stdout",
          "output_type": "stream",
          "text": [
            "(2, '1984', 'George Orwell', 1949)\n",
            "(3, 'The Great Gatsby', 'F. Scott Fitzgerald', 1925)\n"
          ]
        }
      ],
      "source": [
        "import mysql.connector\n",
        "\n",
        "# Connect to the MySQL server and the 'library' database\n",
        "conn = mysql.connector.connect(user='root', password='root', host='localhost', database='library')\n",
        "cursor = conn.cursor()\n",
        "cursor.execute(\"SELECT * FROM books WHERE year_published < 1950\")\n",
        "classics = cursor.fetchall()\n",
        "\n",
        "\n",
        "for book in classics:\n",
        "    print(book)"
      ]
    },
    {
      "cell_type": "code",
      "execution_count": null,
      "metadata": {
        "id": "HAbJpBwlB4SV"
      },
      "outputs": [],
      "source": [
        "cursor.close()\n",
        "conn.close()"
      ]
    },
    {
      "cell_type": "code",
      "execution_count": null,
      "metadata": {
        "colab": {
          "base_uri": "https://localhost:8080/"
        },
        "id": "pbeiVu2eCMbI",
        "outputId": "5ec56ab2-4bf6-4428-a0b7-0350bc6eb6d0"
      },
      "outputs": [
        {
          "name": "stderr",
          "output_type": "stream",
          "text": [
            "<ipython-input-36-932dda814cd3>:8: UserWarning: pandas only supports SQLAlchemy connectable (engine/connection) or database string URI or sqlite3 DBAPI2 connection. Other DBAPI2 objects are not tested. Please consider using SQLAlchemy.\n",
            "  df = pd.read_sql(query, conn)\n"
          ]
        }
      ],
      "source": [
        "import pandas as pd\n",
        "\n",
        "# Connect to MySQL\n",
        "conn = mysql.connector.connect(user='root', password='root', host='localhost', database='library')\n",
        "\n",
        "# Fetch data into a pandas DataFrame\n",
        "query = \"SELECT * FROM books\"\n",
        "df = pd.read_sql(query, conn)"
      ]
    },
    {
      "cell_type": "code",
      "execution_count": null,
      "metadata": {
        "colab": {
          "base_uri": "https://localhost:8080/",
          "height": 143
        },
        "id": "O7NKv6XzCR_E",
        "outputId": "fe09f376-4d2c-4a2b-8542-6ae4de7c53db"
      },
      "outputs": [
        {
          "data": {
            "text/html": [
              "\n",
              "  <div id=\"df-60325a2a-ba40-4360-a3cf-19398d108383\" class=\"colab-df-container\">\n",
              "    <div>\n",
              "<style scoped>\n",
              "    .dataframe tbody tr th:only-of-type {\n",
              "        vertical-align: middle;\n",
              "    }\n",
              "\n",
              "    .dataframe tbody tr th {\n",
              "        vertical-align: top;\n",
              "    }\n",
              "\n",
              "    .dataframe thead th {\n",
              "        text-align: right;\n",
              "    }\n",
              "</style>\n",
              "<table border=\"1\" class=\"dataframe\">\n",
              "  <thead>\n",
              "    <tr style=\"text-align: right;\">\n",
              "      <th></th>\n",
              "      <th>id</th>\n",
              "      <th>title</th>\n",
              "      <th>author</th>\n",
              "      <th>year_published</th>\n",
              "    </tr>\n",
              "  </thead>\n",
              "  <tbody>\n",
              "    <tr>\n",
              "      <th>0</th>\n",
              "      <td>1</td>\n",
              "      <td>To Kill a Mockingbird</td>\n",
              "      <td>Harper Lee</td>\n",
              "      <td>1960</td>\n",
              "    </tr>\n",
              "    <tr>\n",
              "      <th>1</th>\n",
              "      <td>2</td>\n",
              "      <td>1984</td>\n",
              "      <td>George Orwell</td>\n",
              "      <td>1949</td>\n",
              "    </tr>\n",
              "    <tr>\n",
              "      <th>2</th>\n",
              "      <td>3</td>\n",
              "      <td>The Great Gatsby</td>\n",
              "      <td>F. Scott Fitzgerald</td>\n",
              "      <td>1925</td>\n",
              "    </tr>\n",
              "  </tbody>\n",
              "</table>\n",
              "</div>\n",
              "    <div class=\"colab-df-buttons\">\n",
              "\n",
              "  <div class=\"colab-df-container\">\n",
              "    <button class=\"colab-df-convert\" onclick=\"convertToInteractive('df-60325a2a-ba40-4360-a3cf-19398d108383')\"\n",
              "            title=\"Convert this dataframe to an interactive table.\"\n",
              "            style=\"display:none;\">\n",
              "\n",
              "  <svg xmlns=\"http://www.w3.org/2000/svg\" height=\"24px\" viewBox=\"0 -960 960 960\">\n",
              "    <path d=\"M120-120v-720h720v720H120Zm60-500h600v-160H180v160Zm220 220h160v-160H400v160Zm0 220h160v-160H400v160ZM180-400h160v-160H180v160Zm440 0h160v-160H620v160ZM180-180h160v-160H180v160Zm440 0h160v-160H620v160Z\"/>\n",
              "  </svg>\n",
              "    </button>\n",
              "\n",
              "  <style>\n",
              "    .colab-df-container {\n",
              "      display:flex;\n",
              "      gap: 12px;\n",
              "    }\n",
              "\n",
              "    .colab-df-convert {\n",
              "      background-color: #E8F0FE;\n",
              "      border: none;\n",
              "      border-radius: 50%;\n",
              "      cursor: pointer;\n",
              "      display: none;\n",
              "      fill: #1967D2;\n",
              "      height: 32px;\n",
              "      padding: 0 0 0 0;\n",
              "      width: 32px;\n",
              "    }\n",
              "\n",
              "    .colab-df-convert:hover {\n",
              "      background-color: #E2EBFA;\n",
              "      box-shadow: 0px 1px 2px rgba(60, 64, 67, 0.3), 0px 1px 3px 1px rgba(60, 64, 67, 0.15);\n",
              "      fill: #174EA6;\n",
              "    }\n",
              "\n",
              "    .colab-df-buttons div {\n",
              "      margin-bottom: 4px;\n",
              "    }\n",
              "\n",
              "    [theme=dark] .colab-df-convert {\n",
              "      background-color: #3B4455;\n",
              "      fill: #D2E3FC;\n",
              "    }\n",
              "\n",
              "    [theme=dark] .colab-df-convert:hover {\n",
              "      background-color: #434B5C;\n",
              "      box-shadow: 0px 1px 3px 1px rgba(0, 0, 0, 0.15);\n",
              "      filter: drop-shadow(0px 1px 2px rgba(0, 0, 0, 0.3));\n",
              "      fill: #FFFFFF;\n",
              "    }\n",
              "  </style>\n",
              "\n",
              "    <script>\n",
              "      const buttonEl =\n",
              "        document.querySelector('#df-60325a2a-ba40-4360-a3cf-19398d108383 button.colab-df-convert');\n",
              "      buttonEl.style.display =\n",
              "        google.colab.kernel.accessAllowed ? 'block' : 'none';\n",
              "\n",
              "      async function convertToInteractive(key) {\n",
              "        const element = document.querySelector('#df-60325a2a-ba40-4360-a3cf-19398d108383');\n",
              "        const dataTable =\n",
              "          await google.colab.kernel.invokeFunction('convertToInteractive',\n",
              "                                                    [key], {});\n",
              "        if (!dataTable) return;\n",
              "\n",
              "        const docLinkHtml = 'Like what you see? Visit the ' +\n",
              "          '<a target=\"_blank\" href=https://colab.research.google.com/notebooks/data_table.ipynb>data table notebook</a>'\n",
              "          + ' to learn more about interactive tables.';\n",
              "        element.innerHTML = '';\n",
              "        dataTable['output_type'] = 'display_data';\n",
              "        await google.colab.output.renderOutput(dataTable, element);\n",
              "        const docLink = document.createElement('div');\n",
              "        docLink.innerHTML = docLinkHtml;\n",
              "        element.appendChild(docLink);\n",
              "      }\n",
              "    </script>\n",
              "  </div>\n",
              "\n",
              "\n",
              "<div id=\"df-a7d304e1-5250-4ea3-8c6c-b78bd72d1c70\">\n",
              "  <button class=\"colab-df-quickchart\" onclick=\"quickchart('df-a7d304e1-5250-4ea3-8c6c-b78bd72d1c70')\"\n",
              "            title=\"Suggest charts\"\n",
              "            style=\"display:none;\">\n",
              "\n",
              "<svg xmlns=\"http://www.w3.org/2000/svg\" height=\"24px\"viewBox=\"0 0 24 24\"\n",
              "     width=\"24px\">\n",
              "    <g>\n",
              "        <path d=\"M19 3H5c-1.1 0-2 .9-2 2v14c0 1.1.9 2 2 2h14c1.1 0 2-.9 2-2V5c0-1.1-.9-2-2-2zM9 17H7v-7h2v7zm4 0h-2V7h2v10zm4 0h-2v-4h2v4z\"/>\n",
              "    </g>\n",
              "</svg>\n",
              "  </button>\n",
              "\n",
              "<style>\n",
              "  .colab-df-quickchart {\n",
              "      --bg-color: #E8F0FE;\n",
              "      --fill-color: #1967D2;\n",
              "      --hover-bg-color: #E2EBFA;\n",
              "      --hover-fill-color: #174EA6;\n",
              "      --disabled-fill-color: #AAA;\n",
              "      --disabled-bg-color: #DDD;\n",
              "  }\n",
              "\n",
              "  [theme=dark] .colab-df-quickchart {\n",
              "      --bg-color: #3B4455;\n",
              "      --fill-color: #D2E3FC;\n",
              "      --hover-bg-color: #434B5C;\n",
              "      --hover-fill-color: #FFFFFF;\n",
              "      --disabled-bg-color: #3B4455;\n",
              "      --disabled-fill-color: #666;\n",
              "  }\n",
              "\n",
              "  .colab-df-quickchart {\n",
              "    background-color: var(--bg-color);\n",
              "    border: none;\n",
              "    border-radius: 50%;\n",
              "    cursor: pointer;\n",
              "    display: none;\n",
              "    fill: var(--fill-color);\n",
              "    height: 32px;\n",
              "    padding: 0;\n",
              "    width: 32px;\n",
              "  }\n",
              "\n",
              "  .colab-df-quickchart:hover {\n",
              "    background-color: var(--hover-bg-color);\n",
              "    box-shadow: 0 1px 2px rgba(60, 64, 67, 0.3), 0 1px 3px 1px rgba(60, 64, 67, 0.15);\n",
              "    fill: var(--button-hover-fill-color);\n",
              "  }\n",
              "\n",
              "  .colab-df-quickchart-complete:disabled,\n",
              "  .colab-df-quickchart-complete:disabled:hover {\n",
              "    background-color: var(--disabled-bg-color);\n",
              "    fill: var(--disabled-fill-color);\n",
              "    box-shadow: none;\n",
              "  }\n",
              "\n",
              "  .colab-df-spinner {\n",
              "    border: 2px solid var(--fill-color);\n",
              "    border-color: transparent;\n",
              "    border-bottom-color: var(--fill-color);\n",
              "    animation:\n",
              "      spin 1s steps(1) infinite;\n",
              "  }\n",
              "\n",
              "  @keyframes spin {\n",
              "    0% {\n",
              "      border-color: transparent;\n",
              "      border-bottom-color: var(--fill-color);\n",
              "      border-left-color: var(--fill-color);\n",
              "    }\n",
              "    20% {\n",
              "      border-color: transparent;\n",
              "      border-left-color: var(--fill-color);\n",
              "      border-top-color: var(--fill-color);\n",
              "    }\n",
              "    30% {\n",
              "      border-color: transparent;\n",
              "      border-left-color: var(--fill-color);\n",
              "      border-top-color: var(--fill-color);\n",
              "      border-right-color: var(--fill-color);\n",
              "    }\n",
              "    40% {\n",
              "      border-color: transparent;\n",
              "      border-right-color: var(--fill-color);\n",
              "      border-top-color: var(--fill-color);\n",
              "    }\n",
              "    60% {\n",
              "      border-color: transparent;\n",
              "      border-right-color: var(--fill-color);\n",
              "    }\n",
              "    80% {\n",
              "      border-color: transparent;\n",
              "      border-right-color: var(--fill-color);\n",
              "      border-bottom-color: var(--fill-color);\n",
              "    }\n",
              "    90% {\n",
              "      border-color: transparent;\n",
              "      border-bottom-color: var(--fill-color);\n",
              "    }\n",
              "  }\n",
              "</style>\n",
              "\n",
              "  <script>\n",
              "    async function quickchart(key) {\n",
              "      const quickchartButtonEl =\n",
              "        document.querySelector('#' + key + ' button');\n",
              "      quickchartButtonEl.disabled = true;  // To prevent multiple clicks.\n",
              "      quickchartButtonEl.classList.add('colab-df-spinner');\n",
              "      try {\n",
              "        const charts = await google.colab.kernel.invokeFunction(\n",
              "            'suggestCharts', [key], {});\n",
              "      } catch (error) {\n",
              "        console.error('Error during call to suggestCharts:', error);\n",
              "      }\n",
              "      quickchartButtonEl.classList.remove('colab-df-spinner');\n",
              "      quickchartButtonEl.classList.add('colab-df-quickchart-complete');\n",
              "    }\n",
              "    (() => {\n",
              "      let quickchartButtonEl =\n",
              "        document.querySelector('#df-a7d304e1-5250-4ea3-8c6c-b78bd72d1c70 button');\n",
              "      quickchartButtonEl.style.display =\n",
              "        google.colab.kernel.accessAllowed ? 'block' : 'none';\n",
              "    })();\n",
              "  </script>\n",
              "</div>\n",
              "\n",
              "    </div>\n",
              "  </div>\n"
            ],
            "text/plain": [
              "   id                  title               author  year_published\n",
              "0   1  To Kill a Mockingbird           Harper Lee            1960\n",
              "1   2                   1984        George Orwell            1949\n",
              "2   3       The Great Gatsby  F. Scott Fitzgerald            1925"
            ]
          },
          "execution_count": 37,
          "metadata": {},
          "output_type": "execute_result"
        }
      ],
      "source": [
        "df.head()"
      ]
    },
    {
      "cell_type": "code",
      "execution_count": null,
      "metadata": {
        "colab": {
          "base_uri": "https://localhost:8080/"
        },
        "id": "6t66kdGjCTl9",
        "outputId": "710106c1-d462-4814-9f7f-1689f66c1663"
      },
      "outputs": [
        {
          "name": "stdout",
          "output_type": "stream",
          "text": [
            "mysqldump: [Warning] Using a password on the command line interface can be insecure.\n"
          ]
        }
      ],
      "source": [
        "!mysqldump -u root -proot library > library.sql\n"
      ]
    },
    {
      "cell_type": "code",
      "execution_count": null,
      "metadata": {
        "colab": {
          "base_uri": "https://localhost:8080/"
        },
        "id": "3tNR6NWaDomt",
        "outputId": "e6036149-6844-4989-8499-9775845125d3"
      },
      "outputs": [
        {
          "name": "stdout",
          "output_type": "stream",
          "text": [
            "total 36K\n",
            "drwxr-xr-x 4 root root 4.0K Feb  5 20:33 .config\n",
            "drwxr-xr-x 1 root root 4.0K Feb  5 20:33 sample_data\n",
            "drwxr-xr-x 1 root root 4.0K Feb  7 15:57 ..\n",
            "-rw-r--r-- 1 root root  16K Feb  7 16:00 lesson.db\n",
            "drwxr-xr-x 1 root root 4.0K Feb  7 16:01 .\n",
            "-rw-r--r-- 1 root root 2.1K Feb  7 16:01 library.sql\n"
          ]
        }
      ],
      "source": [
        "!ls -althr\n"
      ]
    },
    {
      "cell_type": "markdown",
      "metadata": {
        "id": "rfEuD-Xj-bRJ"
      },
      "source": [
        "\n",
        "\n",
        "---\n",
        "\n"
      ]
    },
    {
      "cell_type": "code",
      "execution_count": null,
      "metadata": {
        "colab": {
          "background_save": true
        },
        "id": "9h7tykCYUOhE"
      },
      "outputs": [],
      "source": [
        "import sqlite3\n",
        "with sqlite3.connect(\"hospital.db\") as conn:\n",
        "  cursor = conn.cursor()"
      ]
    },
    {
      "cell_type": "code",
      "execution_count": null,
      "metadata": {
        "colab": {
          "base_uri": "https://localhost:8080/"
        },
        "id": "h79SGYCqUOhF",
        "outputId": "7b382940-6a7e-462f-9384-dec51cefd26b"
      },
      "outputs": [
        {
          "data": {
            "text/plain": [
              "<sqlite3.Cursor at 0x7a4204a772c0>"
            ]
          },
          "execution_count": 56,
          "metadata": {},
          "output_type": "execute_result"
        }
      ],
      "source": [
        "cursor.execute(\"\"\"\n",
        "CREATE TABLE IF NOT EXISTS `hospital_data` (\n",
        "  `HospitalName` text,\n",
        "  `ProviderNo` int DEFAULT '0',\n",
        "  `State` text ,\n",
        "  `Period` text ,\n",
        "  `ClaimType` text ,\n",
        "  `HospitalAvgSpend` double DEFAULT '0',\n",
        "  `StateAvgSpend` double DEFAULT '0',\n",
        "  `NationalAvgSpend` double DEFAULT '0',\n",
        "  `HospitalSpendingPercentage` double DEFAULT '0',\n",
        "  `StateSpendingPercentage` double DEFAULT '0',\n",
        "  `NationalSpendPercentage` double DEFAULT '0',\n",
        "  `StartDate` date DEFAULT NULL,\n",
        "  `EndDate` date DEFAULT NULL)\n",
        "\"\"\"\n",
        ")"
      ]
    },
    {
      "cell_type": "code",
      "execution_count": null,
      "metadata": {
        "colab": {
          "base_uri": "https://localhost:8080/"
        },
        "id": "nbbnuEYYUOhF",
        "outputId": "4b5ae747-9d96-4cd8-837d-24d17b6a1272"
      },
      "outputs": [
        {
          "data": {
            "text/plain": [
              "<sqlite3.Cursor at 0x7a4204a772c0>"
            ]
          },
          "execution_count": 62,
          "metadata": {},
          "output_type": "execute_result"
        }
      ],
      "source": [
        "cursor.execute(\"INSERT INTO `hospital_data` VALUES ('FALMOUTH HOSPITAL',220135,'MA','1 through 30 days After Discharge from Index Hospital Admission','Hospice',104,88,122,0.0052,0.0043,0.006,'2021-08-13','2022-07-26'),('PALMS WEST HOSPITAL',100269,'FL','1 through 30 days After Discharge from Index Hospital Admission','Skilled Nursing Facility',3235,3534,3319,0.1676,0.1707,0.1619,'2022-03-03','2022-09-18'),('BAYLOR ORTHOPEDIC AND SPINE HOSPITAL AT ARLINGTON',670067,'TX','During Index Hospital Admission','Home Health Agency',0,0,0,0,0,0,'2023-03-24','2023-07-28'),('ST MARYS HOSPITAL ( TROY )',330232,'NY','1 to 3 days Prior to Index Hospital Admission','Outpatient',33,83,124,0.0022,0.0041,0.0061,'2022-12-27','2023-08-05'),('MARTIN LUTHER KING JR. COMMUNITY HOSPITAL',50779,'CA','1 to 3 days Prior to Index Hospital Admission','Home Health Agency',0,13,14,0,0.0006,0.0007,'2021-01-29','2021-05-19'),('KEARNEY REGIONAL MEDICAL CENTER',280134,'NE','1 to 3 days Prior to Index Hospital Admission','Outpatient',531,255,124,0.0241,0.0122,0.0061,'2022-02-11','2023-01-08'),('FRANKLIN WOODS COMMUNITY HOSPITAL',440184,'TN','1 through 30 days After Discharge from Index Hospital Admission','Inpatient',2158,2773,2702,0.1411,0.1345,0.1318,'2023-01-29','2023-10-25'),('OPELOUSAS GENERAL HEALTH SYSTEM',190017,'LA','1 to 3 days Prior to Index Hospital Admission','Hospice',3,1,1,0.0001,0,0,'2022-05-03','2022-12-08'),('CAROLINAS HEALTH CARE SYSTEM ANSON',340084,'NC','1 through 30 days After Discharge from Index Hospital Admission','Inpatient',1185,2229,2702,0.0915,0.1128,0.1318,'2022-05-07','2022-10-21'),('DELAWARE COUNTY MEMORIAL HOSPITAL',390081,'PA','1 through 30 days After Discharge from Index Hospital Admission','Outpatient',810,725,730,0.0375,0.0351,0.0356,'2021-05-08','2022-01-25'),('SACRED HEART HOSPITAL',520013,'WI','1 to 3 days Prior to Index Hospital Admission','Carrier',484,490,552,0.0245,0.025,0.0269,'2023-09-04','2023-09-06'),('BAYLOR SCOTT & WHITE MEDICAL CENTER GRAPEVINE',450563,'TX','During Index Hospital Admission','Home Health Agency',0,0,0,0,0,0,'2019-06-27','2019-08-15'),('EVANS MEMORIAL HOSPITAL',110142,'GA','1 through 30 days After Discharge from Index Hospital Admission','Home Health Agency',860,818,816,0.0646,0.041,0.0398,'2019-08-22','2019-10-24'),('FLORIDA HOSPITAL NORTH PINELLAS',100055,'FL','1 to 3 days Prior to Index Hospital Admission','Home Health Agency',12,21,14,0.0006,0.001,0.0007,'2021-09-07','2022-03-11'),('ST VINCENT HOT SPRINGS',40026,'AR','1 to 3 days Prior to Index Hospital Admission','Carrier',621,539,552,0.0319,0.0273,0.0269,'2022-02-28','2023-01-31'),('SPARROW CARSON HOSPITAL',230208,'MI','During Index Hospital Admission','Inpatient',8533,9097,9324,0.4834,0.4551,0.4549,'2019-11-30','2019-12-16'),('CLARENDON MEMORIAL HOSPITAL',420069,'SC','During Index Hospital Admission','Home Health Agency',0,0,0,0,0,0,'2019-11-23','2020-08-02'),('UNITED MEMORIAL MEDICAL CENTER',330073,'NY','During Index Hospital Admission','Hospice',0,0,0,0,0,0,'2022-01-08','2022-03-22'),('FRESNO SURGICAL HOSPITAL',50708,'CA','1 to 3 days Prior to Index Hospital Admission','Skilled Nursing Facility',0,3,2,0,0.0001,0.0001,'2023-03-15','2023-03-21'),('STATEN ISLAND UNIVERSITY HOSPITAL',330160,'NY','1 to 3 days Prior to Index Hospital Admission','Inpatient',1,4,5,0,0.0002,0.0003,'2022-05-27','2022-11-06'),('HIGHLANDS REGIONAL MEDICAL CENTER',180005,'KY','1 through 30 days After Discharge from Index Hospital Admission','Inpatient',1895,2638,2702,0.1266,0.1348,0.1318,'2022-02-10','2022-04-12'),('NORTHEAST GEORGIA MEDICAL CENTER INC',110029,'GA','1 to 3 days Prior to Index Hospital Admission','Outpatient',128,111,124,0.0065,0.0056,0.0061,'2020-07-13','2021-06-05'),('EL CAMINO HOSPITAL',50308,'CA','1 to 3 days Prior to Index Hospital Admission','Skilled Nursing Facility',2,3,2,0.0001,0.0001,0.0001,'2021-10-26','2022-10-07'),('JERSEY SHORE UNIVERSITY MEDICAL CENTER',310073,'NJ','Complete Episode','Total',23842,21733,20497,1,1,1,'2021-04-24','2021-09-13'),('CLEAR LAKE REGIONAL MEDICAL CENTER',450617,'TX','1 to 3 days Prior to Index Hospital Admission','Inpatient',6,5,5,0.0003,0.0002,0.0003,'2019-10-15','2019-10-19'),('MEDSTAR WASHINGTON HOSPITAL CENTER',90011,'DC','1 through 30 days After Discharge from Index Hospital Admission','Skilled Nursing Facility',3213,3088,3319,0.1297,0.147,0.1619,'2019-09-22','2019-12-19'),('CITRUS MEMORIAL HOSPITAL',100023,'FL','During Index Hospital Admission','Inpatient',8228,8871,9324,0.4351,0.4285,0.4549,'2023-09-19','2023-11-03'),('UNION HOSPITAL',360010,'OH','During Index Hospital Admission','Outpatient',0,0,0,0,0,0,'2022-06-16','2023-04-19'),('ST JOSEPH HOSPITAL',200001,'ME','1 through 30 days After Discharge from Index Hospital Admission','Inpatient',1363,2184,2702,0.077,0.1132,0.1318,'2021-11-25','2022-06-01'),('EDWARD HOSPITAL',140231,'IL','1 through 30 days After Discharge from Index Hospital Admission','Home Health Agency',1087,791,816,0.0507,0.0383,0.0398,'2020-02-05','2020-07-15'),('RAPPAHANNOCK GENERAL HOSPITAL',490123,'VA','1 through 30 days After Discharge from Index Hospital Admission','Carrier',788,1059,1110,0.0523,0.0537,0.0542,'2020-12-02','2021-07-25'),('NORWEGIAN-AMERICAN HOSPITAL',140206,'IL','1 through 30 days After Discharge from Index Hospital Admission','Outpatient',720,788,730,0.0406,0.0381,0.0356,'2020-03-03','2020-06-17'),('BAYFRONT HEALTH DADE CITY',100211,'FL','Complete Episode','Total',20124,20704,20497,1,1,1,'2019-05-19','2019-06-15'),('INTEGRIS BASS BAPTIST HEALTH CENTER',370016,'OK','During Index Hospital Admission','Durable Medical Equipment',30,40,24,0.0016,0.002,0.0012,'2020-07-24','2021-03-10'),('JOHNSON MEMORIAL HOSPITAL',150001,'IN','During Index Hospital Admission','Inpatient',7351,9350,9324,0.3735,0.4515,0.4549,'2021-02-22','2021-07-29'),('NORTHFIELD HOSPITAL',240014,'MN','1 through 30 days After Discharge from Index Hospital Admission','Hospice',55,110,122,0.0042,0.0055,0.006,'2021-12-25','2022-06-26'),('KAISER FOUNDATION HOSPITAL',120011,'HI','During Index Hospital Admission','Durable Medical Equipment',8,14,24,0.0005,0.0007,0.0012,'2020-01-24','2020-02-23'),('BAYLOR SCOTT AND WHITE SURGICAL HOSPITAL AT SHERMA',670076,'TX','1 through 30 days After Discharge from Index Hospital Admission','Durable Medical Equipment',63,114,103,0.0028,0.0051,0.005,'2022-10-21','2023-06-14'),('MT GRAHAM REGIONAL MEDICAL CENTER',30068,'AZ','1 through 30 days After Discharge from Index Hospital Admission','Inpatient',1184,2785,2702,0.075,0.1356,0.1318,'2023-07-22','2023-12-06'),('UMASS MEMORIAL HEALTHCARE-CLINTON HOSPITAL',220058,'MA','1 through 30 days After Discharge from Index Hospital Admission','Inpatient',1611,2670,2702,0.1057,0.1325,0.1318,'2021-03-30','2021-12-31'),('SAINT JOSEPH HOSPITAL',60028,'CO','1 to 3 days Prior to Index Hospital Admission','Skilled Nursing Facility',0,2,2,0,0.0001,0.0001,'2023-06-12','2023-10-10'),('CONCORD HOSPITAL',300001,'NH','During Index Hospital Admission','Hospice',0,0,0,0,0,0,'2021-01-27','2021-08-20'),('VCU MEDICAL CENTER / VCU HEALTH SYSTEM',490032,'VA','1 to 3 days Prior to Index Hospital Admission','Outpatient',192,95,124,0.0081,0.0048,0.0061,'2020-04-23','2021-04-15'),('BAY AREA REGIONAL MEDICAL CENTER LLC',670096,'TX','During Index Hospital Admission','Hospice',0,0,0,0,0,0,'2022-04-10','2023-01-20'),('WOMENS HOSPITAL THE',150149,'IN','1 through 30 days After Discharge from Index Hospital Admission','Home Health Agency',431,558,816,0.0376,0.0269,0.0398,'2019-07-02','2020-02-15'),('MAINE MEDICAL CENTER',200009,'ME','1 through 30 days After Discharge from Index Hospital Admission','Home Health Agency',1030,901,816,0.0452,0.0467,0.0398,'2021-05-01','2021-06-19'),('ST JOSEPH MEDICAL CENTER',390096,'PA','1 through 30 days After Discharge from Index Hospital Admission','Home Health Agency',859,889,816,0.0417,0.043,0.0398,'2020-09-20','2020-11-21'),('ZUNI COMPREHENSIVE COMMUNITY HEALTH CENTER',320060,'NM','1 through 30 days After Discharge from Index Hospital Admission','Inpatient',2145,2608,2702,0.179,0.1372,0.1318,'2020-04-15','2021-02-11'),('VAN WERT COUNTY HOSPITAL',360071,'OH','1 to 3 days Prior to Index Hospital Admission','Home Health Agency',16,12,14,0.0009,0.0006,0.0007,'2021-11-25','2022-01-12'),('TUBA CITY REGIONAL HEALTH CARE CORPORATION',30073,'AZ','1 to 3 days Prior to Index Hospital Admission','Durable Medical Equipment',3,7,9,0.0002,0.0003,0.0004,'2020-08-10','2020-11-15'),('SEQUOIA HOSPITAL',50197,'CA','During Index Hospital Admission','Inpatient',12000,9665,9324,0.5482,0.4571,0.4549,'2021-06-07','2021-08-31'),('PLANTATION GENERAL HOSPITAL',100167,'FL','During Index Hospital Admission','Inpatient',7907,8871,9324,0.393,0.4285,0.4549,'2023-09-15','2023-12-22'),('WINDHAM COMMUNITY MEMORIAL HOSPITAL',70021,'CT','During Index Hospital Admission','Hospice',0,0,0,0,0,0,'2022-06-21','2022-12-01'),('KNOX COUNTY HOSPITAL',450746,'TX','Complete Episode','Total',16089,22110,20497,1,1,1,'2023-02-17','2023-12-17'),('HOLLYWOOD PRESBYTERIAN MEDICAL CENTER',50063,'CA','1 to 3 days Prior to Index Hospital Admission','Carrier',543,558,552,0.0232,0.0264,0.0269,'2022-03-26','2022-10-03'),('MERCY HOSPITAL AND MEDICAL CENTER',140158,'IL','1 through 30 days After Discharge from Index Hospital Admission','Inpatient',3612,2601,2702,0.1875,0.1258,0.1318,'2019-06-13','2020-06-09'),('SAMARITAN HOSPITAL',330180,'NY','During Index Hospital Admission','Hospice',0,0,0,0,0,0,'2020-03-01','2020-05-28'),('ST CHARLES PARISH HOSPITAL',190079,'LA','1 through 30 days After Discharge from Index Hospital Admission','Skilled Nursing Facility',2821,2423,3319,0.1692,0.1148,0.1619,'2021-07-13','2022-02-14'),('WESTSIDE REGIONAL MEDICAL CENTER',100228,'FL','1 through 30 days After Discharge from Index Hospital Admission','Carrier',1537,1339,1110,0.0746,0.0647,0.0542,'2021-10-11','2022-01-20'),('CHRISTUS SPOHN HOSPITAL CORPUS CHRISTI',450046,'TX','1 through 30 days After Discharge from Index Hospital Admission','Outpatient',936,732,730,0.0397,0.0331,0.0356,'2019-01-13','2019-12-05'),('ST DAVIDS SOUTH AUSTIN MEDICAL CENTER',450713,'TX','1 through 30 days After Discharge from Index Hospital Admission','Durable Medical Equipment',90,114,103,0.0043,0.0051,0.005,'2022-06-23','2023-05-19'),('PROVIDENCE HEALTH CENTER',450042,'TX','1 to 3 days Prior to Index Hospital Admission','Inpatient',5,5,5,0.0003,0.0002,0.0003,'2021-11-14','2022-06-11'),('NYACK HOSPITAL',330104,'NY','1 to 3 days Prior to Index Hospital Admission','Carrier',633,498,552,0.0288,0.0245,0.0269,'2021-05-17','2022-04-22'),('NIX HEALTH CARE SYSTEM',450130,'TX','1 through 30 days After Discharge from Index Hospital Admission','Hospice',159,150,122,0.0075,0.0068,0.006,'2021-07-20','2021-11-05'),('IROQUOIS MEMORIAL HOSPITAL',140167,'IL','During Index Hospital Admission','Durable Medical Equipment',27,20,24,0.0015,0.001,0.0012,'2022-11-26','2023-05-30'),('GEORGETOWN COMMUNITY HOSPITAL',180101,'KY','1 to 3 days Prior to Index Hospital Admission','Skilled Nursing Facility',0,2,2,0,0.0001,0.0001,'2021-01-17','2021-01-25'),('PHOEBE PUTNEY MEMORIAL HOSPITAL',110007,'GA','During Index Hospital Admission','Outpatient',0,0,0,0,0,0,'2023-04-28','2023-10-29'),('FAITH REGIONAL HEALTH SERVICES',280125,'NE','1 through 30 days After Discharge from Index Hospital Admission','Inpatient',1908,2102,2702,0.0848,0.1003,0.1318,'2020-02-29','2020-09-25'),('PINNACLE HEALTH HOSPITALS',390067,'PA','1 to 3 days Prior to Index Hospital Admission','Durable Medical Equipment',13,8,9,0.0006,0.0004,0.0004,'2021-09-23','2022-03-11'),('ST VINCENTS MEDICAL CENTER RIVERSIDE',100040,'FL','1 through 30 days After Discharge from Index Hospital Admission','Hospice',144,165,122,0.0066,0.008,0.006,'2022-06-09','2022-07-20'),('MARQUETTE GENERAL HOSPITAL',230054,'MI','1 to 3 days Prior to Index Hospital Admission','Durable Medical Equipment',13,10,9,0.0006,0.0005,0.0004,'2022-07-23','2023-01-01'),('EDEN MEDICAL CENTER',50488,'CA','1 through 30 days After Discharge from Index Hospital Admission','Outpatient',670,671,730,0.028,0.0318,0.0356,'2022-07-14','2022-10-24'),('WILLIAM P. CLEMENTS JR. UNIVERSITY HOSPITAL',450044,'TX','During Index Hospital Admission','Skilled Nursing Facility',0,0,0,0,0,0,'2021-07-26','2021-11-27'),('MARTIN GENERAL HOSPITAL',340133,'NC','1 to 3 days Prior to Index Hospital Admission','Outpatient',35,153,124,0.0023,0.0077,0.0061,'2022-08-26','2023-07-16'),('COVENANT HEALTHCARE',230070,'MI','1 through 30 days After Discharge from Index Hospital Admission','Outpatient',769,737,730,0.0369,0.0369,0.0356,'2019-04-11','2019-07-06'),('ST VINCENTS ST CLAIR',10130,'AL','1 to 3 days Prior to Index Hospital Admission','Hospice',0,1,1,0,0.0001,0,'2022-10-08','2023-01-26'),('HILL COUNTRY MEMORIAL HOSPITAL INC',450604,'TX','1 through 30 days After Discharge from Index Hospital Admission','Skilled Nursing Facility',3658,3010,3319,0.1925,0.1361,0.1619,'2022-03-29','2022-06-20'),('SAN JUAN REGIONAL MEDICAL CENTER',320005,'NM','During Index Hospital Admission','Hospice',0,0,0,0,0,0,'2021-12-30','2022-09-26'),('UPMC NORTHWEST',390091,'PA','During Index Hospital Admission','Hospice',0,0,0,0,0,0,'2021-06-22','2021-07-20'),('BANNER CASA GRANDE MEDICAL CENTER',30016,'AZ','1 through 30 days After Discharge from Index Hospital Admission','Skilled Nursing Facility',1914,2196,3319,0.1097,0.1069,0.1619,'2023-12-01','2023-12-06'),('DELANO REGIONAL MEDICAL CENTER',50608,'CA','1 to 3 days Prior to Index Hospital Admission','Hospice',0,0,1,0,0,0,'2020-06-17','2021-01-04'),('WINDBER HOSPITAL',390112,'PA','1 through 30 days After Discharge from Index Hospital Admission','Carrier',699,1106,1110,0.0425,0.0535,0.0542,'2022-04-19','2022-12-19'),('BECKLEY ARH HOSPITAL',510062,'WV','During Index Hospital Admission','Durable Medical Equipment',44,37,24,0.0023,0.0019,0.0012,'2021-05-23','2022-01-09'),('FAIRBANKS MEMORIAL HOSPITAL',20012,'AK','1 through 30 days After Discharge from Index Hospital Admission','Carrier',647,863,1110,0.0434,0.0433,0.0542,'2023-06-25','2023-10-09'),('ST LUKES REGIONAL MEDICAL CENTER',160146,'IA','During Index Hospital Admission','Outpatient',0,0,0,0,0,0,'2022-10-16','2022-12-10'),('MEMORIAL MEDICAL CENTER OF EAST TEXAS',450211,'TX','1 through 30 days After Discharge from Index Hospital Admission','Hospice',228,150,122,0.0106,0.0068,0.006,'2022-01-14','2022-04-10'),('LEESBURG REGIONAL MEDICAL CENTER',100084,'FL','During Index Hospital Admission','Inpatient',9489,8871,9324,0.4586,0.4285,0.4549,'2019-06-21','2019-08-03'),('CAMBRIDGE MEDICAL CENTER',240020,'MN','1 to 3 days Prior to Index Hospital Admission','Durable Medical Equipment',7,10,9,0.0005,0.0005,0.0004,'2023-03-20','2023-11-21'),('VIERA HOSPITAL',100315,'FL','During Index Hospital Admission','Hospice',0,0,0,0,0,0,'2023-06-24','2023-07-05'),('BAYLOR SCOTT & WHITE MEDICAL CENTER - BRENHAM',450187,'TX','During Index Hospital Admission','Home Health Agency',0,0,0,0,0,0,'2023-12-19','2023-12-28'),('ANDERSON REGIONAL MEDICAL CTR',250104,'MS','During Index Hospital Admission','Outpatient',0,0,0,0,0,0,'2020-06-16','2021-03-12'),('ADVOCATE LUTHERAN GENERAL HOSPITAL',140223,'IL','1 through 30 days After Discharge from Index Hospital Admission','Inpatient',2759,2601,2702,0.1211,0.1258,0.1318,'2021-07-13','2021-12-31'),('SAINT FRANCIS BARTLETT MEDICAL CENTER',440228,'TN','1 to 3 days Prior to Index Hospital Admission','Outpatient',53,141,124,0.0026,0.0068,0.0061,'2022-02-16','2022-06-28'),('ST JAMES MERCY HOSPITAL',330151,'NY','During Index Hospital Admission','Outpatient',0,0,0,0,0,0,'2020-03-31','2020-05-31'),('MEMORIAL HEALTHCARE SYSTEM INC',440091,'TN','1 to 3 days Prior to Index Hospital Admission','Carrier',474,647,552,0.0226,0.0314,0.0269,'2021-07-04','2021-09-30'),('NORTH MEMORIAL MEDICAL CENTER',240001,'MN','1 to 3 days Prior to Index Hospital Admission','Carrier',389,489,552,0.0186,0.0244,0.0269,'2019-03-08','2019-03-21'),('HURLEY MEDICAL CENTER',230132,'MI','1 to 3 days Prior to Index Hospital Admission','Home Health Agency',12,14,14,0.0006,0.0007,0.0007,'2019-02-09','2019-05-10'),('VAN WERT COUNTY HOSPITAL',360071,'OH','1 to 3 days Prior to Index Hospital Admission','Durable Medical Equipment',4,9,9,0.0002,0.0004,0.0004,'2023-04-30','2023-10-14'),('LANCASTER GENERAL HOSPITAL',390100,'PA','1 to 3 days Prior to Index Hospital Admission','Durable Medical Equipment',6,8,9,0.0003,0.0004,0.0004,'2023-01-26','2023-10-27'),('TAMPA COMMUNITY HOSPITAL',100255,'FL','During Index Hospital Admission','Inpatient',8068,8871,9324,0.4248,0.4285,0.4549,'2020-09-04','2020-10-18');\")"
      ]
    },
    {
      "cell_type": "code",
      "execution_count": null,
      "metadata": {
        "id": "hyhDLlNJUOhG"
      },
      "outputs": [],
      "source": [
        "conn.commit()"
      ]
    },
    {
      "cell_type": "code",
      "execution_count": null,
      "metadata": {
        "colab": {
          "base_uri": "https://localhost:8080/"
        },
        "id": "HwImJKDZaGcv",
        "outputId": "19d8230e-fa85-4816-ab81-95c26eae3b49"
      },
      "outputs": [
        {
          "output_type": "execute_result",
          "data": {
            "text/plain": [
              "<sqlite3.Cursor at 0x7a4204a76dc0>"
            ]
          },
          "metadata": {},
          "execution_count": 65
        }
      ],
      "source": [
        "cursor.execute(\"\"\"\n",
        "CREATE TABLE IF NOT EXISTS `patient_data` (\n",
        "  `HospitalID` int DEFAULT NULL,\n",
        "  `PatientID` int NOT NULL,\n",
        "  `InvoiceAmount` double DEFAULT NULL,\n",
        "  `Age` int DEFAULT NULL,\n",
        "  `Smoker` int DEFAULT NULL,\n",
        "  `BMI` int DEFAULT NULL,\n",
        "  `DrugsAlc` int DEFAULT NULL,\n",
        "  `Employed` int DEFAULT NULL,\n",
        "  `Diabetic` int DEFAULT NULL,\n",
        "  `Pregnant` int DEFAULT NULL,\n",
        "  `PreCondition` int DEFAULT NULL,\n",
        "  `Feedback` int DEFAULT NULL,\n",
        "  `HomeState` text,\n",
        "  PRIMARY KEY (`PatientID`),\n",
        "  CONSTRAINT `patient_data_chk_1` CHECK ((`Smoker` in (0,1))),\n",
        "  CONSTRAINT `patient_data_chk_2` CHECK ((`DrugsAlc` in (0,1))),\n",
        "  CONSTRAINT `patient_data_chk_3` CHECK ((`Employed` in (0,1))),\n",
        "  CONSTRAINT `patient_data_chk_4` CHECK ((`Diabetic` in (0,1))),\n",
        "  CONSTRAINT `patient_data_chk_5` CHECK ((`Pregnant` in (0,1))),\n",
        "  CONSTRAINT `patient_data_chk_6` CHECK ((`PreCondition` in (0,1))),\n",
        "  CONSTRAINT `patient_data_chk_7` CHECK ((`Feedback` in (-(1),0,1)))\n",
        ")\n",
        "\"\"\"\n",
        ")"
      ]
    },
    {
      "cell_type": "code",
      "execution_count": null,
      "metadata": {
        "colab": {
          "base_uri": "https://localhost:8080/"
        },
        "id": "JYX_nWHTaGcw",
        "outputId": "9855041e-8af3-463a-ccfc-208d35f30582"
      },
      "outputs": [
        {
          "output_type": "execute_result",
          "data": {
            "text/plain": [
              "<sqlite3.Cursor at 0x7a4204a76dc0>"
            ]
          },
          "metadata": {},
          "execution_count": 66
        }
      ],
      "source": [
        "cursor.execute(\"INSERT INTO `patient_data` VALUES (220135,105947,101.383048333209,31,0,28,0,1,1,0,0,-1,'ME'),(510062,111365,43.3121368927957,28,1,30,1,0,1,0,0,1,'WV'),(330151,143384,0,33,1,20,1,0,0,0,0,0,'NY'),(150149,149265,428.536207517161,59,1,34,0,0,1,0,0,0,'NM'),(240014,158168,55.4445204743628,30,1,32,1,0,1,1,1,-1,'MN'),(180101,171874,0,31,0,36,0,0,0,0,1,0,'KY'),(110007,192429,0,47,1,28,1,0,0,0,0,1,'GA'),(140158,205573,3476.89696552718,30,1,38,1,0,1,0,1,1,'IL'),(450042,226054,4.90548309119573,25,0,26,1,1,1,1,1,1,'TX'),(30073,239824,3.10470802694607,61,0,26,0,1,0,0,0,0,'OH'),(450746,240304,16365.4498802826,65,0,21,0,1,1,0,0,0,'TX'),(280134,264443,511.9453748616,74,0,36,1,0,0,0,1,-1,'NM'),(520013,273557,495.031560459881,37,1,29,0,1,1,0,1,0,'WI'),(140206,277680,738.053011029385,46,1,34,0,0,0,0,1,1,'CO'),(100040,282001,150.516954564251,21,0,37,0,1,0,0,0,0,'FL'),(450604,300701,3648.01637773132,58,0,37,0,1,1,0,0,-1,'TX'),(440091,305385,466.760339022974,33,0,19,1,0,1,0,1,1,'TN'),(250104,315727,0,70,1,35,0,0,1,0,1,-1,'MO'),(320060,316769,2092.51286308322,20,1,25,0,1,0,1,0,1,'NM'),(440184,329878,2131.04065814843,53,1,18,0,0,0,0,0,1,'IA'),(100228,338591,1560.08572227569,23,1,19,0,0,0,0,0,0,'FL'),(100055,340307,11.7706767282083,24,0,25,0,0,0,0,0,0,'FL'),(50063,343117,529.682034136643,30,1,27,0,1,1,0,1,0,'CA'),(150001,348271,7259.52604773933,31,0,33,0,0,0,0,0,0,'IN'),(360010,360437,0,39,0,21,0,0,1,0,0,0,'OH'),(60028,381474,0,53,1,29,0,1,0,0,1,0,'NH'),(230132,400749,11.9091465092866,72,0,33,1,0,1,0,1,1,'MI'),(50488,400882,665.022455860342,29,1,39,0,1,1,1,1,-1,'MN'),(370016,400976,28.7889715759114,27,1,39,0,0,0,1,0,1,NULL),(240001,429269,399.079480922848,17,0,32,1,0,0,0,1,1,'PA'),(200009,445562,1060.74948712044,25,1,36,0,0,0,0,0,0,'AZ'),(50197,446224,11439.4696734318,42,0,28,0,0,1,0,1,0,'TX'),(420069,449142,0,45,0,19,1,0,1,0,0,0,'MO'),(450046,453750,973.395111064596,15,1,39,0,0,0,1,1,-1,'ND'),(20012,460986,657.865704840439,24,0,23,0,0,1,1,1,0,'AR'),(230208,461973,8848.32351330798,73,1,38,1,0,0,0,1,0,'AL'),(340133,486028,34.4408549900072,50,1,20,0,1,1,0,1,0,'MN'),(450187,487220,0,57,1,20,0,0,0,0,1,0,'TX'),(390112,500078,669.17745171113,40,1,36,1,0,0,0,1,-1,'PA'),(100167,523872,7928.29226506731,37,0,28,0,1,1,0,1,0,'FL'),(440228,525501,52.8388648218745,72,1,25,0,0,0,0,0,1,NULL),(30016,528474,1873.24013148755,20,1,39,0,0,0,0,1,0,'AZ'),(280125,539839,1930.78403021076,38,0,28,1,1,0,0,1,0,'IA'),(320005,545027,0,29,1,36,1,0,1,0,0,0,NULL),(360071,546165,16.5546517363299,42,1,25,0,1,0,0,1,1,'OH'),(160146,555779,0,28,0,26,0,1,0,1,1,-1,'IN'),(120011,570986,8.29685765343457,18,0,37,0,0,0,0,0,-1,'CA'),(670096,572066,0,16,1,37,1,1,1,1,1,0,'TX'),(360071,579077,3.98912353035599,42,1,39,0,0,0,0,0,-1,'WV'),(100084,586546,9483.88124485053,65,0,36,1,0,1,0,1,0,'IL'),(50608,593385,0,31,1,39,0,0,1,0,1,-1,'CA'),(330073,595320,0,24,1,21,1,0,0,0,1,1,'NY'),(140167,597200,26.950353657226,50,1,25,1,0,0,0,1,-1,'RI'),(310073,616733,23289.453519844,53,0,21,1,1,0,0,1,0,'NJ'),(100023,626098,8040.01571818363,59,1,18,1,0,0,0,0,1,'FL'),(390100,653210,6.21728183511756,36,1,28,1,0,0,0,1,1,'NY'),(140223,656217,2684.59854737459,26,0,27,1,0,0,0,0,-1,'IL'),(70021,665711,0,28,1,19,0,1,1,1,1,0,'CT'),(450211,672448,231.656437864297,31,1,18,0,1,1,0,0,0,'TX'),(100315,701396,0,55,1,19,0,1,1,0,1,-1,'FL'),(200001,705701,1429.29473058177,65,1,31,1,0,0,0,0,1,'ME'),(190079,706565,2824.65688038721,66,0,26,1,0,0,0,1,-1,'TX'),(390096,707455,898.135263369119,32,0,21,0,0,0,0,1,-1,'LA'),(450563,707864,0,35,0,19,1,0,0,1,0,1,'DE'),(390081,723724,800.640723062437,72,1,39,1,0,1,0,0,0,'OK'),(330180,724951,0,39,1,25,1,0,1,0,1,1,'NM'),(230054,726139,13.5011705674649,67,0,39,1,0,1,0,1,0,'MA'),(450044,726749,0,19,0,32,0,0,1,1,0,0,'NC'),(40026,733140,616.54668712512,68,1,20,0,1,1,0,0,1,'ME'),(110029,740403,130.121494121567,16,1,26,1,0,0,0,0,1,'DE'),(450130,742378,165.03140844727,30,1,27,1,0,0,0,0,1,'TX'),(30068,744969,1139.62459697779,30,0,19,0,1,0,1,1,1,'TN'),(670067,750090,0,74,0,38,1,0,0,0,0,-1,'IN'),(390091,783051,0,32,1,20,1,1,0,1,0,-1,'PA'),(340084,784526,1141.01932849276,28,1,29,1,0,1,0,1,1,'NC'),(180005,786045,1876.47070299184,37,1,18,1,1,0,0,1,-1,'KY'),(140231,793725,1136.16624400157,56,1,18,1,0,1,0,1,-1,'NC'),(330160,795427,1.02336663223091,35,1,31,1,0,1,0,0,-1,'NY'),(240020,817860,7.26690393775021,40,0,36,1,1,0,0,1,1,'MN'),(100269,822734,3312.1179570618,44,1,32,1,1,1,0,0,-1,'GA'),(490032,827295,188.728210166269,73,0,31,1,0,1,0,1,-1,'NH'),(450617,832204,5.7607660917047,24,0,28,1,1,1,1,1,0,'TX'),(390067,846484,13.001597880183,25,0,23,0,0,0,0,1,0,'OK'),(100211,858081,19451.6276276593,41,1,36,0,0,1,0,1,-1,'KY'),(90011,859889,3287.36190878833,21,0,30,0,1,1,0,1,0,'ND'),(100255,875803,8328.74966686,70,1,26,0,1,0,0,0,1,'ID'),(670076,877382,61.4072752928726,34,1,20,0,1,0,0,1,1,'TN'),(450713,890393,87.9546272598565,28,1,26,1,0,1,0,0,0,'TX'),(50308,896255,1.99515636128498,24,0,25,1,0,0,0,0,1,'CA'),(490123,914459,799.110587994716,61,1,36,0,0,0,0,0,1,'UT'),(300001,914986,0,30,1,31,0,0,1,1,0,0,'NH'),(50708,958117,0,73,0,26,1,0,1,0,0,-1,'CA'),(110142,960940,859.584628057995,56,0,27,1,0,1,0,0,0,'IN'),(50779,964136,0,31,1,23,1,1,1,0,1,-1,'CA'),(10130,968836,0,23,0,32,1,0,1,0,0,0,'AL'),(330104,969985,636.863127345299,20,0,30,1,0,0,0,0,1,'GA'),(190017,972286,2.98770448263685,44,0,29,0,1,0,0,0,0,'UT'),(230070,982838,807.084249866267,34,0,22,0,1,0,0,1,1,'MI'),(220058,983693,1571.43558785055,57,0,39,1,0,1,0,0,1,'MA'),(330232,985087,34.4764545613014,19,1,28,1,1,0,0,1,1,'ND');\")"
      ]
    },
    {
      "cell_type": "code",
      "execution_count": null,
      "metadata": {
        "id": "zAxlj7HVaGcy"
      },
      "outputs": [],
      "source": [
        "conn.commit()"
      ]
    },
    {
      "cell_type": "markdown",
      "source": [
        "\n",
        "\n",
        "---\n",
        "\n"
      ],
      "metadata": {
        "id": "0-Tmu6Rtcn9P"
      }
    },
    {
      "cell_type": "code",
      "execution_count": null,
      "metadata": {
        "id": "u1TJTNapR45b"
      },
      "outputs": [],
      "source": [
        "import mysql.connector\n",
        "\n",
        "# Create a connection to the MySQL server\n",
        "conn = mysql.connector.connect(user='root', password='root', host='localhost')\n",
        "\n",
        "# Create a cursor to interact with the MySQL server\n",
        "cursor = conn.cursor()\n",
        "\n",
        "# Create a new database named 'hospital' # CREATE DATABASE  IF NOT EXISTS hospital\n",
        "cursor.execute(\"CREATE DATABASE  IF NOT EXISTS `hospital` /*!40100 DEFAULT CHARACTER SET utf8mb4 COLLATE utf8mb4_0900_ai_ci */ /*!80016 DEFAULT ENCRYPTION='N' */;\")\n",
        "\n",
        "# Switch to the 'hospital' database\n",
        "cursor.execute(\"USE `hospital`;\") # USE hospital\n",
        "\n",
        "# Create the 'hospital_data' table\n",
        "cursor.execute('''\n",
        "-- MySQL dump 10.13  Distrib 8.0.32, for Win64 (x86_64)\n",
        "--\n",
        "-- Host: localhost    Database: hospital\n",
        "-- ------------------------------------------------------\n",
        "-- Server version\t8.0.32\n",
        "\n",
        "/*!40101 SET @OLD_CHARACTER_SET_CLIENT=@@CHARACTER_SET_CLIENT */;\n",
        "/*!40101 SET @OLD_CHARACTER_SET_RESULTS=@@CHARACTER_SET_RESULTS */;\n",
        "/*!40101 SET @OLD_COLLATION_CONNECTION=@@COLLATION_CONNECTION */;\n",
        "/*!50503 SET NAMES utf8 */;\n",
        "/*!40103 SET @OLD_TIME_ZONE=@@TIME_ZONE */;\n",
        "/*!40103 SET TIME_ZONE='+00:00' */;\n",
        "/*!40014 SET @OLD_UNIQUE_CHECKS=@@UNIQUE_CHECKS, UNIQUE_CHECKS=0 */;\n",
        "/*!40014 SET @OLD_FOREIGN_KEY_CHECKS=@@FOREIGN_KEY_CHECKS, FOREIGN_KEY_CHECKS=0 */;\n",
        "/*!40101 SET @OLD_SQL_MODE=@@SQL_MODE, SQL_MODE='NO_AUTO_VALUE_ON_ZERO' */;\n",
        "/*!40111 SET @OLD_SQL_NOTES=@@SQL_NOTES, SQL_NOTES=0 */;\n",
        "\n",
        "--\n",
        "-- Table structure for table `hospital_data`\n",
        "--\n",
        "\n",
        "DROP TABLE IF EXISTS `hospital_data`;\n",
        "/*!40101 SET @saved_cs_client     = @@character_set_client */;\n",
        "/*!50503 SET character_set_client = utf8mb4 */;\n",
        "CREATE TABLE `hospital_data` (\n",
        "  `HospitalName` text COLLATE utf8mb3_bin,\n",
        "  `ProviderNo` int DEFAULT '0',\n",
        "  `State` text COLLATE utf8mb3_bin,\n",
        "  `Period` text COLLATE utf8mb3_bin,\n",
        "  `ClaimType` text COLLATE utf8mb3_bin,\n",
        "  `HospitalAvgSpend` double DEFAULT '0',\n",
        "  `StateAvgSpend` double DEFAULT '0',\n",
        "  `NationalAvgSpend` double DEFAULT '0',\n",
        "  `HospitalSpendingPercentage` double DEFAULT '0',\n",
        "  `StateSpendingPercentage` double DEFAULT '0',\n",
        "  `NationalSpendPercentage` double DEFAULT '0',\n",
        "  `StartDate` date DEFAULT NULL,\n",
        "  `EndDate` date DEFAULT NULL\n",
        ") ENGINE=InnoDB DEFAULT CHARSET=utf8mb3 COLLATE=utf8mb3_bin;\n",
        "\n",
        "''')\n",
        "\n",
        "# Always remember to close the cursor and connection when done\n",
        "cursor.close()\n",
        "conn.close()\n"
      ]
    },
    {
      "cell_type": "code",
      "execution_count": null,
      "metadata": {
        "id": "gW3WsFCoR45b"
      },
      "outputs": [],
      "source": [
        "import mysql.connector\n",
        "\n",
        "# Connect to the MySQL server and the 'hospital' database\n",
        "conn = mysql.connector.connect(user='root', password='root', host='localhost', database='hospital')\n",
        "cursor = conn.cursor()\n",
        "\n",
        "hospital_data = [\n",
        "    ('FALMOUTH HOSPITAL',220135,'MA','1 through 30 days After Discharge from Index Hospital Admission','Hospice',104,88,122,0.0052,0.0043,0.006,'2021-08-13','2022-07-26'),('PALMS WEST HOSPITAL',100269,'FL','1 through 30 days After Discharge from Index Hospital Admission','Skilled Nursing Facility',3235,3534,3319,0.1676,0.1707,0.1619,'2022-03-03','2022-09-18'),('BAYLOR ORTHOPEDIC AND SPINE HOSPITAL AT ARLINGTON',670067,'TX','During Index Hospital Admission','Home Health Agency',0,0,0,0,0,0,'2023-03-24','2023-07-28'),('ST MARY\\'S HOSPITAL ( TROY )',330232,'NY','1 to 3 days Prior to Index Hospital Admission','Outpatient',33,83,124,0.0022,0.0041,0.0061,'2022-12-27','2023-08-05'),('MARTIN LUTHER KING JR. COMMUNITY HOSPITAL',50779,'CA','1 to 3 days Prior to Index Hospital Admission','Home Health Agency',0,13,14,0,0.0006,0.0007,'2021-01-29','2021-05-19'),('KEARNEY REGIONAL MEDICAL CENTER',280134,'NE','1 to 3 days Prior to Index Hospital Admission','Outpatient',531,255,124,0.0241,0.0122,0.0061,'2022-02-11','2023-01-08'),('FRANKLIN WOODS COMMUNITY HOSPITAL',440184,'TN','1 through 30 days After Discharge from Index Hospital Admission','Inpatient',2158,2773,2702,0.1411,0.1345,0.1318,'2023-01-29','2023-10-25'),('OPELOUSAS GENERAL HEALTH SYSTEM',190017,'LA','1 to 3 days Prior to Index Hospital Admission','Hospice',3,1,1,0.0001,0,0,'2022-05-03','2022-12-08'),('CAROLINAS HEALTH CARE SYSTEM ANSON',340084,'NC','1 through 30 days After Discharge from Index Hospital Admission','Inpatient',1185,2229,2702,0.0915,0.1128,0.1318,'2022-05-07','2022-10-21'),('DELAWARE COUNTY MEMORIAL HOSPITAL',390081,'PA','1 through 30 days After Discharge from Index Hospital Admission','Outpatient',810,725,730,0.0375,0.0351,0.0356,'2021-05-08','2022-01-25'),('SACRED HEART HOSPITAL',520013,'WI','1 to 3 days Prior to Index Hospital Admission','Carrier',484,490,552,0.0245,0.025,0.0269,'2023-09-04','2023-09-06'),('BAYLOR SCOTT & WHITE MEDICAL CENTER GRAPEVINE',450563,'TX','During Index Hospital Admission','Home Health Agency',0,0,0,0,0,0,'2019-06-27','2019-08-15'),('EVANS MEMORIAL HOSPITAL',110142,'GA','1 through 30 days After Discharge from Index Hospital Admission','Home Health Agency',860,818,816,0.0646,0.041,0.0398,'2019-08-22','2019-10-24'),('FLORIDA HOSPITAL NORTH PINELLAS',100055,'FL','1 to 3 days Prior to Index Hospital Admission','Home Health Agency',12,21,14,0.0006,0.001,0.0007,'2021-09-07','2022-03-11'),('ST VINCENT HOT SPRINGS',40026,'AR','1 to 3 days Prior to Index Hospital Admission','Carrier',621,539,552,0.0319,0.0273,0.0269,'2022-02-28','2023-01-31'),('SPARROW CARSON HOSPITAL',230208,'MI','During Index Hospital Admission','Inpatient',8533,9097,9324,0.4834,0.4551,0.4549,'2019-11-30','2019-12-16'),('CLARENDON MEMORIAL HOSPITAL',420069,'SC','During Index Hospital Admission','Home Health Agency',0,0,0,0,0,0,'2019-11-23','2020-08-02'),('UNITED MEMORIAL MEDICAL CENTER',330073,'NY','During Index Hospital Admission','Hospice',0,0,0,0,0,0,'2022-01-08','2022-03-22'),('FRESNO SURGICAL HOSPITAL',50708,'CA','1 to 3 days Prior to Index Hospital Admission','Skilled Nursing Facility',0,3,2,0,0.0001,0.0001,'2023-03-15','2023-03-21'),('STATEN ISLAND UNIVERSITY HOSPITAL',330160,'NY','1 to 3 days Prior to Index Hospital Admission','Inpatient',1,4,5,0,0.0002,0.0003,'2022-05-27','2022-11-06'),('HIGHLANDS REGIONAL MEDICAL CENTER',180005,'KY','1 through 30 days After Discharge from Index Hospital Admission','Inpatient',1895,2638,2702,0.1266,0.1348,0.1318,'2022-02-10','2022-04-12'),('NORTHEAST GEORGIA MEDICAL CENTER INC',110029,'GA','1 to 3 days Prior to Index Hospital Admission','Outpatient',128,111,124,0.0065,0.0056,0.0061,'2020-07-13','2021-06-05'),('EL CAMINO HOSPITAL',50308,'CA','1 to 3 days Prior to Index Hospital Admission','Skilled Nursing Facility',2,3,2,0.0001,0.0001,0.0001,'2021-10-26','2022-10-07'),('JERSEY SHORE UNIVERSITY MEDICAL CENTER',310073,'NJ','Complete Episode','Total',23842,21733,20497,1,1,1,'2021-04-24','2021-09-13'),('CLEAR LAKE REGIONAL MEDICAL CENTER',450617,'TX','1 to 3 days Prior to Index Hospital Admission','Inpatient',6,5,5,0.0003,0.0002,0.0003,'2019-10-15','2019-10-19'),('MEDSTAR WASHINGTON HOSPITAL CENTER',90011,'DC','1 through 30 days After Discharge from Index Hospital Admission','Skilled Nursing Facility',3213,3088,3319,0.1297,0.147,0.1619,'2019-09-22','2019-12-19'),('CITRUS MEMORIAL HOSPITAL',100023,'FL','During Index Hospital Admission','Inpatient',8228,8871,9324,0.4351,0.4285,0.4549,'2023-09-19','2023-11-03'),('UNION HOSPITAL',360010,'OH','During Index Hospital Admission','Outpatient',0,0,0,0,0,0,'2022-06-16','2023-04-19'),('ST JOSEPH HOSPITAL',200001,'ME','1 through 30 days After Discharge from Index Hospital Admission','Inpatient',1363,2184,2702,0.077,0.1132,0.1318,'2021-11-25','2022-06-01'),('EDWARD HOSPITAL',140231,'IL','1 through 30 days After Discharge from Index Hospital Admission','Home Health Agency',1087,791,816,0.0507,0.0383,0.0398,'2020-02-05','2020-07-15'),('RAPPAHANNOCK GENERAL HOSPITAL',490123,'VA','1 through 30 days After Discharge from Index Hospital Admission','Carrier',788,1059,1110,0.0523,0.0537,0.0542,'2020-12-02','2021-07-25'),('NORWEGIAN-AMERICAN HOSPITAL',140206,'IL','1 through 30 days After Discharge from Index Hospital Admission','Outpatient',720,788,730,0.0406,0.0381,0.0356,'2020-03-03','2020-06-17'),('BAYFRONT HEALTH DADE CITY',100211,'FL','Complete Episode','Total',20124,20704,20497,1,1,1,'2019-05-19','2019-06-15'),('INTEGRIS BASS BAPTIST HEALTH CENTER',370016,'OK','During Index Hospital Admission','Durable Medical Equipment',30,40,24,0.0016,0.002,0.0012,'2020-07-24','2021-03-10'),('JOHNSON MEMORIAL HOSPITAL',150001,'IN','During Index Hospital Admission','Inpatient',7351,9350,9324,0.3735,0.4515,0.4549,'2021-02-22','2021-07-29'),('NORTHFIELD HOSPITAL',240014,'MN','1 through 30 days After Discharge from Index Hospital Admission','Hospice',55,110,122,0.0042,0.0055,0.006,'2021-12-25','2022-06-26'),('KAISER FOUNDATION HOSPITAL',120011,'HI','During Index Hospital Admission','Durable Medical Equipment',8,14,24,0.0005,0.0007,0.0012,'2020-01-24','2020-02-23'),('BAYLOR SCOTT AND WHITE SURGICAL HOSPITAL AT SHERMA',670076,'TX','1 through 30 days After Discharge from Index Hospital Admission','Durable Medical Equipment',63,114,103,0.0028,0.0051,0.005,'2022-10-21','2023-06-14'),('MT GRAHAM REGIONAL MEDICAL CENTER',30068,'AZ','1 through 30 days After Discharge from Index Hospital Admission','Inpatient',1184,2785,2702,0.075,0.1356,0.1318,'2023-07-22','2023-12-06'),('UMASS MEMORIAL HEALTHCARE-CLINTON HOSPITAL',220058,'MA','1 through 30 days After Discharge from Index Hospital Admission','Inpatient',1611,2670,2702,0.1057,0.1325,0.1318,'2021-03-30','2021-12-31'),('SAINT JOSEPH HOSPITAL',60028,'CO','1 to 3 days Prior to Index Hospital Admission','Skilled Nursing Facility',0,2,2,0,0.0001,0.0001,'2023-06-12','2023-10-10'),('CONCORD HOSPITAL',300001,'NH','During Index Hospital Admission','Hospice',0,0,0,0,0,0,'2021-01-27','2021-08-20'),('VCU MEDICAL CENTER / VCU HEALTH SYSTEM',490032,'VA','1 to 3 days Prior to Index Hospital Admission','Outpatient',192,95,124,0.0081,0.0048,0.0061,'2020-04-23','2021-04-15'),('BAY AREA REGIONAL MEDICAL CENTER LLC',670096,'TX','During Index Hospital Admission','Hospice',0,0,0,0,0,0,'2022-04-10','2023-01-20'),('WOMEN\\'S HOSPITAL THE',150149,'IN','1 through 30 days After Discharge from Index Hospital Admission','Home Health Agency',431,558,816,0.0376,0.0269,0.0398,'2019-07-02','2020-02-15'),('MAINE MEDICAL CENTER',200009,'ME','1 through 30 days After Discharge from Index Hospital Admission','Home Health Agency',1030,901,816,0.0452,0.0467,0.0398,'2021-05-01','2021-06-19'),('ST JOSEPH MEDICAL CENTER',390096,'PA','1 through 30 days After Discharge from Index Hospital Admission','Home Health Agency',859,889,816,0.0417,0.043,0.0398,'2020-09-20','2020-11-21'),('ZUNI COMPREHENSIVE COMMUNITY HEALTH CENTER',320060,'NM','1 through 30 days After Discharge from Index Hospital Admission','Inpatient',2145,2608,2702,0.179,0.1372,0.1318,'2020-04-15','2021-02-11'),('VAN WERT COUNTY HOSPITAL',360071,'OH','1 to 3 days Prior to Index Hospital Admission','Home Health Agency',16,12,14,0.0009,0.0006,0.0007,'2021-11-25','2022-01-12'),('TUBA CITY REGIONAL HEALTH CARE CORPORATION',30073,'AZ','1 to 3 days Prior to Index Hospital Admission','Durable Medical Equipment',3,7,9,0.0002,0.0003,0.0004,'2020-08-10','2020-11-15'),('SEQUOIA HOSPITAL',50197,'CA','During Index Hospital Admission','Inpatient',12000,9665,9324,0.5482,0.4571,0.4549,'2021-06-07','2021-08-31'),('PLANTATION GENERAL HOSPITAL',100167,'FL','During Index Hospital Admission','Inpatient',7907,8871,9324,0.393,0.4285,0.4549,'2023-09-15','2023-12-22'),('WINDHAM COMMUNITY MEMORIAL HOSPITAL',70021,'CT','During Index Hospital Admission','Hospice',0,0,0,0,0,0,'2022-06-21','2022-12-01'),('KNOX COUNTY HOSPITAL',450746,'TX','Complete Episode','Total',16089,22110,20497,1,1,1,'2023-02-17','2023-12-17'),('HOLLYWOOD PRESBYTERIAN MEDICAL CENTER',50063,'CA','1 to 3 days Prior to Index Hospital Admission','Carrier',543,558,552,0.0232,0.0264,0.0269,'2022-03-26','2022-10-03'),('MERCY HOSPITAL AND MEDICAL CENTER',140158,'IL','1 through 30 days After Discharge from Index Hospital Admission','Inpatient',3612,2601,2702,0.1875,0.1258,0.1318,'2019-06-13','2020-06-09'),('SAMARITAN HOSPITAL',330180,'NY','During Index Hospital Admission','Hospice',0,0,0,0,0,0,'2020-03-01','2020-05-28'),('ST CHARLES PARISH HOSPITAL',190079,'LA','1 through 30 days After Discharge from Index Hospital Admission','Skilled Nursing Facility',2821,2423,3319,0.1692,0.1148,0.1619,'2021-07-13','2022-02-14'),('WESTSIDE REGIONAL MEDICAL CENTER',100228,'FL','1 through 30 days After Discharge from Index Hospital Admission','Carrier',1537,1339,1110,0.0746,0.0647,0.0542,'2021-10-11','2022-01-20'),('CHRISTUS SPOHN HOSPITAL CORPUS CHRISTI',450046,'TX','1 through 30 days After Discharge from Index Hospital Admission','Outpatient',936,732,730,0.0397,0.0331,0.0356,'2019-01-13','2019-12-05'),('ST DAVID\\'S SOUTH AUSTIN MEDICAL CENTER',450713,'TX','1 through 30 days After Discharge from Index Hospital Admission','Durable Medical Equipment',90,114,103,0.0043,0.0051,0.005,'2022-06-23','2023-05-19'),('PROVIDENCE HEALTH CENTER',450042,'TX','1 to 3 days Prior to Index Hospital Admission','Inpatient',5,5,5,0.0003,0.0002,0.0003,'2021-11-14','2022-06-11'),('NYACK HOSPITAL',330104,'NY','1 to 3 days Prior to Index Hospital Admission','Carrier',633,498,552,0.0288,0.0245,0.0269,'2021-05-17','2022-04-22'),('NIX HEALTH CARE SYSTEM',450130,'TX','1 through 30 days After Discharge from Index Hospital Admission','Hospice',159,150,122,0.0075,0.0068,0.006,'2021-07-20','2021-11-05'),('IROQUOIS MEMORIAL HOSPITAL',140167,'IL','During Index Hospital Admission','Durable Medical Equipment',27,20,24,0.0015,0.001,0.0012,'2022-11-26','2023-05-30'),('GEORGETOWN COMMUNITY HOSPITAL',180101,'KY','1 to 3 days Prior to Index Hospital Admission','Skilled Nursing Facility',0,2,2,0,0.0001,0.0001,'2021-01-17','2021-01-25'),('PHOEBE PUTNEY MEMORIAL HOSPITAL',110007,'GA','During Index Hospital Admission','Outpatient',0,0,0,0,0,0,'2023-04-28','2023-10-29'),('FAITH REGIONAL HEALTH SERVICES',280125,'NE','1 through 30 days After Discharge from Index Hospital Admission','Inpatient',1908,2102,2702,0.0848,0.1003,0.1318,'2020-02-29','2020-09-25'),('PINNACLE HEALTH HOSPITALS',390067,'PA','1 to 3 days Prior to Index Hospital Admission','Durable Medical Equipment',13,8,9,0.0006,0.0004,0.0004,'2021-09-23','2022-03-11'),('ST VINCENT\\'S MEDICAL CENTER RIVERSIDE',100040,'FL','1 through 30 days After Discharge from Index Hospital Admission','Hospice',144,165,122,0.0066,0.008,0.006,'2022-06-09','2022-07-20'),('MARQUETTE GENERAL HOSPITAL',230054,'MI','1 to 3 days Prior to Index Hospital Admission','Durable Medical Equipment',13,10,9,0.0006,0.0005,0.0004,'2022-07-23','2023-01-01'),('EDEN MEDICAL CENTER',50488,'CA','1 through 30 days After Discharge from Index Hospital Admission','Outpatient',670,671,730,0.028,0.0318,0.0356,'2022-07-14','2022-10-24'),('WILLIAM P. CLEMENTS JR. UNIVERSITY HOSPITAL',450044,'TX','During Index Hospital Admission','Skilled Nursing Facility',0,0,0,0,0,0,'2021-07-26','2021-11-27'),('MARTIN GENERAL HOSPITAL',340133,'NC','1 to 3 days Prior to Index Hospital Admission','Outpatient',35,153,124,0.0023,0.0077,0.0061,'2022-08-26','2023-07-16'),('COVENANT HEALTHCARE',230070,'MI','1 through 30 days After Discharge from Index Hospital Admission','Outpatient',769,737,730,0.0369,0.0369,0.0356,'2019-04-11','2019-07-06'),('ST VINCENT\\'S ST CLAIR',10130,'AL','1 to 3 days Prior to Index Hospital Admission','Hospice',0,1,1,0,0.0001,0,'2022-10-08','2023-01-26'),('HILL COUNTRY MEMORIAL HOSPITAL INC',450604,'TX','1 through 30 days After Discharge from Index Hospital Admission','Skilled Nursing Facility',3658,3010,3319,0.1925,0.1361,0.1619,'2022-03-29','2022-06-20'),('SAN JUAN REGIONAL MEDICAL CENTER',320005,'NM','During Index Hospital Admission','Hospice',0,0,0,0,0,0,'2021-12-30','2022-09-26'),('UPMC NORTHWEST',390091,'PA','During Index Hospital Admission','Hospice',0,0,0,0,0,0,'2021-06-22','2021-07-20'),('BANNER CASA GRANDE MEDICAL CENTER',30016,'AZ','1 through 30 days After Discharge from Index Hospital Admission','Skilled Nursing Facility',1914,2196,3319,0.1097,0.1069,0.1619,'2023-12-01','2023-12-06'),('DELANO REGIONAL MEDICAL CENTER',50608,'CA','1 to 3 days Prior to Index Hospital Admission','Hospice',0,0,1,0,0,0,'2020-06-17','2021-01-04'),('WINDBER HOSPITAL',390112,'PA','1 through 30 days After Discharge from Index Hospital Admission','Carrier',699,1106,1110,0.0425,0.0535,0.0542,'2022-04-19','2022-12-19'),('BECKLEY ARH HOSPITAL',510062,'WV','During Index Hospital Admission','Durable Medical Equipment',44,37,24,0.0023,0.0019,0.0012,'2021-05-23','2022-01-09'),('FAIRBANKS MEMORIAL HOSPITAL',20012,'AK','1 through 30 days After Discharge from Index Hospital Admission','Carrier',647,863,1110,0.0434,0.0433,0.0542,'2023-06-25','2023-10-09'),('ST LUKES REGIONAL MEDICAL CENTER',160146,'IA','During Index Hospital Admission','Outpatient',0,0,0,0,0,0,'2022-10-16','2022-12-10'),('MEMORIAL MEDICAL CENTER OF EAST TEXAS',450211,'TX','1 through 30 days After Discharge from Index Hospital Admission','Hospice',228,150,122,0.0106,0.0068,0.006,'2022-01-14','2022-04-10'),('LEESBURG REGIONAL MEDICAL CENTER',100084,'FL','During Index Hospital Admission','Inpatient',9489,8871,9324,0.4586,0.4285,0.4549,'2019-06-21','2019-08-03'),('CAMBRIDGE MEDICAL CENTER',240020,'MN','1 to 3 days Prior to Index Hospital Admission','Durable Medical Equipment',7,10,9,0.0005,0.0005,0.0004,'2023-03-20','2023-11-21'),('VIERA HOSPITAL',100315,'FL','During Index Hospital Admission','Hospice',0,0,0,0,0,0,'2023-06-24','2023-07-05'),('BAYLOR SCOTT & WHITE MEDICAL CENTER - BRENHAM',450187,'TX','During Index Hospital Admission','Home Health Agency',0,0,0,0,0,0,'2023-12-19','2023-12-28'),('ANDERSON REGIONAL MEDICAL CTR',250104,'MS','During Index Hospital Admission','Outpatient',0,0,0,0,0,0,'2020-06-16','2021-03-12'),('ADVOCATE LUTHERAN GENERAL HOSPITAL',140223,'IL','1 through 30 days After Discharge from Index Hospital Admission','Inpatient',2759,2601,2702,0.1211,0.1258,0.1318,'2021-07-13','2021-12-31'),('SAINT FRANCIS BARTLETT MEDICAL CENTER',440228,'TN','1 to 3 days Prior to Index Hospital Admission','Outpatient',53,141,124,0.0026,0.0068,0.0061,'2022-02-16','2022-06-28'),('ST JAMES MERCY HOSPITAL',330151,'NY','During Index Hospital Admission','Outpatient',0,0,0,0,0,0,'2020-03-31','2020-05-31'),('MEMORIAL HEALTHCARE SYSTEM INC',440091,'TN','1 to 3 days Prior to Index Hospital Admission','Carrier',474,647,552,0.0226,0.0314,0.0269,'2021-07-04','2021-09-30'),('NORTH MEMORIAL MEDICAL CENTER',240001,'MN','1 to 3 days Prior to Index Hospital Admission','Carrier',389,489,552,0.0186,0.0244,0.0269,'2019-03-08','2019-03-21'),('HURLEY MEDICAL CENTER',230132,'MI','1 to 3 days Prior to Index Hospital Admission','Home Health Agency',12,14,14,0.0006,0.0007,0.0007,'2019-02-09','2019-05-10'),('VAN WERT COUNTY HOSPITAL',360071,'OH','1 to 3 days Prior to Index Hospital Admission','Durable Medical Equipment',4,9,9,0.0002,0.0004,0.0004,'2023-04-30','2023-10-14'),('LANCASTER GENERAL HOSPITAL',390100,'PA','1 to 3 days Prior to Index Hospital Admission','Durable Medical Equipment',6,8,9,0.0003,0.0004,0.0004,'2023-01-26','2023-10-27'),('TAMPA COMMUNITY HOSPITAL',100255,'FL','During Index Hospital Admission','Inpatient',8068,8871,9324,0.4248,0.4285,0.4549,'2020-09-04','2020-10-18')\n",
        "]\n",
        "\n",
        "# Insert data using the cursor\n",
        "cursor.executemany('''\n",
        "INSERT INTO hospital_data VALUES (%s, %s, %s, %s, %s, %s, %s, %s, %s, %s, %s, %s, %s)\n",
        "''', hospital_data)\n",
        "\n",
        "# Commit the changes\n",
        "conn.commit()\n",
        "\n",
        "# Close the cursor and connection\n",
        "cursor.close()\n",
        "conn.close()"
      ]
    },
    {
      "cell_type": "code",
      "execution_count": null,
      "metadata": {
        "colab": {
          "base_uri": "https://localhost:8080/"
        },
        "id": "E3g_VSE2R45b",
        "outputId": "de4ca9bf-3f71-4ccf-a017-203a01d5cc9a"
      },
      "outputs": [
        {
          "name": "stdout",
          "output_type": "stream",
          "text": [
            "('FALMOUTH HOSPITAL', 220135, 'MA', '1 through 30 days After Discharge from Index Hospital Admission', 'Hospice', 104.0, 88.0, 122.0, 0.0052, 0.0043, 0.006, datetime.date(2021, 8, 13), datetime.date(2022, 7, 26))\n",
            "('PALMS WEST HOSPITAL', 100269, 'FL', '1 through 30 days After Discharge from Index Hospital Admission', 'Skilled Nursing Facility', 3235.0, 3534.0, 3319.0, 0.1676, 0.1707, 0.1619, datetime.date(2022, 3, 3), datetime.date(2022, 9, 18))\n",
            "('BAYLOR ORTHOPEDIC AND SPINE HOSPITAL AT ARLINGTON', 670067, 'TX', 'During Index Hospital Admission', 'Home Health Agency', 0.0, 0.0, 0.0, 0.0, 0.0, 0.0, datetime.date(2023, 3, 24), datetime.date(2023, 7, 28))\n",
            "(\"ST MARY'S HOSPITAL ( TROY )\", 330232, 'NY', '1 to 3 days Prior to Index Hospital Admission', 'Outpatient', 33.0, 83.0, 124.0, 0.0022, 0.0041, 0.0061, datetime.date(2022, 12, 27), datetime.date(2023, 8, 5))\n",
            "('MARTIN LUTHER KING JR. COMMUNITY HOSPITAL', 50779, 'CA', '1 to 3 days Prior to Index Hospital Admission', 'Home Health Agency', 0.0, 13.0, 14.0, 0.0, 0.0006, 0.0007, datetime.date(2021, 1, 29), datetime.date(2021, 5, 19))\n",
            "('KEARNEY REGIONAL MEDICAL CENTER', 280134, 'NE', '1 to 3 days Prior to Index Hospital Admission', 'Outpatient', 531.0, 255.0, 124.0, 0.0241, 0.0122, 0.0061, datetime.date(2022, 2, 11), datetime.date(2023, 1, 8))\n",
            "('FRANKLIN WOODS COMMUNITY HOSPITAL', 440184, 'TN', '1 through 30 days After Discharge from Index Hospital Admission', 'Inpatient', 2158.0, 2773.0, 2702.0, 0.1411, 0.1345, 0.1318, datetime.date(2023, 1, 29), datetime.date(2023, 10, 25))\n",
            "('OPELOUSAS GENERAL HEALTH SYSTEM', 190017, 'LA', '1 to 3 days Prior to Index Hospital Admission', 'Hospice', 3.0, 1.0, 1.0, 0.0001, 0.0, 0.0, datetime.date(2022, 5, 3), datetime.date(2022, 12, 8))\n",
            "('CAROLINAS HEALTH CARE SYSTEM ANSON', 340084, 'NC', '1 through 30 days After Discharge from Index Hospital Admission', 'Inpatient', 1185.0, 2229.0, 2702.0, 0.0915, 0.1128, 0.1318, datetime.date(2022, 5, 7), datetime.date(2022, 10, 21))\n",
            "('DELAWARE COUNTY MEMORIAL HOSPITAL', 390081, 'PA', '1 through 30 days After Discharge from Index Hospital Admission', 'Outpatient', 810.0, 725.0, 730.0, 0.0375, 0.0351, 0.0356, datetime.date(2021, 5, 8), datetime.date(2022, 1, 25))\n",
            "('SACRED HEART HOSPITAL', 520013, 'WI', '1 to 3 days Prior to Index Hospital Admission', 'Carrier', 484.0, 490.0, 552.0, 0.0245, 0.025, 0.0269, datetime.date(2023, 9, 4), datetime.date(2023, 9, 6))\n",
            "('BAYLOR SCOTT & WHITE MEDICAL CENTER GRAPEVINE', 450563, 'TX', 'During Index Hospital Admission', 'Home Health Agency', 0.0, 0.0, 0.0, 0.0, 0.0, 0.0, datetime.date(2019, 6, 27), datetime.date(2019, 8, 15))\n",
            "('EVANS MEMORIAL HOSPITAL', 110142, 'GA', '1 through 30 days After Discharge from Index Hospital Admission', 'Home Health Agency', 860.0, 818.0, 816.0, 0.0646, 0.041, 0.0398, datetime.date(2019, 8, 22), datetime.date(2019, 10, 24))\n",
            "('FLORIDA HOSPITAL NORTH PINELLAS', 100055, 'FL', '1 to 3 days Prior to Index Hospital Admission', 'Home Health Agency', 12.0, 21.0, 14.0, 0.0006, 0.001, 0.0007, datetime.date(2021, 9, 7), datetime.date(2022, 3, 11))\n",
            "('ST VINCENT HOT SPRINGS', 40026, 'AR', '1 to 3 days Prior to Index Hospital Admission', 'Carrier', 621.0, 539.0, 552.0, 0.0319, 0.0273, 0.0269, datetime.date(2022, 2, 28), datetime.date(2023, 1, 31))\n",
            "('SPARROW CARSON HOSPITAL', 230208, 'MI', 'During Index Hospital Admission', 'Inpatient', 8533.0, 9097.0, 9324.0, 0.4834, 0.4551, 0.4549, datetime.date(2019, 11, 30), datetime.date(2019, 12, 16))\n",
            "('CLARENDON MEMORIAL HOSPITAL', 420069, 'SC', 'During Index Hospital Admission', 'Home Health Agency', 0.0, 0.0, 0.0, 0.0, 0.0, 0.0, datetime.date(2019, 11, 23), datetime.date(2020, 8, 2))\n",
            "('UNITED MEMORIAL MEDICAL CENTER', 330073, 'NY', 'During Index Hospital Admission', 'Hospice', 0.0, 0.0, 0.0, 0.0, 0.0, 0.0, datetime.date(2022, 1, 8), datetime.date(2022, 3, 22))\n",
            "('FRESNO SURGICAL HOSPITAL', 50708, 'CA', '1 to 3 days Prior to Index Hospital Admission', 'Skilled Nursing Facility', 0.0, 3.0, 2.0, 0.0, 0.0001, 0.0001, datetime.date(2023, 3, 15), datetime.date(2023, 3, 21))\n",
            "('STATEN ISLAND UNIVERSITY HOSPITAL', 330160, 'NY', '1 to 3 days Prior to Index Hospital Admission', 'Inpatient', 1.0, 4.0, 5.0, 0.0, 0.0002, 0.0003, datetime.date(2022, 5, 27), datetime.date(2022, 11, 6))\n",
            "('HIGHLANDS REGIONAL MEDICAL CENTER', 180005, 'KY', '1 through 30 days After Discharge from Index Hospital Admission', 'Inpatient', 1895.0, 2638.0, 2702.0, 0.1266, 0.1348, 0.1318, datetime.date(2022, 2, 10), datetime.date(2022, 4, 12))\n",
            "('NORTHEAST GEORGIA MEDICAL CENTER INC', 110029, 'GA', '1 to 3 days Prior to Index Hospital Admission', 'Outpatient', 128.0, 111.0, 124.0, 0.0065, 0.0056, 0.0061, datetime.date(2020, 7, 13), datetime.date(2021, 6, 5))\n",
            "('EL CAMINO HOSPITAL', 50308, 'CA', '1 to 3 days Prior to Index Hospital Admission', 'Skilled Nursing Facility', 2.0, 3.0, 2.0, 0.0001, 0.0001, 0.0001, datetime.date(2021, 10, 26), datetime.date(2022, 10, 7))\n",
            "('JERSEY SHORE UNIVERSITY MEDICAL CENTER', 310073, 'NJ', 'Complete Episode', 'Total', 23842.0, 21733.0, 20497.0, 1.0, 1.0, 1.0, datetime.date(2021, 4, 24), datetime.date(2021, 9, 13))\n",
            "('CLEAR LAKE REGIONAL MEDICAL CENTER', 450617, 'TX', '1 to 3 days Prior to Index Hospital Admission', 'Inpatient', 6.0, 5.0, 5.0, 0.0003, 0.0002, 0.0003, datetime.date(2019, 10, 15), datetime.date(2019, 10, 19))\n",
            "('MEDSTAR WASHINGTON HOSPITAL CENTER', 90011, 'DC', '1 through 30 days After Discharge from Index Hospital Admission', 'Skilled Nursing Facility', 3213.0, 3088.0, 3319.0, 0.1297, 0.147, 0.1619, datetime.date(2019, 9, 22), datetime.date(2019, 12, 19))\n",
            "('CITRUS MEMORIAL HOSPITAL', 100023, 'FL', 'During Index Hospital Admission', 'Inpatient', 8228.0, 8871.0, 9324.0, 0.4351, 0.4285, 0.4549, datetime.date(2023, 9, 19), datetime.date(2023, 11, 3))\n",
            "('UNION HOSPITAL', 360010, 'OH', 'During Index Hospital Admission', 'Outpatient', 0.0, 0.0, 0.0, 0.0, 0.0, 0.0, datetime.date(2022, 6, 16), datetime.date(2023, 4, 19))\n",
            "('ST JOSEPH HOSPITAL', 200001, 'ME', '1 through 30 days After Discharge from Index Hospital Admission', 'Inpatient', 1363.0, 2184.0, 2702.0, 0.077, 0.1132, 0.1318, datetime.date(2021, 11, 25), datetime.date(2022, 6, 1))\n",
            "('EDWARD HOSPITAL', 140231, 'IL', '1 through 30 days After Discharge from Index Hospital Admission', 'Home Health Agency', 1087.0, 791.0, 816.0, 0.0507, 0.0383, 0.0398, datetime.date(2020, 2, 5), datetime.date(2020, 7, 15))\n",
            "('RAPPAHANNOCK GENERAL HOSPITAL', 490123, 'VA', '1 through 30 days After Discharge from Index Hospital Admission', 'Carrier', 788.0, 1059.0, 1110.0, 0.0523, 0.0537, 0.0542, datetime.date(2020, 12, 2), datetime.date(2021, 7, 25))\n",
            "('NORWEGIAN-AMERICAN HOSPITAL', 140206, 'IL', '1 through 30 days After Discharge from Index Hospital Admission', 'Outpatient', 720.0, 788.0, 730.0, 0.0406, 0.0381, 0.0356, datetime.date(2020, 3, 3), datetime.date(2020, 6, 17))\n",
            "('BAYFRONT HEALTH DADE CITY', 100211, 'FL', 'Complete Episode', 'Total', 20124.0, 20704.0, 20497.0, 1.0, 1.0, 1.0, datetime.date(2019, 5, 19), datetime.date(2019, 6, 15))\n",
            "('INTEGRIS BASS BAPTIST HEALTH CENTER', 370016, 'OK', 'During Index Hospital Admission', 'Durable Medical Equipment', 30.0, 40.0, 24.0, 0.0016, 0.002, 0.0012, datetime.date(2020, 7, 24), datetime.date(2021, 3, 10))\n",
            "('JOHNSON MEMORIAL HOSPITAL', 150001, 'IN', 'During Index Hospital Admission', 'Inpatient', 7351.0, 9350.0, 9324.0, 0.3735, 0.4515, 0.4549, datetime.date(2021, 2, 22), datetime.date(2021, 7, 29))\n",
            "('NORTHFIELD HOSPITAL', 240014, 'MN', '1 through 30 days After Discharge from Index Hospital Admission', 'Hospice', 55.0, 110.0, 122.0, 0.0042, 0.0055, 0.006, datetime.date(2021, 12, 25), datetime.date(2022, 6, 26))\n",
            "('KAISER FOUNDATION HOSPITAL', 120011, 'HI', 'During Index Hospital Admission', 'Durable Medical Equipment', 8.0, 14.0, 24.0, 0.0005, 0.0007, 0.0012, datetime.date(2020, 1, 24), datetime.date(2020, 2, 23))\n",
            "('BAYLOR SCOTT AND WHITE SURGICAL HOSPITAL AT SHERMA', 670076, 'TX', '1 through 30 days After Discharge from Index Hospital Admission', 'Durable Medical Equipment', 63.0, 114.0, 103.0, 0.0028, 0.0051, 0.005, datetime.date(2022, 10, 21), datetime.date(2023, 6, 14))\n",
            "('MT GRAHAM REGIONAL MEDICAL CENTER', 30068, 'AZ', '1 through 30 days After Discharge from Index Hospital Admission', 'Inpatient', 1184.0, 2785.0, 2702.0, 0.075, 0.1356, 0.1318, datetime.date(2023, 7, 22), datetime.date(2023, 12, 6))\n",
            "('UMASS MEMORIAL HEALTHCARE-CLINTON HOSPITAL', 220058, 'MA', '1 through 30 days After Discharge from Index Hospital Admission', 'Inpatient', 1611.0, 2670.0, 2702.0, 0.1057, 0.1325, 0.1318, datetime.date(2021, 3, 30), datetime.date(2021, 12, 31))\n",
            "('SAINT JOSEPH HOSPITAL', 60028, 'CO', '1 to 3 days Prior to Index Hospital Admission', 'Skilled Nursing Facility', 0.0, 2.0, 2.0, 0.0, 0.0001, 0.0001, datetime.date(2023, 6, 12), datetime.date(2023, 10, 10))\n",
            "('CONCORD HOSPITAL', 300001, 'NH', 'During Index Hospital Admission', 'Hospice', 0.0, 0.0, 0.0, 0.0, 0.0, 0.0, datetime.date(2021, 1, 27), datetime.date(2021, 8, 20))\n",
            "('VCU MEDICAL CENTER / VCU HEALTH SYSTEM', 490032, 'VA', '1 to 3 days Prior to Index Hospital Admission', 'Outpatient', 192.0, 95.0, 124.0, 0.0081, 0.0048, 0.0061, datetime.date(2020, 4, 23), datetime.date(2021, 4, 15))\n",
            "('BAY AREA REGIONAL MEDICAL CENTER LLC', 670096, 'TX', 'During Index Hospital Admission', 'Hospice', 0.0, 0.0, 0.0, 0.0, 0.0, 0.0, datetime.date(2022, 4, 10), datetime.date(2023, 1, 20))\n",
            "(\"WOMEN'S HOSPITAL THE\", 150149, 'IN', '1 through 30 days After Discharge from Index Hospital Admission', 'Home Health Agency', 431.0, 558.0, 816.0, 0.0376, 0.0269, 0.0398, datetime.date(2019, 7, 2), datetime.date(2020, 2, 15))\n",
            "('MAINE MEDICAL CENTER', 200009, 'ME', '1 through 30 days After Discharge from Index Hospital Admission', 'Home Health Agency', 1030.0, 901.0, 816.0, 0.0452, 0.0467, 0.0398, datetime.date(2021, 5, 1), datetime.date(2021, 6, 19))\n",
            "('ST JOSEPH MEDICAL CENTER', 390096, 'PA', '1 through 30 days After Discharge from Index Hospital Admission', 'Home Health Agency', 859.0, 889.0, 816.0, 0.0417, 0.043, 0.0398, datetime.date(2020, 9, 20), datetime.date(2020, 11, 21))\n",
            "('ZUNI COMPREHENSIVE COMMUNITY HEALTH CENTER', 320060, 'NM', '1 through 30 days After Discharge from Index Hospital Admission', 'Inpatient', 2145.0, 2608.0, 2702.0, 0.179, 0.1372, 0.1318, datetime.date(2020, 4, 15), datetime.date(2021, 2, 11))\n",
            "('VAN WERT COUNTY HOSPITAL', 360071, 'OH', '1 to 3 days Prior to Index Hospital Admission', 'Home Health Agency', 16.0, 12.0, 14.0, 0.0009, 0.0006, 0.0007, datetime.date(2021, 11, 25), datetime.date(2022, 1, 12))\n",
            "('TUBA CITY REGIONAL HEALTH CARE CORPORATION', 30073, 'AZ', '1 to 3 days Prior to Index Hospital Admission', 'Durable Medical Equipment', 3.0, 7.0, 9.0, 0.0002, 0.0003, 0.0004, datetime.date(2020, 8, 10), datetime.date(2020, 11, 15))\n",
            "('SEQUOIA HOSPITAL', 50197, 'CA', 'During Index Hospital Admission', 'Inpatient', 12000.0, 9665.0, 9324.0, 0.5482, 0.4571, 0.4549, datetime.date(2021, 6, 7), datetime.date(2021, 8, 31))\n",
            "('PLANTATION GENERAL HOSPITAL', 100167, 'FL', 'During Index Hospital Admission', 'Inpatient', 7907.0, 8871.0, 9324.0, 0.393, 0.4285, 0.4549, datetime.date(2023, 9, 15), datetime.date(2023, 12, 22))\n",
            "('WINDHAM COMMUNITY MEMORIAL HOSPITAL', 70021, 'CT', 'During Index Hospital Admission', 'Hospice', 0.0, 0.0, 0.0, 0.0, 0.0, 0.0, datetime.date(2022, 6, 21), datetime.date(2022, 12, 1))\n",
            "('KNOX COUNTY HOSPITAL', 450746, 'TX', 'Complete Episode', 'Total', 16089.0, 22110.0, 20497.0, 1.0, 1.0, 1.0, datetime.date(2023, 2, 17), datetime.date(2023, 12, 17))\n",
            "('HOLLYWOOD PRESBYTERIAN MEDICAL CENTER', 50063, 'CA', '1 to 3 days Prior to Index Hospital Admission', 'Carrier', 543.0, 558.0, 552.0, 0.0232, 0.0264, 0.0269, datetime.date(2022, 3, 26), datetime.date(2022, 10, 3))\n",
            "('MERCY HOSPITAL AND MEDICAL CENTER', 140158, 'IL', '1 through 30 days After Discharge from Index Hospital Admission', 'Inpatient', 3612.0, 2601.0, 2702.0, 0.1875, 0.1258, 0.1318, datetime.date(2019, 6, 13), datetime.date(2020, 6, 9))\n",
            "('SAMARITAN HOSPITAL', 330180, 'NY', 'During Index Hospital Admission', 'Hospice', 0.0, 0.0, 0.0, 0.0, 0.0, 0.0, datetime.date(2020, 3, 1), datetime.date(2020, 5, 28))\n",
            "('ST CHARLES PARISH HOSPITAL', 190079, 'LA', '1 through 30 days After Discharge from Index Hospital Admission', 'Skilled Nursing Facility', 2821.0, 2423.0, 3319.0, 0.1692, 0.1148, 0.1619, datetime.date(2021, 7, 13), datetime.date(2022, 2, 14))\n",
            "('WESTSIDE REGIONAL MEDICAL CENTER', 100228, 'FL', '1 through 30 days After Discharge from Index Hospital Admission', 'Carrier', 1537.0, 1339.0, 1110.0, 0.0746, 0.0647, 0.0542, datetime.date(2021, 10, 11), datetime.date(2022, 1, 20))\n",
            "('CHRISTUS SPOHN HOSPITAL CORPUS CHRISTI', 450046, 'TX', '1 through 30 days After Discharge from Index Hospital Admission', 'Outpatient', 936.0, 732.0, 730.0, 0.0397, 0.0331, 0.0356, datetime.date(2019, 1, 13), datetime.date(2019, 12, 5))\n",
            "(\"ST DAVID'S SOUTH AUSTIN MEDICAL CENTER\", 450713, 'TX', '1 through 30 days After Discharge from Index Hospital Admission', 'Durable Medical Equipment', 90.0, 114.0, 103.0, 0.0043, 0.0051, 0.005, datetime.date(2022, 6, 23), datetime.date(2023, 5, 19))\n",
            "('PROVIDENCE HEALTH CENTER', 450042, 'TX', '1 to 3 days Prior to Index Hospital Admission', 'Inpatient', 5.0, 5.0, 5.0, 0.0003, 0.0002, 0.0003, datetime.date(2021, 11, 14), datetime.date(2022, 6, 11))\n",
            "('NYACK HOSPITAL', 330104, 'NY', '1 to 3 days Prior to Index Hospital Admission', 'Carrier', 633.0, 498.0, 552.0, 0.0288, 0.0245, 0.0269, datetime.date(2021, 5, 17), datetime.date(2022, 4, 22))\n",
            "('NIX HEALTH CARE SYSTEM', 450130, 'TX', '1 through 30 days After Discharge from Index Hospital Admission', 'Hospice', 159.0, 150.0, 122.0, 0.0075, 0.0068, 0.006, datetime.date(2021, 7, 20), datetime.date(2021, 11, 5))\n",
            "('IROQUOIS MEMORIAL HOSPITAL', 140167, 'IL', 'During Index Hospital Admission', 'Durable Medical Equipment', 27.0, 20.0, 24.0, 0.0015, 0.001, 0.0012, datetime.date(2022, 11, 26), datetime.date(2023, 5, 30))\n",
            "('GEORGETOWN COMMUNITY HOSPITAL', 180101, 'KY', '1 to 3 days Prior to Index Hospital Admission', 'Skilled Nursing Facility', 0.0, 2.0, 2.0, 0.0, 0.0001, 0.0001, datetime.date(2021, 1, 17), datetime.date(2021, 1, 25))\n",
            "('PHOEBE PUTNEY MEMORIAL HOSPITAL', 110007, 'GA', 'During Index Hospital Admission', 'Outpatient', 0.0, 0.0, 0.0, 0.0, 0.0, 0.0, datetime.date(2023, 4, 28), datetime.date(2023, 10, 29))\n",
            "('FAITH REGIONAL HEALTH SERVICES', 280125, 'NE', '1 through 30 days After Discharge from Index Hospital Admission', 'Inpatient', 1908.0, 2102.0, 2702.0, 0.0848, 0.1003, 0.1318, datetime.date(2020, 2, 29), datetime.date(2020, 9, 25))\n",
            "('PINNACLE HEALTH HOSPITALS', 390067, 'PA', '1 to 3 days Prior to Index Hospital Admission', 'Durable Medical Equipment', 13.0, 8.0, 9.0, 0.0006, 0.0004, 0.0004, datetime.date(2021, 9, 23), datetime.date(2022, 3, 11))\n",
            "(\"ST VINCENT'S MEDICAL CENTER RIVERSIDE\", 100040, 'FL', '1 through 30 days After Discharge from Index Hospital Admission', 'Hospice', 144.0, 165.0, 122.0, 0.0066, 0.008, 0.006, datetime.date(2022, 6, 9), datetime.date(2022, 7, 20))\n",
            "('MARQUETTE GENERAL HOSPITAL', 230054, 'MI', '1 to 3 days Prior to Index Hospital Admission', 'Durable Medical Equipment', 13.0, 10.0, 9.0, 0.0006, 0.0005, 0.0004, datetime.date(2022, 7, 23), datetime.date(2023, 1, 1))\n",
            "('EDEN MEDICAL CENTER', 50488, 'CA', '1 through 30 days After Discharge from Index Hospital Admission', 'Outpatient', 670.0, 671.0, 730.0, 0.028, 0.0318, 0.0356, datetime.date(2022, 7, 14), datetime.date(2022, 10, 24))\n",
            "('WILLIAM P. CLEMENTS JR. UNIVERSITY HOSPITAL', 450044, 'TX', 'During Index Hospital Admission', 'Skilled Nursing Facility', 0.0, 0.0, 0.0, 0.0, 0.0, 0.0, datetime.date(2021, 7, 26), datetime.date(2021, 11, 27))\n",
            "('MARTIN GENERAL HOSPITAL', 340133, 'NC', '1 to 3 days Prior to Index Hospital Admission', 'Outpatient', 35.0, 153.0, 124.0, 0.0023, 0.0077, 0.0061, datetime.date(2022, 8, 26), datetime.date(2023, 7, 16))\n",
            "('COVENANT HEALTHCARE', 230070, 'MI', '1 through 30 days After Discharge from Index Hospital Admission', 'Outpatient', 769.0, 737.0, 730.0, 0.0369, 0.0369, 0.0356, datetime.date(2019, 4, 11), datetime.date(2019, 7, 6))\n",
            "(\"ST VINCENT'S ST CLAIR\", 10130, 'AL', '1 to 3 days Prior to Index Hospital Admission', 'Hospice', 0.0, 1.0, 1.0, 0.0, 0.0001, 0.0, datetime.date(2022, 10, 8), datetime.date(2023, 1, 26))\n",
            "('HILL COUNTRY MEMORIAL HOSPITAL INC', 450604, 'TX', '1 through 30 days After Discharge from Index Hospital Admission', 'Skilled Nursing Facility', 3658.0, 3010.0, 3319.0, 0.1925, 0.1361, 0.1619, datetime.date(2022, 3, 29), datetime.date(2022, 6, 20))\n",
            "('SAN JUAN REGIONAL MEDICAL CENTER', 320005, 'NM', 'During Index Hospital Admission', 'Hospice', 0.0, 0.0, 0.0, 0.0, 0.0, 0.0, datetime.date(2021, 12, 30), datetime.date(2022, 9, 26))\n",
            "('UPMC NORTHWEST', 390091, 'PA', 'During Index Hospital Admission', 'Hospice', 0.0, 0.0, 0.0, 0.0, 0.0, 0.0, datetime.date(2021, 6, 22), datetime.date(2021, 7, 20))\n",
            "('BANNER CASA GRANDE MEDICAL CENTER', 30016, 'AZ', '1 through 30 days After Discharge from Index Hospital Admission', 'Skilled Nursing Facility', 1914.0, 2196.0, 3319.0, 0.1097, 0.1069, 0.1619, datetime.date(2023, 12, 1), datetime.date(2023, 12, 6))\n",
            "('DELANO REGIONAL MEDICAL CENTER', 50608, 'CA', '1 to 3 days Prior to Index Hospital Admission', 'Hospice', 0.0, 0.0, 1.0, 0.0, 0.0, 0.0, datetime.date(2020, 6, 17), datetime.date(2021, 1, 4))\n",
            "('WINDBER HOSPITAL', 390112, 'PA', '1 through 30 days After Discharge from Index Hospital Admission', 'Carrier', 699.0, 1106.0, 1110.0, 0.0425, 0.0535, 0.0542, datetime.date(2022, 4, 19), datetime.date(2022, 12, 19))\n",
            "('BECKLEY ARH HOSPITAL', 510062, 'WV', 'During Index Hospital Admission', 'Durable Medical Equipment', 44.0, 37.0, 24.0, 0.0023, 0.0019, 0.0012, datetime.date(2021, 5, 23), datetime.date(2022, 1, 9))\n",
            "('FAIRBANKS MEMORIAL HOSPITAL', 20012, 'AK', '1 through 30 days After Discharge from Index Hospital Admission', 'Carrier', 647.0, 863.0, 1110.0, 0.0434, 0.0433, 0.0542, datetime.date(2023, 6, 25), datetime.date(2023, 10, 9))\n",
            "('ST LUKES REGIONAL MEDICAL CENTER', 160146, 'IA', 'During Index Hospital Admission', 'Outpatient', 0.0, 0.0, 0.0, 0.0, 0.0, 0.0, datetime.date(2022, 10, 16), datetime.date(2022, 12, 10))\n",
            "('MEMORIAL MEDICAL CENTER OF EAST TEXAS', 450211, 'TX', '1 through 30 days After Discharge from Index Hospital Admission', 'Hospice', 228.0, 150.0, 122.0, 0.0106, 0.0068, 0.006, datetime.date(2022, 1, 14), datetime.date(2022, 4, 10))\n",
            "('LEESBURG REGIONAL MEDICAL CENTER', 100084, 'FL', 'During Index Hospital Admission', 'Inpatient', 9489.0, 8871.0, 9324.0, 0.4586, 0.4285, 0.4549, datetime.date(2019, 6, 21), datetime.date(2019, 8, 3))\n",
            "('CAMBRIDGE MEDICAL CENTER', 240020, 'MN', '1 to 3 days Prior to Index Hospital Admission', 'Durable Medical Equipment', 7.0, 10.0, 9.0, 0.0005, 0.0005, 0.0004, datetime.date(2023, 3, 20), datetime.date(2023, 11, 21))\n",
            "('VIERA HOSPITAL', 100315, 'FL', 'During Index Hospital Admission', 'Hospice', 0.0, 0.0, 0.0, 0.0, 0.0, 0.0, datetime.date(2023, 6, 24), datetime.date(2023, 7, 5))\n",
            "('BAYLOR SCOTT & WHITE MEDICAL CENTER - BRENHAM', 450187, 'TX', 'During Index Hospital Admission', 'Home Health Agency', 0.0, 0.0, 0.0, 0.0, 0.0, 0.0, datetime.date(2023, 12, 19), datetime.date(2023, 12, 28))\n",
            "('ANDERSON REGIONAL MEDICAL CTR', 250104, 'MS', 'During Index Hospital Admission', 'Outpatient', 0.0, 0.0, 0.0, 0.0, 0.0, 0.0, datetime.date(2020, 6, 16), datetime.date(2021, 3, 12))\n",
            "('ADVOCATE LUTHERAN GENERAL HOSPITAL', 140223, 'IL', '1 through 30 days After Discharge from Index Hospital Admission', 'Inpatient', 2759.0, 2601.0, 2702.0, 0.1211, 0.1258, 0.1318, datetime.date(2021, 7, 13), datetime.date(2021, 12, 31))\n",
            "('SAINT FRANCIS BARTLETT MEDICAL CENTER', 440228, 'TN', '1 to 3 days Prior to Index Hospital Admission', 'Outpatient', 53.0, 141.0, 124.0, 0.0026, 0.0068, 0.0061, datetime.date(2022, 2, 16), datetime.date(2022, 6, 28))\n",
            "('ST JAMES MERCY HOSPITAL', 330151, 'NY', 'During Index Hospital Admission', 'Outpatient', 0.0, 0.0, 0.0, 0.0, 0.0, 0.0, datetime.date(2020, 3, 31), datetime.date(2020, 5, 31))\n",
            "('MEMORIAL HEALTHCARE SYSTEM INC', 440091, 'TN', '1 to 3 days Prior to Index Hospital Admission', 'Carrier', 474.0, 647.0, 552.0, 0.0226, 0.0314, 0.0269, datetime.date(2021, 7, 4), datetime.date(2021, 9, 30))\n",
            "('NORTH MEMORIAL MEDICAL CENTER', 240001, 'MN', '1 to 3 days Prior to Index Hospital Admission', 'Carrier', 389.0, 489.0, 552.0, 0.0186, 0.0244, 0.0269, datetime.date(2019, 3, 8), datetime.date(2019, 3, 21))\n",
            "('HURLEY MEDICAL CENTER', 230132, 'MI', '1 to 3 days Prior to Index Hospital Admission', 'Home Health Agency', 12.0, 14.0, 14.0, 0.0006, 0.0007, 0.0007, datetime.date(2019, 2, 9), datetime.date(2019, 5, 10))\n",
            "('VAN WERT COUNTY HOSPITAL', 360071, 'OH', '1 to 3 days Prior to Index Hospital Admission', 'Durable Medical Equipment', 4.0, 9.0, 9.0, 0.0002, 0.0004, 0.0004, datetime.date(2023, 4, 30), datetime.date(2023, 10, 14))\n",
            "('LANCASTER GENERAL HOSPITAL', 390100, 'PA', '1 to 3 days Prior to Index Hospital Admission', 'Durable Medical Equipment', 6.0, 8.0, 9.0, 0.0003, 0.0004, 0.0004, datetime.date(2023, 1, 26), datetime.date(2023, 10, 27))\n",
            "('TAMPA COMMUNITY HOSPITAL', 100255, 'FL', 'During Index Hospital Admission', 'Inpatient', 8068.0, 8871.0, 9324.0, 0.4248, 0.4285, 0.4549, datetime.date(2020, 9, 4), datetime.date(2020, 10, 18))\n"
          ]
        }
      ],
      "source": [
        "import mysql.connector\n",
        "\n",
        "# Connect to the MySQL server and the 'hospital' database\n",
        "conn = mysql.connector.connect(user='root', password='root', host='localhost', database='hospital')\n",
        "cursor = conn.cursor()\n",
        "\n",
        "# Execute the SELECT query\n",
        "# cursor.execute(\"SELECT table_name FROM information_schema.tables;\") # SELECT * FROM hospital_data\n",
        "cursor.execute(\"SELECT * FROM hospital_data\") # SELECT table_name FROM information_schema.tables;\n",
        "\n",
        "# Fetch all the results\n",
        "records = cursor.fetchall()\n",
        "\n",
        "# Print the records\n",
        "for record in records:\n",
        "    print(record)\n",
        "\n",
        "# Close the cursor and connection\n",
        "cursor.close()\n",
        "conn.close()"
      ]
    },
    {
      "cell_type": "code",
      "execution_count": null,
      "metadata": {
        "colab": {
          "base_uri": "https://localhost:8080/"
        },
        "id": "0ur6t9RCR45b",
        "outputId": "32cc4bb2-7258-4aa0-895f-4e4bb1cd787e"
      },
      "outputs": [
        {
          "name": "stderr",
          "output_type": "stream",
          "text": [
            "<ipython-input-44-aa907f89f3ee>:8: UserWarning: pandas only supports SQLAlchemy connectable (engine/connection) or database string URI or sqlite3 DBAPI2 connection. Other DBAPI2 objects are not tested. Please consider using SQLAlchemy.\n",
            "  df = pd.read_sql(query, conn)\n"
          ]
        }
      ],
      "source": [
        "import pandas as pd\n",
        "\n",
        "# Connect to MySQL\n",
        "conn = mysql.connector.connect(user='root', password='root', host='localhost', database='hospital')\n",
        "\n",
        "# Fetch data into a pandas DataFrame\n",
        "query = \"SELECT * FROM hospital_data\"\n",
        "df = pd.read_sql(query, conn)"
      ]
    },
    {
      "cell_type": "code",
      "execution_count": null,
      "metadata": {
        "colab": {
          "base_uri": "https://localhost:8080/",
          "height": 608
        },
        "id": "C1V9lMLNSVCU",
        "outputId": "1d83d63d-0fe0-4e61-9c4a-84ad3f7e3192"
      },
      "outputs": [
        {
          "data": {
            "text/html": [
              "\n",
              "  <div id=\"df-fffa1698-56a5-4e35-9505-ff609547e7d1\" class=\"colab-df-container\">\n",
              "    <div>\n",
              "<style scoped>\n",
              "    .dataframe tbody tr th:only-of-type {\n",
              "        vertical-align: middle;\n",
              "    }\n",
              "\n",
              "    .dataframe tbody tr th {\n",
              "        vertical-align: top;\n",
              "    }\n",
              "\n",
              "    .dataframe thead th {\n",
              "        text-align: right;\n",
              "    }\n",
              "</style>\n",
              "<table border=\"1\" class=\"dataframe\">\n",
              "  <thead>\n",
              "    <tr style=\"text-align: right;\">\n",
              "      <th></th>\n",
              "      <th>HospitalName</th>\n",
              "      <th>ProviderNo</th>\n",
              "      <th>State</th>\n",
              "      <th>Period</th>\n",
              "      <th>ClaimType</th>\n",
              "      <th>HospitalAvgSpend</th>\n",
              "      <th>StateAvgSpend</th>\n",
              "      <th>NationalAvgSpend</th>\n",
              "      <th>HospitalSpendingPercentage</th>\n",
              "      <th>StateSpendingPercentage</th>\n",
              "      <th>NationalSpendPercentage</th>\n",
              "      <th>StartDate</th>\n",
              "      <th>EndDate</th>\n",
              "    </tr>\n",
              "  </thead>\n",
              "  <tbody>\n",
              "    <tr>\n",
              "      <th>0</th>\n",
              "      <td>FALMOUTH HOSPITAL</td>\n",
              "      <td>220135</td>\n",
              "      <td>MA</td>\n",
              "      <td>1 through 30 days After Discharge from Index H...</td>\n",
              "      <td>Hospice</td>\n",
              "      <td>104.0</td>\n",
              "      <td>88.0</td>\n",
              "      <td>122.0</td>\n",
              "      <td>0.0052</td>\n",
              "      <td>0.0043</td>\n",
              "      <td>0.0060</td>\n",
              "      <td>2021-08-13</td>\n",
              "      <td>2022-07-26</td>\n",
              "    </tr>\n",
              "    <tr>\n",
              "      <th>1</th>\n",
              "      <td>PALMS WEST HOSPITAL</td>\n",
              "      <td>100269</td>\n",
              "      <td>FL</td>\n",
              "      <td>1 through 30 days After Discharge from Index H...</td>\n",
              "      <td>Skilled Nursing Facility</td>\n",
              "      <td>3235.0</td>\n",
              "      <td>3534.0</td>\n",
              "      <td>3319.0</td>\n",
              "      <td>0.1676</td>\n",
              "      <td>0.1707</td>\n",
              "      <td>0.1619</td>\n",
              "      <td>2022-03-03</td>\n",
              "      <td>2022-09-18</td>\n",
              "    </tr>\n",
              "    <tr>\n",
              "      <th>2</th>\n",
              "      <td>BAYLOR ORTHOPEDIC AND SPINE HOSPITAL AT ARLINGTON</td>\n",
              "      <td>670067</td>\n",
              "      <td>TX</td>\n",
              "      <td>During Index Hospital Admission</td>\n",
              "      <td>Home Health Agency</td>\n",
              "      <td>0.0</td>\n",
              "      <td>0.0</td>\n",
              "      <td>0.0</td>\n",
              "      <td>0.0000</td>\n",
              "      <td>0.0000</td>\n",
              "      <td>0.0000</td>\n",
              "      <td>2023-03-24</td>\n",
              "      <td>2023-07-28</td>\n",
              "    </tr>\n",
              "    <tr>\n",
              "      <th>3</th>\n",
              "      <td>ST MARY'S HOSPITAL ( TROY )</td>\n",
              "      <td>330232</td>\n",
              "      <td>NY</td>\n",
              "      <td>1 to 3 days Prior to Index Hospital Admission</td>\n",
              "      <td>Outpatient</td>\n",
              "      <td>33.0</td>\n",
              "      <td>83.0</td>\n",
              "      <td>124.0</td>\n",
              "      <td>0.0022</td>\n",
              "      <td>0.0041</td>\n",
              "      <td>0.0061</td>\n",
              "      <td>2022-12-27</td>\n",
              "      <td>2023-08-05</td>\n",
              "    </tr>\n",
              "    <tr>\n",
              "      <th>4</th>\n",
              "      <td>MARTIN LUTHER KING JR. COMMUNITY HOSPITAL</td>\n",
              "      <td>50779</td>\n",
              "      <td>CA</td>\n",
              "      <td>1 to 3 days Prior to Index Hospital Admission</td>\n",
              "      <td>Home Health Agency</td>\n",
              "      <td>0.0</td>\n",
              "      <td>13.0</td>\n",
              "      <td>14.0</td>\n",
              "      <td>0.0000</td>\n",
              "      <td>0.0006</td>\n",
              "      <td>0.0007</td>\n",
              "      <td>2021-01-29</td>\n",
              "      <td>2021-05-19</td>\n",
              "    </tr>\n",
              "  </tbody>\n",
              "</table>\n",
              "</div>\n",
              "    <div class=\"colab-df-buttons\">\n",
              "\n",
              "  <div class=\"colab-df-container\">\n",
              "    <button class=\"colab-df-convert\" onclick=\"convertToInteractive('df-fffa1698-56a5-4e35-9505-ff609547e7d1')\"\n",
              "            title=\"Convert this dataframe to an interactive table.\"\n",
              "            style=\"display:none;\">\n",
              "\n",
              "  <svg xmlns=\"http://www.w3.org/2000/svg\" height=\"24px\" viewBox=\"0 -960 960 960\">\n",
              "    <path d=\"M120-120v-720h720v720H120Zm60-500h600v-160H180v160Zm220 220h160v-160H400v160Zm0 220h160v-160H400v160ZM180-400h160v-160H180v160Zm440 0h160v-160H620v160ZM180-180h160v-160H180v160Zm440 0h160v-160H620v160Z\"/>\n",
              "  </svg>\n",
              "    </button>\n",
              "\n",
              "  <style>\n",
              "    .colab-df-container {\n",
              "      display:flex;\n",
              "      gap: 12px;\n",
              "    }\n",
              "\n",
              "    .colab-df-convert {\n",
              "      background-color: #E8F0FE;\n",
              "      border: none;\n",
              "      border-radius: 50%;\n",
              "      cursor: pointer;\n",
              "      display: none;\n",
              "      fill: #1967D2;\n",
              "      height: 32px;\n",
              "      padding: 0 0 0 0;\n",
              "      width: 32px;\n",
              "    }\n",
              "\n",
              "    .colab-df-convert:hover {\n",
              "      background-color: #E2EBFA;\n",
              "      box-shadow: 0px 1px 2px rgba(60, 64, 67, 0.3), 0px 1px 3px 1px rgba(60, 64, 67, 0.15);\n",
              "      fill: #174EA6;\n",
              "    }\n",
              "\n",
              "    .colab-df-buttons div {\n",
              "      margin-bottom: 4px;\n",
              "    }\n",
              "\n",
              "    [theme=dark] .colab-df-convert {\n",
              "      background-color: #3B4455;\n",
              "      fill: #D2E3FC;\n",
              "    }\n",
              "\n",
              "    [theme=dark] .colab-df-convert:hover {\n",
              "      background-color: #434B5C;\n",
              "      box-shadow: 0px 1px 3px 1px rgba(0, 0, 0, 0.15);\n",
              "      filter: drop-shadow(0px 1px 2px rgba(0, 0, 0, 0.3));\n",
              "      fill: #FFFFFF;\n",
              "    }\n",
              "  </style>\n",
              "\n",
              "    <script>\n",
              "      const buttonEl =\n",
              "        document.querySelector('#df-fffa1698-56a5-4e35-9505-ff609547e7d1 button.colab-df-convert');\n",
              "      buttonEl.style.display =\n",
              "        google.colab.kernel.accessAllowed ? 'block' : 'none';\n",
              "\n",
              "      async function convertToInteractive(key) {\n",
              "        const element = document.querySelector('#df-fffa1698-56a5-4e35-9505-ff609547e7d1');\n",
              "        const dataTable =\n",
              "          await google.colab.kernel.invokeFunction('convertToInteractive',\n",
              "                                                    [key], {});\n",
              "        if (!dataTable) return;\n",
              "\n",
              "        const docLinkHtml = 'Like what you see? Visit the ' +\n",
              "          '<a target=\"_blank\" href=https://colab.research.google.com/notebooks/data_table.ipynb>data table notebook</a>'\n",
              "          + ' to learn more about interactive tables.';\n",
              "        element.innerHTML = '';\n",
              "        dataTable['output_type'] = 'display_data';\n",
              "        await google.colab.output.renderOutput(dataTable, element);\n",
              "        const docLink = document.createElement('div');\n",
              "        docLink.innerHTML = docLinkHtml;\n",
              "        element.appendChild(docLink);\n",
              "      }\n",
              "    </script>\n",
              "  </div>\n",
              "\n",
              "\n",
              "<div id=\"df-7cede224-1124-475e-905d-65b2b714768e\">\n",
              "  <button class=\"colab-df-quickchart\" onclick=\"quickchart('df-7cede224-1124-475e-905d-65b2b714768e')\"\n",
              "            title=\"Suggest charts\"\n",
              "            style=\"display:none;\">\n",
              "\n",
              "<svg xmlns=\"http://www.w3.org/2000/svg\" height=\"24px\"viewBox=\"0 0 24 24\"\n",
              "     width=\"24px\">\n",
              "    <g>\n",
              "        <path d=\"M19 3H5c-1.1 0-2 .9-2 2v14c0 1.1.9 2 2 2h14c1.1 0 2-.9 2-2V5c0-1.1-.9-2-2-2zM9 17H7v-7h2v7zm4 0h-2V7h2v10zm4 0h-2v-4h2v4z\"/>\n",
              "    </g>\n",
              "</svg>\n",
              "  </button>\n",
              "\n",
              "<style>\n",
              "  .colab-df-quickchart {\n",
              "      --bg-color: #E8F0FE;\n",
              "      --fill-color: #1967D2;\n",
              "      --hover-bg-color: #E2EBFA;\n",
              "      --hover-fill-color: #174EA6;\n",
              "      --disabled-fill-color: #AAA;\n",
              "      --disabled-bg-color: #DDD;\n",
              "  }\n",
              "\n",
              "  [theme=dark] .colab-df-quickchart {\n",
              "      --bg-color: #3B4455;\n",
              "      --fill-color: #D2E3FC;\n",
              "      --hover-bg-color: #434B5C;\n",
              "      --hover-fill-color: #FFFFFF;\n",
              "      --disabled-bg-color: #3B4455;\n",
              "      --disabled-fill-color: #666;\n",
              "  }\n",
              "\n",
              "  .colab-df-quickchart {\n",
              "    background-color: var(--bg-color);\n",
              "    border: none;\n",
              "    border-radius: 50%;\n",
              "    cursor: pointer;\n",
              "    display: none;\n",
              "    fill: var(--fill-color);\n",
              "    height: 32px;\n",
              "    padding: 0;\n",
              "    width: 32px;\n",
              "  }\n",
              "\n",
              "  .colab-df-quickchart:hover {\n",
              "    background-color: var(--hover-bg-color);\n",
              "    box-shadow: 0 1px 2px rgba(60, 64, 67, 0.3), 0 1px 3px 1px rgba(60, 64, 67, 0.15);\n",
              "    fill: var(--button-hover-fill-color);\n",
              "  }\n",
              "\n",
              "  .colab-df-quickchart-complete:disabled,\n",
              "  .colab-df-quickchart-complete:disabled:hover {\n",
              "    background-color: var(--disabled-bg-color);\n",
              "    fill: var(--disabled-fill-color);\n",
              "    box-shadow: none;\n",
              "  }\n",
              "\n",
              "  .colab-df-spinner {\n",
              "    border: 2px solid var(--fill-color);\n",
              "    border-color: transparent;\n",
              "    border-bottom-color: var(--fill-color);\n",
              "    animation:\n",
              "      spin 1s steps(1) infinite;\n",
              "  }\n",
              "\n",
              "  @keyframes spin {\n",
              "    0% {\n",
              "      border-color: transparent;\n",
              "      border-bottom-color: var(--fill-color);\n",
              "      border-left-color: var(--fill-color);\n",
              "    }\n",
              "    20% {\n",
              "      border-color: transparent;\n",
              "      border-left-color: var(--fill-color);\n",
              "      border-top-color: var(--fill-color);\n",
              "    }\n",
              "    30% {\n",
              "      border-color: transparent;\n",
              "      border-left-color: var(--fill-color);\n",
              "      border-top-color: var(--fill-color);\n",
              "      border-right-color: var(--fill-color);\n",
              "    }\n",
              "    40% {\n",
              "      border-color: transparent;\n",
              "      border-right-color: var(--fill-color);\n",
              "      border-top-color: var(--fill-color);\n",
              "    }\n",
              "    60% {\n",
              "      border-color: transparent;\n",
              "      border-right-color: var(--fill-color);\n",
              "    }\n",
              "    80% {\n",
              "      border-color: transparent;\n",
              "      border-right-color: var(--fill-color);\n",
              "      border-bottom-color: var(--fill-color);\n",
              "    }\n",
              "    90% {\n",
              "      border-color: transparent;\n",
              "      border-bottom-color: var(--fill-color);\n",
              "    }\n",
              "  }\n",
              "</style>\n",
              "\n",
              "  <script>\n",
              "    async function quickchart(key) {\n",
              "      const quickchartButtonEl =\n",
              "        document.querySelector('#' + key + ' button');\n",
              "      quickchartButtonEl.disabled = true;  // To prevent multiple clicks.\n",
              "      quickchartButtonEl.classList.add('colab-df-spinner');\n",
              "      try {\n",
              "        const charts = await google.colab.kernel.invokeFunction(\n",
              "            'suggestCharts', [key], {});\n",
              "      } catch (error) {\n",
              "        console.error('Error during call to suggestCharts:', error);\n",
              "      }\n",
              "      quickchartButtonEl.classList.remove('colab-df-spinner');\n",
              "      quickchartButtonEl.classList.add('colab-df-quickchart-complete');\n",
              "    }\n",
              "    (() => {\n",
              "      let quickchartButtonEl =\n",
              "        document.querySelector('#df-7cede224-1124-475e-905d-65b2b714768e button');\n",
              "      quickchartButtonEl.style.display =\n",
              "        google.colab.kernel.accessAllowed ? 'block' : 'none';\n",
              "    })();\n",
              "  </script>\n",
              "</div>\n",
              "\n",
              "    </div>\n",
              "  </div>\n"
            ],
            "text/plain": [
              "                                        HospitalName  ProviderNo State  \\\n",
              "0                                  FALMOUTH HOSPITAL      220135    MA   \n",
              "1                                PALMS WEST HOSPITAL      100269    FL   \n",
              "2  BAYLOR ORTHOPEDIC AND SPINE HOSPITAL AT ARLINGTON      670067    TX   \n",
              "3                        ST MARY'S HOSPITAL ( TROY )      330232    NY   \n",
              "4          MARTIN LUTHER KING JR. COMMUNITY HOSPITAL       50779    CA   \n",
              "\n",
              "                                              Period  \\\n",
              "0  1 through 30 days After Discharge from Index H...   \n",
              "1  1 through 30 days After Discharge from Index H...   \n",
              "2                    During Index Hospital Admission   \n",
              "3      1 to 3 days Prior to Index Hospital Admission   \n",
              "4      1 to 3 days Prior to Index Hospital Admission   \n",
              "\n",
              "                  ClaimType  HospitalAvgSpend  StateAvgSpend  \\\n",
              "0                   Hospice             104.0           88.0   \n",
              "1  Skilled Nursing Facility            3235.0         3534.0   \n",
              "2        Home Health Agency               0.0            0.0   \n",
              "3                Outpatient              33.0           83.0   \n",
              "4        Home Health Agency               0.0           13.0   \n",
              "\n",
              "   NationalAvgSpend  HospitalSpendingPercentage  StateSpendingPercentage  \\\n",
              "0             122.0                      0.0052                   0.0043   \n",
              "1            3319.0                      0.1676                   0.1707   \n",
              "2               0.0                      0.0000                   0.0000   \n",
              "3             124.0                      0.0022                   0.0041   \n",
              "4              14.0                      0.0000                   0.0006   \n",
              "\n",
              "   NationalSpendPercentage   StartDate     EndDate  \n",
              "0                   0.0060  2021-08-13  2022-07-26  \n",
              "1                   0.1619  2022-03-03  2022-09-18  \n",
              "2                   0.0000  2023-03-24  2023-07-28  \n",
              "3                   0.0061  2022-12-27  2023-08-05  \n",
              "4                   0.0007  2021-01-29  2021-05-19  "
            ]
          },
          "execution_count": 45,
          "metadata": {},
          "output_type": "execute_result"
        }
      ],
      "source": [
        "df.head()"
      ]
    },
    {
      "cell_type": "markdown",
      "metadata": {
        "id": "UWl4DZKMShPI"
      },
      "source": [
        "\n",
        "\n",
        "---\n",
        "\n"
      ]
    },
    {
      "cell_type": "code",
      "execution_count": null,
      "metadata": {
        "id": "sOcazC29-eqe"
      },
      "outputs": [],
      "source": [
        "import mysql.connector\n",
        "\n",
        "# Create a connection to the MySQL server\n",
        "conn = mysql.connector.connect(user='root', password='root', host='localhost')\n",
        "\n",
        "# Create a cursor to interact with the MySQL server\n",
        "cursor = conn.cursor()\n",
        "\n",
        "# Create a new database named 'hospital' # CREATE DATABASE  IF NOT EXISTS hospital\n",
        "cursor.execute(\"CREATE DATABASE  IF NOT EXISTS `hospital` /*!40100 DEFAULT CHARACTER SET utf8mb4 COLLATE utf8mb4_0900_ai_ci */ /*!80016 DEFAULT ENCRYPTION='N' */;\")\n",
        "\n",
        "# Switch to the 'hospital' database\n",
        "cursor.execute(\"USE `hospital`;\") # USE hospital\n",
        "\n",
        "# Create the 'hospital_data' table\n",
        "cursor.execute('''\n",
        "-- MySQL dump 10.13  Distrib 8.0.32, for Win64 (x86_64)\n",
        "--\n",
        "-- Host: localhost    Database: hospital\n",
        "-- ------------------------------------------------------\n",
        "-- Server version\t8.0.32\n",
        "\n",
        "/*!40101 SET @OLD_CHARACTER_SET_CLIENT=@@CHARACTER_SET_CLIENT */;\n",
        "/*!40101 SET @OLD_CHARACTER_SET_RESULTS=@@CHARACTER_SET_RESULTS */;\n",
        "/*!40101 SET @OLD_COLLATION_CONNECTION=@@COLLATION_CONNECTION */;\n",
        "/*!50503 SET NAMES utf8 */;\n",
        "/*!40103 SET @OLD_TIME_ZONE=@@TIME_ZONE */;\n",
        "/*!40103 SET TIME_ZONE='+00:00' */;\n",
        "/*!40014 SET @OLD_UNIQUE_CHECKS=@@UNIQUE_CHECKS, UNIQUE_CHECKS=0 */;\n",
        "/*!40014 SET @OLD_FOREIGN_KEY_CHECKS=@@FOREIGN_KEY_CHECKS, FOREIGN_KEY_CHECKS=0 */;\n",
        "/*!40101 SET @OLD_SQL_MODE=@@SQL_MODE, SQL_MODE='NO_AUTO_VALUE_ON_ZERO' */;\n",
        "/*!40111 SET @OLD_SQL_NOTES=@@SQL_NOTES, SQL_NOTES=0 */;\n",
        "\n",
        "--\n",
        "-- Table structure for table `patient_data`\n",
        "--\n",
        "\n",
        "DROP TABLE IF EXISTS `patient_data`;\n",
        "/*!40101 SET @saved_cs_client     = @@character_set_client */;\n",
        "/*!50503 SET character_set_client = utf8mb4 */;\n",
        "CREATE TABLE `patient_data` (\n",
        "  `HospitalID` int DEFAULT NULL,\n",
        "  `PatientID` int NOT NULL,\n",
        "  `InvoiceAmount` double DEFAULT NULL,\n",
        "  `Age` int DEFAULT NULL,\n",
        "  `Smoker` int DEFAULT NULL,\n",
        "  `BMI` int DEFAULT NULL,\n",
        "  `DrugsAlc` int DEFAULT NULL,\n",
        "  `Employed` int DEFAULT NULL,\n",
        "  `Diabetic` int DEFAULT NULL,\n",
        "  `Pregnant` int DEFAULT NULL,\n",
        "  `PreCondition` int DEFAULT NULL,\n",
        "  `Feedback` int DEFAULT NULL,\n",
        "  `HomeState` text,\n",
        "  PRIMARY KEY (`PatientID`),\n",
        "  CONSTRAINT `patient_data_chk_1` CHECK ((`Smoker` in (0,1))),\n",
        "  CONSTRAINT `patient_data_chk_2` CHECK ((`DrugsAlc` in (0,1))),\n",
        "  CONSTRAINT `patient_data_chk_3` CHECK ((`Employed` in (0,1))),\n",
        "  CONSTRAINT `patient_data_chk_4` CHECK ((`Diabetic` in (0,1))),\n",
        "  CONSTRAINT `patient_data_chk_5` CHECK ((`Pregnant` in (0,1))),\n",
        "  CONSTRAINT `patient_data_chk_6` CHECK ((`PreCondition` in (0,1))),\n",
        "  CONSTRAINT `patient_data_chk_7` CHECK ((`Feedback` in (-(1),0,1)))\n",
        ") ENGINE=InnoDB DEFAULT CHARSET=utf8mb4 COLLATE=utf8mb4_0900_ai_ci;\n",
        "''')\n",
        "\n",
        "# Always remember to close the cursor and connection when done\n",
        "cursor.close()\n",
        "conn.close()"
      ]
    },
    {
      "cell_type": "code",
      "execution_count": null,
      "metadata": {
        "id": "wR2DVr8LBBaJ"
      },
      "outputs": [],
      "source": [
        "import mysql.connector\n",
        "\n",
        "NULL = \"\"\n",
        "# Connect to the MySQL server and the 'library' database\n",
        "conn = mysql.connector.connect(user='root', password='root', host='localhost', database='hospital')\n",
        "cursor = conn.cursor()\n",
        "\n",
        "patient_data = [\n",
        "    (220135,105947,101.383048333209,31,0,28,0,1,1,0,0,-1,'ME'),(510062,111365,43.3121368927957,28,1,30,1,0,1,0,0,1,'WV'),(330151,143384,0,33,1,20,1,0,0,0,0,0,'NY'),(150149,149265,428.536207517161,59,1,34,0,0,1,0,0,0,'NM'),(240014,158168,55.4445204743628,30,1,32,1,0,1,1,1,-1,'MN'),(180101,171874,0,31,0,36,0,0,0,0,1,0,'KY'),(110007,192429,0,47,1,28,1,0,0,0,0,1,'GA'),(140158,205573,3476.89696552718,30,1,38,1,0,1,0,1,1,'IL'),(450042,226054,4.90548309119573,25,0,26,1,1,1,1,1,1,'TX'),(30073,239824,3.10470802694607,61,0,26,0,1,0,0,0,0,'OH'),(450746,240304,16365.4498802826,65,0,21,0,1,1,0,0,0,'TX'),(280134,264443,511.9453748616,74,0,36,1,0,0,0,1,-1,'NM'),(520013,273557,495.031560459881,37,1,29,0,1,1,0,1,0,'WI'),(140206,277680,738.053011029385,46,1,34,0,0,0,0,1,1,'CO'),(100040,282001,150.516954564251,21,0,37,0,1,0,0,0,0,'FL'),(450604,300701,3648.01637773132,58,0,37,0,1,1,0,0,-1,'TX'),(440091,305385,466.760339022974,33,0,19,1,0,1,0,1,1,'TN'),(250104,315727,0,70,1,35,0,0,1,0,1,-1,'MO'),(320060,316769,2092.51286308322,20,1,25,0,1,0,1,0,1,'NM'),(440184,329878,2131.04065814843,53,1,18,0,0,0,0,0,1,'IA'),(100228,338591,1560.08572227569,23,1,19,0,0,0,0,0,0,'FL'),(100055,340307,11.7706767282083,24,0,25,0,0,0,0,0,0,'FL'),(50063,343117,529.682034136643,30,1,27,0,1,1,0,1,0,'CA'),(150001,348271,7259.52604773933,31,0,33,0,0,0,0,0,0,'IN'),(360010,360437,0,39,0,21,0,0,1,0,0,0,'OH'),(60028,381474,0,53,1,29,0,1,0,0,1,0,'NH'),(230132,400749,11.9091465092866,72,0,33,1,0,1,0,1,1,'MI'),(50488,400882,665.022455860342,29,1,39,0,1,1,1,1,-1,'MN'),(370016,400976,28.7889715759114,27,1,39,0,0,0,1,0,1,NULL),(240001,429269,399.079480922848,17,0,32,1,0,0,0,1,1,'PA'),(200009,445562,1060.74948712044,25,1,36,0,0,0,0,0,0,'AZ'),(50197,446224,11439.4696734318,42,0,28,0,0,1,0,1,0,'TX'),(420069,449142,0,45,0,19,1,0,1,0,0,0,'MO'),(450046,453750,973.395111064596,15,1,39,0,0,0,1,1,-1,'ND'),(20012,460986,657.865704840439,24,0,23,0,0,1,1,1,0,'AR'),(230208,461973,8848.32351330798,73,1,38,1,0,0,0,1,0,'AL'),(340133,486028,34.4408549900072,50,1,20,0,1,1,0,1,0,'MN'),(450187,487220,0,57,1,20,0,0,0,0,1,0,'TX'),(390112,500078,669.17745171113,40,1,36,1,0,0,0,1,-1,'PA'),(100167,523872,7928.29226506731,37,0,28,0,1,1,0,1,0,'FL'),(440228,525501,52.8388648218745,72,1,25,0,0,0,0,0,1,NULL),(30016,528474,1873.24013148755,20,1,39,0,0,0,0,1,0,'AZ'),(280125,539839,1930.78403021076,38,0,28,1,1,0,0,1,0,'IA'),(320005,545027,0,29,1,36,1,0,1,0,0,0,NULL),(360071,546165,16.5546517363299,42,1,25,0,1,0,0,1,1,'OH'),(160146,555779,0,28,0,26,0,1,0,1,1,-1,'IN'),(120011,570986,8.29685765343457,18,0,37,0,0,0,0,0,-1,'CA'),(670096,572066,0,16,1,37,1,1,1,1,1,0,'TX'),(360071,579077,3.98912353035599,42,1,39,0,0,0,0,0,-1,'WV'),(100084,586546,9483.88124485053,65,0,36,1,0,1,0,1,0,'IL'),(50608,593385,0,31,1,39,0,0,1,0,1,-1,'CA'),(330073,595320,0,24,1,21,1,0,0,0,1,1,'NY'),(140167,597200,26.950353657226,50,1,25,1,0,0,0,1,-1,'RI'),(310073,616733,23289.453519844,53,0,21,1,1,0,0,1,0,'NJ'),(100023,626098,8040.01571818363,59,1,18,1,0,0,0,0,1,'FL'),(390100,653210,6.21728183511756,36,1,28,1,0,0,0,1,1,'NY'),(140223,656217,2684.59854737459,26,0,27,1,0,0,0,0,-1,'IL'),(70021,665711,0,28,1,19,0,1,1,1,1,0,'CT'),(450211,672448,231.656437864297,31,1,18,0,1,1,0,0,0,'TX'),(100315,701396,0,55,1,19,0,1,1,0,1,-1,'FL'),(200001,705701,1429.29473058177,65,1,31,1,0,0,0,0,1,'ME'),(190079,706565,2824.65688038721,66,0,26,1,0,0,0,1,-1,'TX'),(390096,707455,898.135263369119,32,0,21,0,0,0,0,1,-1,'LA'),(450563,707864,0,35,0,19,1,0,0,1,0,1,'DE'),(390081,723724,800.640723062437,72,1,39,1,0,1,0,0,0,'OK'),(330180,724951,0,39,1,25,1,0,1,0,1,1,'NM'),(230054,726139,13.5011705674649,67,0,39,1,0,1,0,1,0,'MA'),(450044,726749,0,19,0,32,0,0,1,1,0,0,'NC'),(40026,733140,616.54668712512,68,1,20,0,1,1,0,0,1,'ME'),(110029,740403,130.121494121567,16,1,26,1,0,0,0,0,1,'DE'),(450130,742378,165.03140844727,30,1,27,1,0,0,0,0,1,'TX'),(30068,744969,1139.62459697779,30,0,19,0,1,0,1,1,1,'TN'),(670067,750090,0,74,0,38,1,0,0,0,0,-1,'IN'),(390091,783051,0,32,1,20,1,1,0,1,0,-1,'PA'),(340084,784526,1141.01932849276,28,1,29,1,0,1,0,1,1,'NC'),(180005,786045,1876.47070299184,37,1,18,1,1,0,0,1,-1,'KY'),(140231,793725,1136.16624400157,56,1,18,1,0,1,0,1,-1,'NC'),(330160,795427,1.02336663223091,35,1,31,1,0,1,0,0,-1,'NY'),(240020,817860,7.26690393775021,40,0,36,1,1,0,0,1,1,'MN'),(100269,822734,3312.1179570618,44,1,32,1,1,1,0,0,-1,'GA'),(490032,827295,188.728210166269,73,0,31,1,0,1,0,1,-1,'NH'),(450617,832204,5.7607660917047,24,0,28,1,1,1,1,1,0,'TX'),(390067,846484,13.001597880183,25,0,23,0,0,0,0,1,0,'OK'),(100211,858081,19451.6276276593,41,1,36,0,0,1,0,1,-1,'KY'),(90011,859889,3287.36190878833,21,0,30,0,1,1,0,1,0,'ND'),(100255,875803,8328.74966686,70,1,26,0,1,0,0,0,1,'ID'),(670076,877382,61.4072752928726,34,1,20,0,1,0,0,1,1,'TN'),(450713,890393,87.9546272598565,28,1,26,1,0,1,0,0,0,'TX'),(50308,896255,1.99515636128498,24,0,25,1,0,0,0,0,1,'CA'),(490123,914459,799.110587994716,61,1,36,0,0,0,0,0,1,'UT'),(300001,914986,0,30,1,31,0,0,1,1,0,0,'NH'),(50708,958117,0,73,0,26,1,0,1,0,0,-1,'CA'),(110142,960940,859.584628057995,56,0,27,1,0,1,0,0,0,'IN'),(50779,964136,0,31,1,23,1,1,1,0,1,-1,'CA'),(10130,968836,0,23,0,32,1,0,1,0,0,0,'AL'),(330104,969985,636.863127345299,20,0,30,1,0,0,0,0,1,'GA'),(190017,972286,2.98770448263685,44,0,29,0,1,0,0,0,0,'UT'),(230070,982838,807.084249866267,34,0,22,0,1,0,0,1,1,'MI'),(220058,983693,1571.43558785055,57,0,39,1,0,1,0,0,1,'MA'),(330232,985087,34.4764545613014,19,1,28,1,1,0,0,1,1,'ND')\n",
        "]\n",
        "\n",
        "# Insert data using the cursor\n",
        "cursor.executemany('''\n",
        "INSERT INTO patient_data VALUES (%s, %s, %s, %s, %s, %s, %s, %s, %s, %s, %s, %s, %s)\n",
        "''', patient_data)\n",
        "\n",
        "# Commit the changes\n",
        "conn.commit()\n",
        "\n",
        "# Close the cursor and connection\n",
        "cursor.close()\n",
        "conn.close()"
      ]
    },
    {
      "cell_type": "code",
      "execution_count": null,
      "metadata": {
        "colab": {
          "base_uri": "https://localhost:8080/"
        },
        "id": "SOK4sX6E_lnc",
        "outputId": "d1666f4d-4da2-46e6-98b8-1ef88adbcb9a"
      },
      "outputs": [
        {
          "name": "stdout",
          "output_type": "stream",
          "text": [
            "(220135, 105947, 101.383048333209, 31, 0, 28, 0, 1, 1, 0, 0, -1, 'ME')\n",
            "(510062, 111365, 43.3121368927957, 28, 1, 30, 1, 0, 1, 0, 0, 1, 'WV')\n",
            "(330151, 143384, 0.0, 33, 1, 20, 1, 0, 0, 0, 0, 0, 'NY')\n",
            "(150149, 149265, 428.536207517161, 59, 1, 34, 0, 0, 1, 0, 0, 0, 'NM')\n",
            "(240014, 158168, 55.4445204743628, 30, 1, 32, 1, 0, 1, 1, 1, -1, 'MN')\n",
            "(180101, 171874, 0.0, 31, 0, 36, 0, 0, 0, 0, 1, 0, 'KY')\n",
            "(110007, 192429, 0.0, 47, 1, 28, 1, 0, 0, 0, 0, 1, 'GA')\n",
            "(140158, 205573, 3476.89696552718, 30, 1, 38, 1, 0, 1, 0, 1, 1, 'IL')\n",
            "(450042, 226054, 4.90548309119573, 25, 0, 26, 1, 1, 1, 1, 1, 1, 'TX')\n",
            "(30073, 239824, 3.10470802694607, 61, 0, 26, 0, 1, 0, 0, 0, 0, 'OH')\n",
            "(450746, 240304, 16365.4498802826, 65, 0, 21, 0, 1, 1, 0, 0, 0, 'TX')\n",
            "(280134, 264443, 511.9453748616, 74, 0, 36, 1, 0, 0, 0, 1, -1, 'NM')\n",
            "(520013, 273557, 495.031560459881, 37, 1, 29, 0, 1, 1, 0, 1, 0, 'WI')\n",
            "(140206, 277680, 738.053011029385, 46, 1, 34, 0, 0, 0, 0, 1, 1, 'CO')\n",
            "(100040, 282001, 150.516954564251, 21, 0, 37, 0, 1, 0, 0, 0, 0, 'FL')\n",
            "(450604, 300701, 3648.01637773132, 58, 0, 37, 0, 1, 1, 0, 0, -1, 'TX')\n",
            "(440091, 305385, 466.760339022974, 33, 0, 19, 1, 0, 1, 0, 1, 1, 'TN')\n",
            "(250104, 315727, 0.0, 70, 1, 35, 0, 0, 1, 0, 1, -1, 'MO')\n",
            "(320060, 316769, 2092.51286308322, 20, 1, 25, 0, 1, 0, 1, 0, 1, 'NM')\n",
            "(440184, 329878, 2131.04065814843, 53, 1, 18, 0, 0, 0, 0, 0, 1, 'IA')\n",
            "(100228, 338591, 1560.08572227569, 23, 1, 19, 0, 0, 0, 0, 0, 0, 'FL')\n",
            "(100055, 340307, 11.7706767282083, 24, 0, 25, 0, 0, 0, 0, 0, 0, 'FL')\n",
            "(50063, 343117, 529.682034136643, 30, 1, 27, 0, 1, 1, 0, 1, 0, 'CA')\n",
            "(150001, 348271, 7259.52604773933, 31, 0, 33, 0, 0, 0, 0, 0, 0, 'IN')\n",
            "(360010, 360437, 0.0, 39, 0, 21, 0, 0, 1, 0, 0, 0, 'OH')\n",
            "(60028, 381474, 0.0, 53, 1, 29, 0, 1, 0, 0, 1, 0, 'NH')\n",
            "(230132, 400749, 11.9091465092866, 72, 0, 33, 1, 0, 1, 0, 1, 1, 'MI')\n",
            "(50488, 400882, 665.022455860342, 29, 1, 39, 0, 1, 1, 1, 1, -1, 'MN')\n",
            "(370016, 400976, 28.7889715759114, 27, 1, 39, 0, 0, 0, 1, 0, 1, '')\n",
            "(240001, 429269, 399.079480922848, 17, 0, 32, 1, 0, 0, 0, 1, 1, 'PA')\n",
            "(200009, 445562, 1060.74948712044, 25, 1, 36, 0, 0, 0, 0, 0, 0, 'AZ')\n",
            "(50197, 446224, 11439.4696734318, 42, 0, 28, 0, 0, 1, 0, 1, 0, 'TX')\n",
            "(420069, 449142, 0.0, 45, 0, 19, 1, 0, 1, 0, 0, 0, 'MO')\n",
            "(450046, 453750, 973.395111064596, 15, 1, 39, 0, 0, 0, 1, 1, -1, 'ND')\n",
            "(20012, 460986, 657.865704840439, 24, 0, 23, 0, 0, 1, 1, 1, 0, 'AR')\n",
            "(230208, 461973, 8848.32351330798, 73, 1, 38, 1, 0, 0, 0, 1, 0, 'AL')\n",
            "(340133, 486028, 34.4408549900072, 50, 1, 20, 0, 1, 1, 0, 1, 0, 'MN')\n",
            "(450187, 487220, 0.0, 57, 1, 20, 0, 0, 0, 0, 1, 0, 'TX')\n",
            "(390112, 500078, 669.17745171113, 40, 1, 36, 1, 0, 0, 0, 1, -1, 'PA')\n",
            "(100167, 523872, 7928.29226506731, 37, 0, 28, 0, 1, 1, 0, 1, 0, 'FL')\n",
            "(440228, 525501, 52.8388648218745, 72, 1, 25, 0, 0, 0, 0, 0, 1, '')\n",
            "(30016, 528474, 1873.24013148755, 20, 1, 39, 0, 0, 0, 0, 1, 0, 'AZ')\n",
            "(280125, 539839, 1930.78403021076, 38, 0, 28, 1, 1, 0, 0, 1, 0, 'IA')\n",
            "(320005, 545027, 0.0, 29, 1, 36, 1, 0, 1, 0, 0, 0, '')\n",
            "(360071, 546165, 16.5546517363299, 42, 1, 25, 0, 1, 0, 0, 1, 1, 'OH')\n",
            "(160146, 555779, 0.0, 28, 0, 26, 0, 1, 0, 1, 1, -1, 'IN')\n",
            "(120011, 570986, 8.29685765343457, 18, 0, 37, 0, 0, 0, 0, 0, -1, 'CA')\n",
            "(670096, 572066, 0.0, 16, 1, 37, 1, 1, 1, 1, 1, 0, 'TX')\n",
            "(360071, 579077, 3.98912353035599, 42, 1, 39, 0, 0, 0, 0, 0, -1, 'WV')\n",
            "(100084, 586546, 9483.88124485053, 65, 0, 36, 1, 0, 1, 0, 1, 0, 'IL')\n",
            "(50608, 593385, 0.0, 31, 1, 39, 0, 0, 1, 0, 1, -1, 'CA')\n",
            "(330073, 595320, 0.0, 24, 1, 21, 1, 0, 0, 0, 1, 1, 'NY')\n",
            "(140167, 597200, 26.950353657226, 50, 1, 25, 1, 0, 0, 0, 1, -1, 'RI')\n",
            "(310073, 616733, 23289.453519844, 53, 0, 21, 1, 1, 0, 0, 1, 0, 'NJ')\n",
            "(100023, 626098, 8040.01571818363, 59, 1, 18, 1, 0, 0, 0, 0, 1, 'FL')\n",
            "(390100, 653210, 6.21728183511756, 36, 1, 28, 1, 0, 0, 0, 1, 1, 'NY')\n",
            "(140223, 656217, 2684.59854737459, 26, 0, 27, 1, 0, 0, 0, 0, -1, 'IL')\n",
            "(70021, 665711, 0.0, 28, 1, 19, 0, 1, 1, 1, 1, 0, 'CT')\n",
            "(450211, 672448, 231.656437864297, 31, 1, 18, 0, 1, 1, 0, 0, 0, 'TX')\n",
            "(100315, 701396, 0.0, 55, 1, 19, 0, 1, 1, 0, 1, -1, 'FL')\n",
            "(200001, 705701, 1429.29473058177, 65, 1, 31, 1, 0, 0, 0, 0, 1, 'ME')\n",
            "(190079, 706565, 2824.65688038721, 66, 0, 26, 1, 0, 0, 0, 1, -1, 'TX')\n",
            "(390096, 707455, 898.135263369119, 32, 0, 21, 0, 0, 0, 0, 1, -1, 'LA')\n",
            "(450563, 707864, 0.0, 35, 0, 19, 1, 0, 0, 1, 0, 1, 'DE')\n",
            "(390081, 723724, 800.640723062437, 72, 1, 39, 1, 0, 1, 0, 0, 0, 'OK')\n",
            "(330180, 724951, 0.0, 39, 1, 25, 1, 0, 1, 0, 1, 1, 'NM')\n",
            "(230054, 726139, 13.5011705674649, 67, 0, 39, 1, 0, 1, 0, 1, 0, 'MA')\n",
            "(450044, 726749, 0.0, 19, 0, 32, 0, 0, 1, 1, 0, 0, 'NC')\n",
            "(40026, 733140, 616.54668712512, 68, 1, 20, 0, 1, 1, 0, 0, 1, 'ME')\n",
            "(110029, 740403, 130.121494121567, 16, 1, 26, 1, 0, 0, 0, 0, 1, 'DE')\n",
            "(450130, 742378, 165.03140844727, 30, 1, 27, 1, 0, 0, 0, 0, 1, 'TX')\n",
            "(30068, 744969, 1139.62459697779, 30, 0, 19, 0, 1, 0, 1, 1, 1, 'TN')\n",
            "(670067, 750090, 0.0, 74, 0, 38, 1, 0, 0, 0, 0, -1, 'IN')\n",
            "(390091, 783051, 0.0, 32, 1, 20, 1, 1, 0, 1, 0, -1, 'PA')\n",
            "(340084, 784526, 1141.01932849276, 28, 1, 29, 1, 0, 1, 0, 1, 1, 'NC')\n",
            "(180005, 786045, 1876.47070299184, 37, 1, 18, 1, 1, 0, 0, 1, -1, 'KY')\n",
            "(140231, 793725, 1136.16624400157, 56, 1, 18, 1, 0, 1, 0, 1, -1, 'NC')\n",
            "(330160, 795427, 1.02336663223091, 35, 1, 31, 1, 0, 1, 0, 0, -1, 'NY')\n",
            "(240020, 817860, 7.26690393775021, 40, 0, 36, 1, 1, 0, 0, 1, 1, 'MN')\n",
            "(100269, 822734, 3312.1179570618, 44, 1, 32, 1, 1, 1, 0, 0, -1, 'GA')\n",
            "(490032, 827295, 188.728210166269, 73, 0, 31, 1, 0, 1, 0, 1, -1, 'NH')\n",
            "(450617, 832204, 5.7607660917047, 24, 0, 28, 1, 1, 1, 1, 1, 0, 'TX')\n",
            "(390067, 846484, 13.001597880183, 25, 0, 23, 0, 0, 0, 0, 1, 0, 'OK')\n",
            "(100211, 858081, 19451.6276276593, 41, 1, 36, 0, 0, 1, 0, 1, -1, 'KY')\n",
            "(90011, 859889, 3287.36190878833, 21, 0, 30, 0, 1, 1, 0, 1, 0, 'ND')\n",
            "(100255, 875803, 8328.74966686, 70, 1, 26, 0, 1, 0, 0, 0, 1, 'ID')\n",
            "(670076, 877382, 61.4072752928726, 34, 1, 20, 0, 1, 0, 0, 1, 1, 'TN')\n",
            "(450713, 890393, 87.9546272598565, 28, 1, 26, 1, 0, 1, 0, 0, 0, 'TX')\n",
            "(50308, 896255, 1.99515636128498, 24, 0, 25, 1, 0, 0, 0, 0, 1, 'CA')\n",
            "(490123, 914459, 799.110587994716, 61, 1, 36, 0, 0, 0, 0, 0, 1, 'UT')\n",
            "(300001, 914986, 0.0, 30, 1, 31, 0, 0, 1, 1, 0, 0, 'NH')\n",
            "(50708, 958117, 0.0, 73, 0, 26, 1, 0, 1, 0, 0, -1, 'CA')\n",
            "(110142, 960940, 859.584628057995, 56, 0, 27, 1, 0, 1, 0, 0, 0, 'IN')\n",
            "(50779, 964136, 0.0, 31, 1, 23, 1, 1, 1, 0, 1, -1, 'CA')\n",
            "(10130, 968836, 0.0, 23, 0, 32, 1, 0, 1, 0, 0, 0, 'AL')\n",
            "(330104, 969985, 636.863127345299, 20, 0, 30, 1, 0, 0, 0, 0, 1, 'GA')\n",
            "(190017, 972286, 2.98770448263685, 44, 0, 29, 0, 1, 0, 0, 0, 0, 'UT')\n",
            "(230070, 982838, 807.084249866267, 34, 0, 22, 0, 1, 0, 0, 1, 1, 'MI')\n",
            "(220058, 983693, 1571.43558785055, 57, 0, 39, 1, 0, 1, 0, 0, 1, 'MA')\n",
            "(330232, 985087, 34.4764545613014, 19, 1, 28, 1, 1, 0, 0, 1, 1, 'ND')\n"
          ]
        }
      ],
      "source": [
        "import mysql.connector\n",
        "\n",
        "# Connect to the MySQL server and the 'hospital' database\n",
        "conn = mysql.connector.connect(user='root', password='root', host='localhost', database='hospital')\n",
        "cursor = conn.cursor()\n",
        "\n",
        "# Execute the SELECT query\n",
        "# cursor.execute(\"SELECT table_name FROM information_schema.tables;\") # SELECT * FROM hospital_data\n",
        "cursor.execute(\"SELECT * FROM patient_data\") # SELECT table_name FROM information_schema.tables;\n",
        "\n",
        "# Fetch all the results\n",
        "records = cursor.fetchall()\n",
        "\n",
        "# Print the records\n",
        "for record in records:\n",
        "    print(record)\n",
        "\n",
        "# Close the cursor and connection\n",
        "cursor.close()\n",
        "conn.close()"
      ]
    },
    {
      "cell_type": "code",
      "execution_count": null,
      "metadata": {
        "colab": {
          "base_uri": "https://localhost:8080/"
        },
        "id": "_1dFTq8ARx5h",
        "outputId": "2a2b9e0a-0607-4881-c9a5-2aade8b57bd2"
      },
      "outputs": [
        {
          "name": "stderr",
          "output_type": "stream",
          "text": [
            "<ipython-input-49-f092b0adcb87>:8: UserWarning: pandas only supports SQLAlchemy connectable (engine/connection) or database string URI or sqlite3 DBAPI2 connection. Other DBAPI2 objects are not tested. Please consider using SQLAlchemy.\n",
            "  df = pd.read_sql(query, conn)\n"
          ]
        }
      ],
      "source": [
        "import pandas as pd\n",
        "\n",
        "# Connect to MySQL\n",
        "conn = mysql.connector.connect(user='root', password='root', host='localhost', database='hospital')\n",
        "\n",
        "# Fetch data into a pandas DataFrame\n",
        "query = \"SELECT * FROM patient_data\"\n",
        "df = pd.read_sql(query, conn)"
      ]
    },
    {
      "cell_type": "code",
      "execution_count": null,
      "metadata": {
        "colab": {
          "base_uri": "https://localhost:8080/",
          "height": 206
        },
        "id": "u0b7RgmbRx5h",
        "outputId": "e793e218-a49a-4872-89fd-cd55ca7d002b"
      },
      "outputs": [
        {
          "data": {
            "text/html": [
              "\n",
              "  <div id=\"df-604ff8d6-0664-4f58-a4ce-7965638845ac\" class=\"colab-df-container\">\n",
              "    <div>\n",
              "<style scoped>\n",
              "    .dataframe tbody tr th:only-of-type {\n",
              "        vertical-align: middle;\n",
              "    }\n",
              "\n",
              "    .dataframe tbody tr th {\n",
              "        vertical-align: top;\n",
              "    }\n",
              "\n",
              "    .dataframe thead th {\n",
              "        text-align: right;\n",
              "    }\n",
              "</style>\n",
              "<table border=\"1\" class=\"dataframe\">\n",
              "  <thead>\n",
              "    <tr style=\"text-align: right;\">\n",
              "      <th></th>\n",
              "      <th>HospitalID</th>\n",
              "      <th>PatientID</th>\n",
              "      <th>InvoiceAmount</th>\n",
              "      <th>Age</th>\n",
              "      <th>Smoker</th>\n",
              "      <th>BMI</th>\n",
              "      <th>DrugsAlc</th>\n",
              "      <th>Employed</th>\n",
              "      <th>Diabetic</th>\n",
              "      <th>Pregnant</th>\n",
              "      <th>PreCondition</th>\n",
              "      <th>Feedback</th>\n",
              "      <th>HomeState</th>\n",
              "    </tr>\n",
              "  </thead>\n",
              "  <tbody>\n",
              "    <tr>\n",
              "      <th>0</th>\n",
              "      <td>220135</td>\n",
              "      <td>105947</td>\n",
              "      <td>101.383048</td>\n",
              "      <td>31</td>\n",
              "      <td>0</td>\n",
              "      <td>28</td>\n",
              "      <td>0</td>\n",
              "      <td>1</td>\n",
              "      <td>1</td>\n",
              "      <td>0</td>\n",
              "      <td>0</td>\n",
              "      <td>-1</td>\n",
              "      <td>ME</td>\n",
              "    </tr>\n",
              "    <tr>\n",
              "      <th>1</th>\n",
              "      <td>510062</td>\n",
              "      <td>111365</td>\n",
              "      <td>43.312137</td>\n",
              "      <td>28</td>\n",
              "      <td>1</td>\n",
              "      <td>30</td>\n",
              "      <td>1</td>\n",
              "      <td>0</td>\n",
              "      <td>1</td>\n",
              "      <td>0</td>\n",
              "      <td>0</td>\n",
              "      <td>1</td>\n",
              "      <td>WV</td>\n",
              "    </tr>\n",
              "    <tr>\n",
              "      <th>2</th>\n",
              "      <td>330151</td>\n",
              "      <td>143384</td>\n",
              "      <td>0.000000</td>\n",
              "      <td>33</td>\n",
              "      <td>1</td>\n",
              "      <td>20</td>\n",
              "      <td>1</td>\n",
              "      <td>0</td>\n",
              "      <td>0</td>\n",
              "      <td>0</td>\n",
              "      <td>0</td>\n",
              "      <td>0</td>\n",
              "      <td>NY</td>\n",
              "    </tr>\n",
              "    <tr>\n",
              "      <th>3</th>\n",
              "      <td>150149</td>\n",
              "      <td>149265</td>\n",
              "      <td>428.536208</td>\n",
              "      <td>59</td>\n",
              "      <td>1</td>\n",
              "      <td>34</td>\n",
              "      <td>0</td>\n",
              "      <td>0</td>\n",
              "      <td>1</td>\n",
              "      <td>0</td>\n",
              "      <td>0</td>\n",
              "      <td>0</td>\n",
              "      <td>NM</td>\n",
              "    </tr>\n",
              "    <tr>\n",
              "      <th>4</th>\n",
              "      <td>240014</td>\n",
              "      <td>158168</td>\n",
              "      <td>55.444520</td>\n",
              "      <td>30</td>\n",
              "      <td>1</td>\n",
              "      <td>32</td>\n",
              "      <td>1</td>\n",
              "      <td>0</td>\n",
              "      <td>1</td>\n",
              "      <td>1</td>\n",
              "      <td>1</td>\n",
              "      <td>-1</td>\n",
              "      <td>MN</td>\n",
              "    </tr>\n",
              "  </tbody>\n",
              "</table>\n",
              "</div>\n",
              "    <div class=\"colab-df-buttons\">\n",
              "\n",
              "  <div class=\"colab-df-container\">\n",
              "    <button class=\"colab-df-convert\" onclick=\"convertToInteractive('df-604ff8d6-0664-4f58-a4ce-7965638845ac')\"\n",
              "            title=\"Convert this dataframe to an interactive table.\"\n",
              "            style=\"display:none;\">\n",
              "\n",
              "  <svg xmlns=\"http://www.w3.org/2000/svg\" height=\"24px\" viewBox=\"0 -960 960 960\">\n",
              "    <path d=\"M120-120v-720h720v720H120Zm60-500h600v-160H180v160Zm220 220h160v-160H400v160Zm0 220h160v-160H400v160ZM180-400h160v-160H180v160Zm440 0h160v-160H620v160ZM180-180h160v-160H180v160Zm440 0h160v-160H620v160Z\"/>\n",
              "  </svg>\n",
              "    </button>\n",
              "\n",
              "  <style>\n",
              "    .colab-df-container {\n",
              "      display:flex;\n",
              "      gap: 12px;\n",
              "    }\n",
              "\n",
              "    .colab-df-convert {\n",
              "      background-color: #E8F0FE;\n",
              "      border: none;\n",
              "      border-radius: 50%;\n",
              "      cursor: pointer;\n",
              "      display: none;\n",
              "      fill: #1967D2;\n",
              "      height: 32px;\n",
              "      padding: 0 0 0 0;\n",
              "      width: 32px;\n",
              "    }\n",
              "\n",
              "    .colab-df-convert:hover {\n",
              "      background-color: #E2EBFA;\n",
              "      box-shadow: 0px 1px 2px rgba(60, 64, 67, 0.3), 0px 1px 3px 1px rgba(60, 64, 67, 0.15);\n",
              "      fill: #174EA6;\n",
              "    }\n",
              "\n",
              "    .colab-df-buttons div {\n",
              "      margin-bottom: 4px;\n",
              "    }\n",
              "\n",
              "    [theme=dark] .colab-df-convert {\n",
              "      background-color: #3B4455;\n",
              "      fill: #D2E3FC;\n",
              "    }\n",
              "\n",
              "    [theme=dark] .colab-df-convert:hover {\n",
              "      background-color: #434B5C;\n",
              "      box-shadow: 0px 1px 3px 1px rgba(0, 0, 0, 0.15);\n",
              "      filter: drop-shadow(0px 1px 2px rgba(0, 0, 0, 0.3));\n",
              "      fill: #FFFFFF;\n",
              "    }\n",
              "  </style>\n",
              "\n",
              "    <script>\n",
              "      const buttonEl =\n",
              "        document.querySelector('#df-604ff8d6-0664-4f58-a4ce-7965638845ac button.colab-df-convert');\n",
              "      buttonEl.style.display =\n",
              "        google.colab.kernel.accessAllowed ? 'block' : 'none';\n",
              "\n",
              "      async function convertToInteractive(key) {\n",
              "        const element = document.querySelector('#df-604ff8d6-0664-4f58-a4ce-7965638845ac');\n",
              "        const dataTable =\n",
              "          await google.colab.kernel.invokeFunction('convertToInteractive',\n",
              "                                                    [key], {});\n",
              "        if (!dataTable) return;\n",
              "\n",
              "        const docLinkHtml = 'Like what you see? Visit the ' +\n",
              "          '<a target=\"_blank\" href=https://colab.research.google.com/notebooks/data_table.ipynb>data table notebook</a>'\n",
              "          + ' to learn more about interactive tables.';\n",
              "        element.innerHTML = '';\n",
              "        dataTable['output_type'] = 'display_data';\n",
              "        await google.colab.output.renderOutput(dataTable, element);\n",
              "        const docLink = document.createElement('div');\n",
              "        docLink.innerHTML = docLinkHtml;\n",
              "        element.appendChild(docLink);\n",
              "      }\n",
              "    </script>\n",
              "  </div>\n",
              "\n",
              "\n",
              "<div id=\"df-cb11f490-7a39-4955-94bc-1f2f7d849ca8\">\n",
              "  <button class=\"colab-df-quickchart\" onclick=\"quickchart('df-cb11f490-7a39-4955-94bc-1f2f7d849ca8')\"\n",
              "            title=\"Suggest charts\"\n",
              "            style=\"display:none;\">\n",
              "\n",
              "<svg xmlns=\"http://www.w3.org/2000/svg\" height=\"24px\"viewBox=\"0 0 24 24\"\n",
              "     width=\"24px\">\n",
              "    <g>\n",
              "        <path d=\"M19 3H5c-1.1 0-2 .9-2 2v14c0 1.1.9 2 2 2h14c1.1 0 2-.9 2-2V5c0-1.1-.9-2-2-2zM9 17H7v-7h2v7zm4 0h-2V7h2v10zm4 0h-2v-4h2v4z\"/>\n",
              "    </g>\n",
              "</svg>\n",
              "  </button>\n",
              "\n",
              "<style>\n",
              "  .colab-df-quickchart {\n",
              "      --bg-color: #E8F0FE;\n",
              "      --fill-color: #1967D2;\n",
              "      --hover-bg-color: #E2EBFA;\n",
              "      --hover-fill-color: #174EA6;\n",
              "      --disabled-fill-color: #AAA;\n",
              "      --disabled-bg-color: #DDD;\n",
              "  }\n",
              "\n",
              "  [theme=dark] .colab-df-quickchart {\n",
              "      --bg-color: #3B4455;\n",
              "      --fill-color: #D2E3FC;\n",
              "      --hover-bg-color: #434B5C;\n",
              "      --hover-fill-color: #FFFFFF;\n",
              "      --disabled-bg-color: #3B4455;\n",
              "      --disabled-fill-color: #666;\n",
              "  }\n",
              "\n",
              "  .colab-df-quickchart {\n",
              "    background-color: var(--bg-color);\n",
              "    border: none;\n",
              "    border-radius: 50%;\n",
              "    cursor: pointer;\n",
              "    display: none;\n",
              "    fill: var(--fill-color);\n",
              "    height: 32px;\n",
              "    padding: 0;\n",
              "    width: 32px;\n",
              "  }\n",
              "\n",
              "  .colab-df-quickchart:hover {\n",
              "    background-color: var(--hover-bg-color);\n",
              "    box-shadow: 0 1px 2px rgba(60, 64, 67, 0.3), 0 1px 3px 1px rgba(60, 64, 67, 0.15);\n",
              "    fill: var(--button-hover-fill-color);\n",
              "  }\n",
              "\n",
              "  .colab-df-quickchart-complete:disabled,\n",
              "  .colab-df-quickchart-complete:disabled:hover {\n",
              "    background-color: var(--disabled-bg-color);\n",
              "    fill: var(--disabled-fill-color);\n",
              "    box-shadow: none;\n",
              "  }\n",
              "\n",
              "  .colab-df-spinner {\n",
              "    border: 2px solid var(--fill-color);\n",
              "    border-color: transparent;\n",
              "    border-bottom-color: var(--fill-color);\n",
              "    animation:\n",
              "      spin 1s steps(1) infinite;\n",
              "  }\n",
              "\n",
              "  @keyframes spin {\n",
              "    0% {\n",
              "      border-color: transparent;\n",
              "      border-bottom-color: var(--fill-color);\n",
              "      border-left-color: var(--fill-color);\n",
              "    }\n",
              "    20% {\n",
              "      border-color: transparent;\n",
              "      border-left-color: var(--fill-color);\n",
              "      border-top-color: var(--fill-color);\n",
              "    }\n",
              "    30% {\n",
              "      border-color: transparent;\n",
              "      border-left-color: var(--fill-color);\n",
              "      border-top-color: var(--fill-color);\n",
              "      border-right-color: var(--fill-color);\n",
              "    }\n",
              "    40% {\n",
              "      border-color: transparent;\n",
              "      border-right-color: var(--fill-color);\n",
              "      border-top-color: var(--fill-color);\n",
              "    }\n",
              "    60% {\n",
              "      border-color: transparent;\n",
              "      border-right-color: var(--fill-color);\n",
              "    }\n",
              "    80% {\n",
              "      border-color: transparent;\n",
              "      border-right-color: var(--fill-color);\n",
              "      border-bottom-color: var(--fill-color);\n",
              "    }\n",
              "    90% {\n",
              "      border-color: transparent;\n",
              "      border-bottom-color: var(--fill-color);\n",
              "    }\n",
              "  }\n",
              "</style>\n",
              "\n",
              "  <script>\n",
              "    async function quickchart(key) {\n",
              "      const quickchartButtonEl =\n",
              "        document.querySelector('#' + key + ' button');\n",
              "      quickchartButtonEl.disabled = true;  // To prevent multiple clicks.\n",
              "      quickchartButtonEl.classList.add('colab-df-spinner');\n",
              "      try {\n",
              "        const charts = await google.colab.kernel.invokeFunction(\n",
              "            'suggestCharts', [key], {});\n",
              "      } catch (error) {\n",
              "        console.error('Error during call to suggestCharts:', error);\n",
              "      }\n",
              "      quickchartButtonEl.classList.remove('colab-df-spinner');\n",
              "      quickchartButtonEl.classList.add('colab-df-quickchart-complete');\n",
              "    }\n",
              "    (() => {\n",
              "      let quickchartButtonEl =\n",
              "        document.querySelector('#df-cb11f490-7a39-4955-94bc-1f2f7d849ca8 button');\n",
              "      quickchartButtonEl.style.display =\n",
              "        google.colab.kernel.accessAllowed ? 'block' : 'none';\n",
              "    })();\n",
              "  </script>\n",
              "</div>\n",
              "\n",
              "    </div>\n",
              "  </div>\n"
            ],
            "text/plain": [
              "   HospitalID  PatientID  InvoiceAmount  Age  Smoker  BMI  DrugsAlc  Employed  \\\n",
              "0      220135     105947     101.383048   31       0   28         0         1   \n",
              "1      510062     111365      43.312137   28       1   30         1         0   \n",
              "2      330151     143384       0.000000   33       1   20         1         0   \n",
              "3      150149     149265     428.536208   59       1   34         0         0   \n",
              "4      240014     158168      55.444520   30       1   32         1         0   \n",
              "\n",
              "   Diabetic  Pregnant  PreCondition  Feedback HomeState  \n",
              "0         1         0             0        -1        ME  \n",
              "1         1         0             0         1        WV  \n",
              "2         0         0             0         0        NY  \n",
              "3         1         0             0         0        NM  \n",
              "4         1         1             1        -1        MN  "
            ]
          },
          "execution_count": 50,
          "metadata": {},
          "output_type": "execute_result"
        }
      ],
      "source": [
        "df.head()"
      ]
    },
    {
      "cell_type": "code",
      "execution_count": null,
      "metadata": {
        "colab": {
          "base_uri": "https://localhost:8080/"
        },
        "id": "YGCsXA2qTyha",
        "outputId": "077fe853-5184-4eec-e6e7-da27e5e93f41"
      },
      "outputs": [
        {
          "name": "stdout",
          "output_type": "stream",
          "text": [
            "mysqldump: [Warning] Using a password on the command line interface can be insecure.\n"
          ]
        }
      ],
      "source": [
        "!mysqldump -u root -proot hospital > hospital.sql"
      ]
    },
    {
      "cell_type": "code",
      "execution_count": null,
      "metadata": {
        "colab": {
          "base_uri": "https://localhost:8080/"
        },
        "id": "h57mZxvjTyha",
        "outputId": "caf35286-372d-40b3-adb1-f9b2e82e161a"
      },
      "outputs": [
        {
          "name": "stdout",
          "output_type": "stream",
          "text": [
            "total 64K\n",
            "drwxr-xr-x 4 root root 4.0K Feb  5 20:33 .config\n",
            "drwxr-xr-x 1 root root 4.0K Feb  5 20:33 sample_data\n",
            "drwxr-xr-x 1 root root 4.0K Feb  7 15:57 ..\n",
            "-rw-r--r-- 1 root root  16K Feb  7 16:00 lesson.db\n",
            "-rw-r--r-- 1 root root 2.1K Feb  7 16:01 library.sql\n",
            "drwxr-xr-x 1 root root 4.0K Feb  7 16:03 .\n",
            "-rw-r--r-- 1 root root  26K Feb  7 16:03 hospital.sql\n"
          ]
        }
      ],
      "source": [
        "!ls -althr"
      ]
    },
    {
      "cell_type": "markdown",
      "metadata": {
        "id": "fYnoe1rTR1TJ"
      },
      "source": [
        "\n",
        "\n",
        "---\n",
        "\n"
      ]
    }
  ],
  "metadata": {
    "colab": {
      "provenance": [],
      "include_colab_link": true
    },
    "kernelspec": {
      "display_name": "Python 3",
      "name": "python3"
    },
    "language_info": {
      "name": "python"
    }
  },
  "nbformat": 4,
  "nbformat_minor": 0
}